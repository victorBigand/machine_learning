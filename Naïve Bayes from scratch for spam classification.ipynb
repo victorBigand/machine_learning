{
 "cells": [
  {
   "cell_type": "markdown",
   "metadata": {
    "toc": true
   },
   "source": [
    "<h1>Table of Contents<span class=\"tocSkip\"></span></h1>\n",
    "<div class=\"toc\"><ul class=\"toc-item\"><li><span><a href=\"#Imports\" data-toc-modified-id=\"Imports-1\"><span class=\"toc-item-num\">1&nbsp;&nbsp;</span>Imports</a></span></li><li><span><a href=\"#Loading-the-data\" data-toc-modified-id=\"Loading-the-data-2\"><span class=\"toc-item-num\">2&nbsp;&nbsp;</span>Loading the data</a></span></li><li><span><a href=\"#Naïve-Bayes\" data-toc-modified-id=\"Naïve-Bayes-3\"><span class=\"toc-item-num\">3&nbsp;&nbsp;</span>Naïve Bayes</a></span><ul class=\"toc-item\"><li><span><a href=\"#Train\" data-toc-modified-id=\"Train-3.1\"><span class=\"toc-item-num\">3.1&nbsp;&nbsp;</span>Train</a></span></li><li><span><a href=\"#Predict\" data-toc-modified-id=\"Predict-3.2\"><span class=\"toc-item-num\">3.2&nbsp;&nbsp;</span>Predict</a></span></li></ul></li><li><span><a href=\"#With-Logistic-Regression\" data-toc-modified-id=\"With-Logistic-Regression-4\"><span class=\"toc-item-num\">4&nbsp;&nbsp;</span>With Logistic Regression</a></span></li></ul></div>"
   ]
  },
  {
   "cell_type": "markdown",
   "metadata": {},
   "source": [
    "# Machine Learning Homework 1 - Spam Filtering with Multinomial NB"
   ]
  },
  {
   "cell_type": "markdown",
   "metadata": {},
   "source": [
    "## Imports"
   ]
  },
  {
   "cell_type": "code",
   "execution_count": 36,
   "metadata": {},
   "outputs": [],
   "source": [
    "import os\n",
    "import numpy as np\n",
    "from sklearn.naive_bayes import MultinomialNB\n",
    "from sklearn.metrics import confusion_matrix, f1_score\n",
    "from sklearn.model_selection import train_test_split\n",
    "from sklearn.linear_model import LogisticRegression\n",
    "import seaborn as sns\n",
    "from collections import Counter\n",
    "import matplotlib.pyplot as plt\n",
    "from nltk.stem import WordNetLemmatizer \n",
    "from nltk import word_tokenize\n",
    "from nltk.corpus import stopwords\n",
    "%matplotlib inline"
   ]
  },
  {
   "cell_type": "markdown",
   "metadata": {},
   "source": [
    "## Loading the data"
   ]
  },
  {
   "cell_type": "code",
   "execution_count": 37,
   "metadata": {},
   "outputs": [],
   "source": [
    "with open('D:\\\\Users\\\\Victor\\\\Documents\\\\ING 5\\\\ML\\\\messages.txt') as file:\n",
    "    messages, X, Y = [], [], []\n",
    "    for line in file:\n",
    "        messages.append(word_tokenize(line.lower()))\n",
    "    \n",
    "    for el in messages:\n",
    "        X.append(el[1:])\n",
    "        Y.append(1) if el[0] =='spam' else Y.append(0)"
   ]
  },
  {
   "cell_type": "code",
   "execution_count": 38,
   "metadata": {},
   "outputs": [],
   "source": [
    "lemma = WordNetLemmatizer()\n",
    "stopW = stopwords.words('english')\n",
    "\n",
    "def preprocessing(sent):\n",
    "    tokens = [lemma.lemmatize(lemma.lemmatize(lemma.lemmatize(word,pos='a'),pos='v'),pos='n') for word in sent if word not in stopW]\n",
    "    return tokens\n",
    "\n",
    "messages_preprocessed = [preprocessing(sent) for sent in X]"
   ]
  },
  {
   "cell_type": "markdown",
   "metadata": {},
   "source": [
    "Let's divide the data into training and testing: 80/20"
   ]
  },
  {
   "cell_type": "code",
   "execution_count": 39,
   "metadata": {},
   "outputs": [],
   "source": [
    "X_train, X_test, Y_train, Y_test = train_test_split(messages_preprocessed, Y, test_size = 0.2)"
   ]
  },
  {
   "cell_type": "code",
   "execution_count": 40,
   "metadata": {},
   "outputs": [
    {
     "name": "stdout",
     "output_type": "stream",
     "text": [
      "There are 7072 entries in the dictionary\n"
     ]
    }
   ],
   "source": [
    "allWords = [word for sentence in X_train for word in sentence]\n",
    "\n",
    "dictionary = Counter(allWords)\n",
    "print('There are {} entries in the dictionary'.format(len(dictionary)))"
   ]
  },
  {
   "cell_type": "markdown",
   "metadata": {},
   "source": [
    "Let's get rid of words with non-alphanumeric characters, of length 1 and appearing only once in the corpus"
   ]
  },
  {
   "cell_type": "code",
   "execution_count": 41,
   "metadata": {},
   "outputs": [
    {
     "name": "stdout",
     "output_type": "stream",
     "text": [
      "There are 3000 entries in the dictionary\n"
     ]
    }
   ],
   "source": [
    "for word in list(dictionary):\n",
    "    if (word.isalpha()==False):\n",
    "        del dictionary[word]\n",
    "    if (len(word)==1):\n",
    "        del dictionary[word]\n",
    "dictionary=dictionary.most_common(3000)\n",
    "print('There are {} entries in the dictionary'.format(len(dictionary)))"
   ]
  },
  {
   "cell_type": "code",
   "execution_count": 42,
   "metadata": {},
   "outputs": [],
   "source": [
    "def features_matrix(X):\n",
    "    features_matrix = np.zeros((len(X),len(dictionary)))\n",
    "\n",
    "    for sent_id, sentence in enumerate(X):\n",
    "        for word in sentence:\n",
    "            for id_dic, dic in enumerate(dictionary):\n",
    "                if(dic[0]==word):\n",
    "                    features_matrix[sent_id][id_dic] = sentence.count(word)\n",
    "    return features_matrix"
   ]
  },
  {
   "cell_type": "code",
   "execution_count": 43,
   "metadata": {},
   "outputs": [],
   "source": [
    "features_matrix_train = features_matrix(X_train)"
   ]
  },
  {
   "cell_type": "markdown",
   "metadata": {},
   "source": [
    "## Naïve Bayes\n",
    "### Train"
   ]
  },
  {
   "cell_type": "code",
   "execution_count": 44,
   "metadata": {},
   "outputs": [],
   "source": [
    "Py1 , Py0 = np.zeros((3000,1)), np.zeros((3000,1))\n",
    "\n",
    "for j, x in enumerate(features_matrix_train):\n",
    "    for pos, feature in enumerate(x):\n",
    "        if feature>0:\n",
    "            if Y_train[j]==1:\n",
    "                Py1[pos]+=feature\n",
    "            else:\n",
    "                Py0[pos]+=feature\n",
    "Py1 = (Py1+1)/(np.count_nonzero(Y_train)+2)\n",
    "Py0 = (Py0+1)/((len(Y_train)-np.count_nonzero(Y_train))+2)\n",
    "PY = (np.sum(Y_train)+1)/(len(Y_train)+2)"
   ]
  },
  {
   "cell_type": "markdown",
   "metadata": {},
   "source": [
    "### Predict"
   ]
  },
  {
   "cell_type": "code",
   "execution_count": 45,
   "metadata": {},
   "outputs": [],
   "source": [
    "features_matrix_test = features_matrix(X_test)"
   ]
  },
  {
   "cell_type": "code",
   "execution_count": 46,
   "metadata": {},
   "outputs": [],
   "source": [
    "def predict(test):\n",
    "        \n",
    "    mat0, mat1 = [], []\n",
    "    \n",
    "    for i, el in enumerate(test):\n",
    "        if el == 0:\n",
    "            mat0.append(1 -Py0[i])\n",
    "            mat1.append(1 - Py1[i])\n",
    "        else:\n",
    "            mat0.append(Py0[i]*el)\n",
    "            mat1.append(Py1[i]*el)\n",
    "    \n",
    "    prod0 = np.product(mat0)\n",
    "    prod1 = np.product(mat1)\n",
    "    \n",
    "    return np.argmax([(prod0*(1-PY)), (prod1*PY)])"
   ]
  },
  {
   "cell_type": "code",
   "execution_count": 47,
   "metadata": {},
   "outputs": [],
   "source": [
    "Y_pred = []\n",
    "for el in features_matrix_test:\n",
    "    Y_pred.append(predict(el.reshape(3000,1)))"
   ]
  },
  {
   "cell_type": "code",
   "execution_count": 48,
   "metadata": {},
   "outputs": [],
   "source": [
    "def accuracy(Y_pred, Y_test):\n",
    "    acc = 0\n",
    "    for i, el in enumerate(Y_pred):\n",
    "        if el == Y_test[i]:\n",
    "            acc += 1\n",
    "    return acc/len(Y_pred)"
   ]
  },
  {
   "cell_type": "code",
   "execution_count": 49,
   "metadata": {
    "scrolled": true
   },
   "outputs": [
    {
     "name": "stdout",
     "output_type": "stream",
     "text": [
      "The Classifier has an accuracy of 0.981 and F1 score of 0.9140271493212669\n"
     ]
    },
    {
     "data": {
      "image/png": "[encoded data removed]",
      "text/plain": [
       "<Figure size 432x288 with 2 Axes>"
      ]
     },
     "metadata": {},
     "output_type": "display_data"
    }
   ],
   "source": [
    "sns.heatmap(confusion_matrix(Y_test, Y_pred), annot=True)\n",
    "plt.title('Confusion matrix NB')\n",
    "plt.xlabel('Predictions')\n",
    "plt.ylabel('True labels')\n",
    "print('The Classifier has an accuracy of {} and F1 score of {}'.format(accuracy(Y_pred, Y_test), f1_score(Y_test, Y_pred)))\n",
    "plt.show()"
   ]
  },
  {
   "cell_type": "markdown",
   "metadata": {},
   "source": [
    "## With Logistic Regression"
   ]
  },
  {
   "cell_type": "code",
   "execution_count": 50,
   "metadata": {},
   "outputs": [],
   "source": [
    "log_reg = LogisticRegression()\n",
    "log_reg.fit(features_matrix_train, Y_train)\n",
    "y_log_reg_pred = log_reg.predict(features_matrix_test)"
   ]
  },
  {
   "cell_type": "code",
   "execution_count": 51,
   "metadata": {},
   "outputs": [
    {
     "name": "stdout",
     "output_type": "stream",
     "text": [
      "The Logistic Regression Classifier has an accuracy of 0.98 and F1 score of 0.912280701754386\n"
     ]
    },
    {
     "data": {
      "image/png": "[encoded data removed]",
      "text/plain": [
       "<Figure size 432x288 with 2 Axes>"
      ]
     },
     "metadata": {},
     "output_type": "display_data"
    }
   ],
   "source": [
    "sns.heatmap(confusion_matrix(Y_test, y_log_reg_pred), annot=True)\n",
    "plt.title('Logistic Regression Confusion Matrix')\n",
    "plt.xlabel('Predictions')\n",
    "plt.ylabel('True labels')\n",
    "print('The Logistic Regression Classifier has an accuracy of {} and F1 score of {}'.format(accuracy(y_log_reg_pred, Y_test), f1_score(Y_test, y_log_reg_pred)))\n",
    "plt.show()"
   ]
  },
  {
   "cell_type": "code",
   "execution_count": null,
   "metadata": {},
   "outputs": [],
   "source": []
  }
 ],
 "metadata": {
  "kernelspec": {
   "display_name": "Python 3",
   "language": "python",
   "name": "python3"
  },
  "language_info": {
   "codemirror_mode": {
    "name": "ipython",
    "version": 3
   },
   "file_extension": ".py",
   "mimetype": "text/x-python",
   "name": "python",
   "nbconvert_exporter": "python",
   "pygments_lexer": "ipython3",
   "version": "3.5.0"
  },
  "toc": {
   "base_numbering": 1,
   "nav_menu": {},
   "number_sections": true,
   "sideBar": false,
   "skip_h1_title": true,
   "title_cell": "Table of Contents",
   "title_sidebar": "Contents",
   "toc_cell": true,
   "toc_position": {
    "height": "159px",
    "left": "1081px",
    "top": "110px",
    "width": "199px"
   },
   "toc_section_display": true,
   "toc_window_display": true
  }
 },
 "nbformat": 4,
 "nbformat_minor": 2
}
