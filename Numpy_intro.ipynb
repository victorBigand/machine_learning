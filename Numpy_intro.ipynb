{
 "cells": [
  {
   "cell_type": "code",
   "execution_count": 243,
   "metadata": {},
   "outputs": [],
   "source": [
    "import numpy as np"
   ]
  },
  {
   "cell_type": "code",
   "execution_count": 244,
   "metadata": {},
   "outputs": [
    {
     "name": "stdout",
     "output_type": "stream",
     "text": [
      "[4, 6, 2, 5]\n"
     ]
    }
   ],
   "source": [
    "list1 = [4,6,2]\n",
    "list1.append(5)\n",
    "print(list1)"
   ]
  },
  {
   "cell_type": "code",
   "execution_count": 245,
   "metadata": {},
   "outputs": [],
   "source": [
    "#transform an list into a numpy array\n",
    "numpy_array = np.array(list1)"
   ]
  },
  {
   "cell_type": "code",
   "execution_count": 246,
   "metadata": {},
   "outputs": [
    {
     "name": "stdout",
     "output_type": "stream",
     "text": [
      "[4 6 2 5]\n"
     ]
    }
   ],
   "source": [
    "print(numpy_array)"
   ]
  },
  {
   "cell_type": "code",
   "execution_count": 247,
   "metadata": {},
   "outputs": [],
   "source": [
    "#generates an array from a csv or a txt\n",
    "tree = np.genfromtxt(\"iris-data-clean.csv\",delimiter=\",\")"
   ]
  },
  {
   "cell_type": "code",
   "execution_count": 248,
   "metadata": {},
   "outputs": [],
   "source": [
    "#save an array into a text or a csv \n",
    "np.savetxt('testnp.txt',list1,delimiter=\" \")"
   ]
  },
  {
   "cell_type": "code",
   "execution_count": 249,
   "metadata": {},
   "outputs": [
    {
     "name": "stdout",
     "output_type": "stream",
     "text": [
      "[4 6 2 5]\n"
     ]
    }
   ],
   "source": [
    "#by default load as float\n",
    "list2 = np.genfromtxt('testnp.txt',delimiter=\" \",dtype=int)\n",
    "print(list2)"
   ]
  },
  {
   "cell_type": "code",
   "execution_count": 250,
   "metadata": {},
   "outputs": [
    {
     "data": {
      "text/plain": [
       "array([[ 0.57695021,  0.81194649, -0.72327667,  0.35064305],\n",
       "       [ 0.84336844, -0.11256186,  0.91252638, -0.19408622],\n",
       "       [-0.08071288,  0.88762643, -0.91121176, -0.84189914]])"
      ]
     },
     "execution_count": 250,
     "metadata": {},
     "output_type": "execute_result"
    }
   ],
   "source": [
    "#generates a random nb array\n",
    "np.random.rand(3,4)*2-1"
   ]
  },
  {
   "cell_type": "code",
   "execution_count": 251,
   "metadata": {},
   "outputs": [
    {
     "data": {
      "text/plain": [
       "array([[0, 9],\n",
       "       [8, 3],\n",
       "       [5, 6]])"
      ]
     },
     "execution_count": 251,
     "metadata": {},
     "output_type": "execute_result"
    }
   ],
   "source": [
    "#generates an array of random int\n",
    "np.random.randint(10,size=(3,2))"
   ]
  },
  {
   "cell_type": "code",
   "execution_count": 252,
   "metadata": {},
   "outputs": [
    {
     "data": {
      "text/plain": [
       "array([[0, 0, 0, 0],\n",
       "       [0, 0, 0, 0],\n",
       "       [0, 0, 0, 0]])"
      ]
     },
     "execution_count": 252,
     "metadata": {},
     "output_type": "execute_result"
    }
   ],
   "source": [
    "np.zeros((3,4),dtype=int)"
   ]
  },
  {
   "cell_type": "code",
   "execution_count": 253,
   "metadata": {},
   "outputs": [
    {
     "name": "stdout",
     "output_type": "stream",
     "text": [
      "750\n",
      "(150, 5)\n"
     ]
    }
   ],
   "source": [
    "print(tree.size)\n",
    "print(tree.shape)"
   ]
  },
  {
   "cell_type": "code",
   "execution_count": 254,
   "metadata": {},
   "outputs": [
    {
     "name": "stdout",
     "output_type": "stream",
     "text": [
      "float64\n"
     ]
    },
    {
     "data": {
      "text/plain": [
       "array([[-2147483648, -2147483648, -2147483648, -2147483648, -2147483648],\n",
       "       [          5,           3,           1,           0, -2147483648],\n",
       "       [          4,           3,           1,           0, -2147483648],\n",
       "       [          4,           3,           1,           0, -2147483648],\n",
       "       [          4,           3,           1,           0, -2147483648],\n",
       "       [          5,           3,           1,           0, -2147483648],\n",
       "       [          5,           3,           1,           0, -2147483648],\n",
       "       [          4,           3,           1,           0, -2147483648],\n",
       "       [          5,           3,           1,           0, -2147483648],\n",
       "       [          4,           2,           1,           0, -2147483648],\n",
       "       [          4,           3,           1,           0, -2147483648],\n",
       "       [          5,           3,           1,           0, -2147483648],\n",
       "       [          4,           3,           1,           0, -2147483648],\n",
       "       [          4,           3,           1,           0, -2147483648],\n",
       "       [          5,           3,           1,           0, -2147483648],\n",
       "       [          5,           4,           1,           0, -2147483648],\n",
       "       [          5,           4,           1,           0, -2147483648],\n",
       "       [          5,           3,           1,           0, -2147483648],\n",
       "       [          5,           3,           1,           0, -2147483648],\n",
       "       [          5,           3,           1,           0, -2147483648],\n",
       "       [          5,           3,           1,           0, -2147483648],\n",
       "       [          5,           3,           1,           0, -2147483648],\n",
       "       [          5,           3,           1,           0, -2147483648],\n",
       "       [          4,           3,           1,           0, -2147483648],\n",
       "       [          5,           3,           1,           0, -2147483648],\n",
       "       [          4,           3,           1,           0, -2147483648],\n",
       "       [          5,           3,           1,           0, -2147483648],\n",
       "       [          5,           3,           1,           0, -2147483648],\n",
       "       [          5,           3,           1,           0, -2147483648],\n",
       "       [          5,           3,           1,           0, -2147483648],\n",
       "       [          4,           3,           1,           0, -2147483648],\n",
       "       [          4,           3,           1,           0, -2147483648],\n",
       "       [          5,           3,           1,           0, -2147483648],\n",
       "       [          5,           4,           1,           0, -2147483648],\n",
       "       [          5,           4,           1,           0, -2147483648],\n",
       "       [          4,           3,           1,           0, -2147483648],\n",
       "       [          5,           3,           1,           0, -2147483648],\n",
       "       [          5,           3,           1,           0, -2147483648],\n",
       "       [          4,           3,           1,           0, -2147483648],\n",
       "       [          4,           3,           1,           0, -2147483648],\n",
       "       [          5,           3,           1,           0, -2147483648],\n",
       "       [          5,           3,           1,           0, -2147483648],\n",
       "       [          4,           3,           1,           0, -2147483648],\n",
       "       [          5,           3,           1,           0, -2147483648],\n",
       "       [          5,           3,           1,           0, -2147483648],\n",
       "       [          4,           3,           1,           0, -2147483648],\n",
       "       [          5,           3,           1,           0, -2147483648],\n",
       "       [          4,           3,           1,           0, -2147483648],\n",
       "       [          5,           3,           1,           0, -2147483648],\n",
       "       [          5,           3,           1,           0, -2147483648],\n",
       "       [          7,           3,           4,           1, -2147483648],\n",
       "       [          6,           3,           4,           1, -2147483648],\n",
       "       [          6,           3,           4,           1, -2147483648],\n",
       "       [          5,           2,           4,           1, -2147483648],\n",
       "       [          6,           2,           4,           1, -2147483648],\n",
       "       [          5,           2,           4,           1, -2147483648],\n",
       "       [          6,           3,           4,           1, -2147483648],\n",
       "       [          4,           2,           3,           1, -2147483648],\n",
       "       [          6,           2,           4,           1, -2147483648],\n",
       "       [          5,           2,           3,           1, -2147483648],\n",
       "       [          5,           2,           3,           1, -2147483648],\n",
       "       [          5,           3,           4,           1, -2147483648],\n",
       "       [          6,           2,           4,           1, -2147483648],\n",
       "       [          6,           2,           4,           1, -2147483648],\n",
       "       [          5,           2,           3,           1, -2147483648],\n",
       "       [          6,           3,           4,           1, -2147483648],\n",
       "       [          5,           3,           4,           1, -2147483648],\n",
       "       [          5,           2,           4,           1, -2147483648],\n",
       "       [          6,           2,           4,           1, -2147483648],\n",
       "       [          5,           2,           3,           1, -2147483648],\n",
       "       [          5,           3,           4,           1, -2147483648],\n",
       "       [          6,           2,           4,           1, -2147483648],\n",
       "       [          6,           2,           4,           1, -2147483648],\n",
       "       [          6,           2,           4,           1, -2147483648],\n",
       "       [          6,           2,           4,           1, -2147483648],\n",
       "       [          6,           3,           4,           1, -2147483648],\n",
       "       [          6,           2,           4,           1, -2147483648],\n",
       "       [          6,           3,           5,           1, -2147483648],\n",
       "       [          6,           2,           4,           1, -2147483648],\n",
       "       [          5,           2,           3,           1, -2147483648],\n",
       "       [          5,           2,           3,           1, -2147483648],\n",
       "       [          5,           2,           3,           1, -2147483648],\n",
       "       [          5,           2,           3,           1, -2147483648],\n",
       "       [          6,           2,           5,           1, -2147483648],\n",
       "       [          5,           3,           4,           1, -2147483648],\n",
       "       [          6,           3,           4,           1, -2147483648],\n",
       "       [          6,           3,           4,           1, -2147483648],\n",
       "       [          6,           2,           4,           1, -2147483648],\n",
       "       [          5,           3,           4,           1, -2147483648],\n",
       "       [          5,           2,           4,           1, -2147483648],\n",
       "       [          5,           2,           4,           1, -2147483648],\n",
       "       [          6,           3,           4,           1, -2147483648],\n",
       "       [          5,           2,           4,           1, -2147483648],\n",
       "       [          5,           2,           3,           1, -2147483648],\n",
       "       [          5,           2,           4,           1, -2147483648],\n",
       "       [          5,           3,           4,           1, -2147483648],\n",
       "       [          5,           2,           4,           1, -2147483648],\n",
       "       [          6,           2,           4,           1, -2147483648],\n",
       "       [          5,           2,           3,           1, -2147483648],\n",
       "       [          5,           2,           4,           1, -2147483648],\n",
       "       [          6,           3,           6,           2, -2147483648],\n",
       "       [          5,           2,           5,           1, -2147483648],\n",
       "       [          7,           3,           5,           2, -2147483648],\n",
       "       [          6,           2,           5,           1, -2147483648],\n",
       "       [          6,           3,           5,           2, -2147483648],\n",
       "       [          7,           3,           6,           2, -2147483648],\n",
       "       [          4,           2,           4,           1, -2147483648],\n",
       "       [          7,           2,           6,           1, -2147483648],\n",
       "       [          6,           2,           5,           1, -2147483648],\n",
       "       [          7,           3,           6,           2, -2147483648],\n",
       "       [          6,           3,           5,           2, -2147483648],\n",
       "       [          6,           2,           5,           1, -2147483648],\n",
       "       [          6,           3,           5,           2, -2147483648],\n",
       "       [          5,           2,           5,           2, -2147483648],\n",
       "       [          5,           2,           5,           2, -2147483648],\n",
       "       [          6,           3,           5,           2, -2147483648],\n",
       "       [          6,           3,           5,           1, -2147483648],\n",
       "       [          7,           3,           6,           2, -2147483648],\n",
       "       [          7,           2,           6,           2, -2147483648],\n",
       "       [          6,           2,           5,           1, -2147483648],\n",
       "       [          6,           3,           5,           2, -2147483648],\n",
       "       [          5,           2,           4,           2, -2147483648],\n",
       "       [          5,           2,           6,           2, -2147483648],\n",
       "       [          6,           2,           4,           1, -2147483648],\n",
       "       [          6,           3,           5,           2, -2147483648],\n",
       "       [          7,           3,           6,           1, -2147483648],\n",
       "       [          6,           2,           4,           1, -2147483648],\n",
       "       [          6,           3,           4,           1, -2147483648],\n",
       "       [          6,           2,           5,           2, -2147483648],\n",
       "       [          7,           3,           5,           1, -2147483648],\n",
       "       [          7,           2,           6,           1, -2147483648],\n",
       "       [          7,           3,           6,           2, -2147483648],\n",
       "       [          6,           2,           5,           2, -2147483648],\n",
       "       [          6,           2,           5,           1, -2147483648],\n",
       "       [          6,           2,           5,           1, -2147483648],\n",
       "       [          7,           3,           6,           2, -2147483648],\n",
       "       [          6,           3,           5,           2, -2147483648],\n",
       "       [          6,           3,           5,           1, -2147483648],\n",
       "       [          6,           3,           4,           1, -2147483648],\n",
       "       [          6,           3,           5,           2, -2147483648],\n",
       "       [          6,           3,           5,           2, -2147483648],\n",
       "       [          6,           3,           5,           2, -2147483648],\n",
       "       [          5,           2,           5,           1, -2147483648],\n",
       "       [          6,           3,           5,           2, -2147483648],\n",
       "       [          6,           3,           5,           2, -2147483648],\n",
       "       [          6,           3,           5,           2, -2147483648],\n",
       "       [          6,           2,           5,           2, -2147483648],\n",
       "       [          6,           3,           5,           2, -2147483648],\n",
       "       [          6,           3,           5,           2, -2147483648],\n",
       "       [          5,           3,           5,           1, -2147483648]])"
      ]
     },
     "execution_count": 254,
     "metadata": {},
     "output_type": "execute_result"
    }
   ],
   "source": [
    "#convertir le type d'un array\n",
    "print(tree.dtype)\n",
    "tree.astype(int)"
   ]
  },
  {
   "cell_type": "code",
   "execution_count": 255,
   "metadata": {},
   "outputs": [
    {
     "data": {
      "text/plain": [
       "[[nan, nan, nan, nan, nan],\n",
       " [5.1, 3.5, 1.4, 0.2, nan],\n",
       " [4.9, 3.0, 1.4, 0.2, nan],\n",
       " [4.7, 3.2, 1.3, 0.2, nan],\n",
       " [4.6, 3.1, 1.5, 0.2, nan],\n",
       " [5.0, 3.6, 1.4, 0.2, nan],\n",
       " [5.4, 3.9, 1.7, 0.4, nan],\n",
       " [4.6, 3.4, 1.4, 0.3, nan],\n",
       " [5.0, 3.4, 1.5, 0.24999999999999997, nan],\n",
       " [4.4, 2.9, 1.4, 0.24999999999999997, nan],\n",
       " [4.9, 3.1, 1.5, 0.24999999999999997, nan],\n",
       " [5.4, 3.7, 1.5, 0.24999999999999997, nan],\n",
       " [4.8, 3.4, 1.6, 0.24999999999999997, nan],\n",
       " [4.8, 3.0, 1.4, 0.1, nan],\n",
       " [5.7, 3.0, 1.1, 0.1, nan],\n",
       " [5.8, 4.0, 1.2, 0.2, nan],\n",
       " [5.7, 4.4, 1.5, 0.4, nan],\n",
       " [5.4, 3.9, 1.3, 0.4, nan],\n",
       " [5.1, 3.5, 1.4, 0.3, nan],\n",
       " [5.7, 3.8, 1.7, 0.3, nan],\n",
       " [5.1, 3.8, 1.5, 0.3, nan],\n",
       " [5.4, 3.4, 1.7, 0.2, nan],\n",
       " [5.1, 3.7, 1.5, 0.4, nan],\n",
       " [4.6, 3.6, 1.0, 0.2, nan],\n",
       " [5.1, 3.3, 1.7, 0.5, nan],\n",
       " [4.8, 3.4, 1.9, 0.2, nan],\n",
       " [5.0, 3.0, 1.6, 0.2, nan],\n",
       " [5.0, 3.4, 1.6, 0.4, nan],\n",
       " [5.2, 3.5, 1.5, 0.2, nan],\n",
       " [5.2, 3.4, 1.4, 0.2, nan],\n",
       " [4.7, 3.2, 1.6, 0.2, nan],\n",
       " [4.8, 3.1, 1.6, 0.2, nan],\n",
       " [5.4, 3.4, 1.5, 0.4, nan],\n",
       " [5.2, 4.1, 1.5, 0.1, nan],\n",
       " [5.5, 4.2, 1.4, 0.2, nan],\n",
       " [4.9, 3.1, 1.5, 0.1, nan],\n",
       " [5.0, 3.2, 1.2, 0.2, nan],\n",
       " [5.5, 3.5, 1.3, 0.2, nan],\n",
       " [4.9, 3.1, 1.5, 0.1, nan],\n",
       " [4.4, 3.0, 1.3, 0.2, nan],\n",
       " [5.1, 3.4, 1.5, 0.2, nan],\n",
       " [5.0, 3.5, 1.3, 0.3, nan],\n",
       " [4.4, 3.2, 1.3, 0.2, nan],\n",
       " [5.0, 3.5, 1.6, 0.6, nan],\n",
       " [5.1, 3.8, 1.9, 0.4, nan],\n",
       " [4.8, 3.0, 1.4, 0.3, nan],\n",
       " [5.1, 3.8, 1.6, 0.2, nan],\n",
       " [4.6, 3.2, 1.4, 0.2, nan],\n",
       " [5.3, 3.7, 1.5, 0.2, nan],\n",
       " [5.0, 3.3, 1.4, 0.2, nan],\n",
       " [7.0, 3.2, 4.7, 1.4, nan],\n",
       " [6.4, 3.2, 4.5, 1.5, nan],\n",
       " [6.9, 3.1, 4.9, 1.5, nan],\n",
       " [5.5, 2.3, 4.0, 1.3, nan],\n",
       " [6.5, 2.8, 4.6, 1.5, nan],\n",
       " [5.7, 2.8, 4.5, 1.3, nan],\n",
       " [6.3, 3.3, 4.7, 1.6, nan],\n",
       " [4.9, 2.4, 3.3, 1.0, nan],\n",
       " [6.6, 2.9, 4.6, 1.3, nan],\n",
       " [5.2, 2.7, 3.9, 1.4, nan],\n",
       " [5.0, 2.0, 3.5, 1.0, nan],\n",
       " [5.9, 3.0, 4.2, 1.5, nan],\n",
       " [6.0, 2.2, 4.0, 1.0, nan],\n",
       " [6.1, 2.9, 4.7, 1.4, nan],\n",
       " [5.6, 2.9, 3.6, 1.3, nan],\n",
       " [6.7, 3.1, 4.4, 1.4, nan],\n",
       " [5.6, 3.0, 4.5, 1.5, nan],\n",
       " [5.8, 2.7, 4.1, 1.0, nan],\n",
       " [6.2, 2.2, 4.5, 1.5, nan],\n",
       " [5.6, 2.5, 3.9, 1.1, nan],\n",
       " [5.9, 3.2, 4.8, 1.8, nan],\n",
       " [6.1, 2.8, 4.0, 1.3, nan],\n",
       " [6.3, 2.5, 4.9, 1.5, nan],\n",
       " [6.1, 2.8, 4.7, 1.2, nan],\n",
       " [6.4, 2.9, 4.3, 1.3, nan],\n",
       " [6.6, 3.0, 4.4, 1.4, nan],\n",
       " [6.8, 2.8, 4.8, 1.4, nan],\n",
       " [6.7, 3.0, 5.0, 1.7, nan],\n",
       " [6.0, 2.9, 4.5, 1.5, nan],\n",
       " [5.7, 2.6, 3.5, 1.0, nan],\n",
       " [5.5, 2.4, 3.8, 1.1, nan],\n",
       " [5.5, 2.4, 3.7, 1.0, nan],\n",
       " [5.8, 2.7, 3.9, 1.2, nan],\n",
       " [6.0, 2.8, 5.1, 1.6, nan],\n",
       " [5.4, 3.0, 4.5, 1.5, nan],\n",
       " [6.0, 3.4, 4.5, 1.6, nan],\n",
       " [6.7, 3.1, 4.7, 1.5, nan],\n",
       " [6.3, 2.3, 4.4, 1.3, nan],\n",
       " [5.6, 3.0, 4.1, 1.3, nan],\n",
       " [5.5, 2.5, 4.0, 1.3, nan],\n",
       " [5.5, 2.6, 4.4, 1.2, nan],\n",
       " [6.1, 3.0, 4.6, 1.4, nan],\n",
       " [5.8, 2.6, 4.0, 1.2, nan],\n",
       " [5.0, 2.3, 3.3, 1.0, nan],\n",
       " [5.6, 2.7, 4.2, 1.3, nan],\n",
       " [5.7, 3.0, 4.2, 1.2, nan],\n",
       " [5.7, 2.9, 4.2, 1.3, nan],\n",
       " [6.2, 2.9, 4.3, 1.3, nan],\n",
       " [5.1, 2.5, 3.0, 1.1, nan],\n",
       " [5.7, 2.8, 4.1, 1.3, nan],\n",
       " [6.3, 3.3, 6.0, 2.5, nan],\n",
       " [5.8, 2.7, 5.1, 1.9, nan],\n",
       " [7.1, 3.0, 5.9, 2.1, nan],\n",
       " [6.3, 2.9, 5.6, 1.8, nan],\n",
       " [6.5, 3.0, 5.8, 2.2, nan],\n",
       " [7.6, 3.0, 6.6, 2.1, nan],\n",
       " [4.9, 2.5, 4.5, 1.7, nan],\n",
       " [7.3, 2.9, 6.3, 1.8, nan],\n",
       " [6.7, 2.5, 5.8, 1.8, nan],\n",
       " [7.2, 3.6, 6.1, 2.5, nan],\n",
       " [6.5, 3.2, 5.1, 2.0, nan],\n",
       " [6.4, 2.7, 5.3, 1.9, nan],\n",
       " [6.8, 3.0, 5.5, 2.1, nan],\n",
       " [5.7, 2.5, 5.0, 2.0, nan],\n",
       " [5.8, 2.8, 5.1, 2.4, nan],\n",
       " [6.4, 3.2, 5.3, 2.3, nan],\n",
       " [6.5, 3.0, 5.5, 1.8, nan],\n",
       " [7.7, 3.8, 6.7, 2.2, nan],\n",
       " [7.7, 2.6, 6.9, 2.3, nan],\n",
       " [6.0, 2.2, 5.0, 1.5, nan],\n",
       " [6.9, 3.2, 5.7, 2.3, nan],\n",
       " [5.6, 2.8, 4.9, 2.0, nan],\n",
       " [5.6, 2.8, 6.7, 2.0, nan],\n",
       " [6.3, 2.7, 4.9, 1.8, nan],\n",
       " [6.7, 3.3, 5.7, 2.1, nan],\n",
       " [7.2, 3.2, 6.0, 1.8, nan],\n",
       " [6.2, 2.8, 4.8, 1.8, nan],\n",
       " [6.1, 3.0, 4.9, 1.8, nan],\n",
       " [6.4, 2.8, 5.6, 2.1, nan],\n",
       " [7.2, 3.0, 5.8, 1.6, nan],\n",
       " [7.4, 2.8, 6.1, 1.9, nan],\n",
       " [7.9, 3.8, 6.4, 2.0, nan],\n",
       " [6.4, 2.8, 5.6, 2.2, nan],\n",
       " [6.3, 2.8, 5.1, 1.5, nan],\n",
       " [6.1, 2.6, 5.6, 1.4, nan],\n",
       " [7.7, 3.0, 6.1, 2.3, nan],\n",
       " [6.3, 3.4, 5.6, 2.4, nan],\n",
       " [6.4, 3.1, 5.5, 1.8, nan],\n",
       " [6.0, 3.0, 4.8, 1.8, nan],\n",
       " [6.9, 3.1, 5.4, 2.1, nan],\n",
       " [6.7, 3.1, 5.6, 2.4, nan],\n",
       " [6.9, 3.1, 5.1, 2.3, nan],\n",
       " [5.8, 2.7, 5.1, 1.9, nan],\n",
       " [6.8, 3.2, 5.9, 2.3, nan],\n",
       " [6.7, 3.3, 5.7, 2.5, nan],\n",
       " [6.7, 3.0, 5.2, 2.3, nan],\n",
       " [6.3, 2.5, 5.0, 2.3, nan],\n",
       " [6.5, 3.0, 5.2, 2.0, nan],\n",
       " [6.2, 3.4, 5.4, 2.3, nan],\n",
       " [5.9, 3.0, 5.1, 1.8, nan]]"
      ]
     },
     "execution_count": 255,
     "metadata": {},
     "output_type": "execute_result"
    }
   ],
   "source": [
    "# convertir un array en list python\n",
    "list3 = tree.tolist()\n",
    "list3"
   ]
  },
  {
   "cell_type": "code",
   "execution_count": 256,
   "metadata": {},
   "outputs": [
    {
     "name": "stdout",
     "output_type": "stream",
     "text": [
      "[4.9 3.  1.4 0.2 nan]\n",
      "0.2\n"
     ]
    }
   ],
   "source": [
    "print(tree[2])\n",
    "print(tree[2,3])"
   ]
  },
  {
   "cell_type": "code",
   "execution_count": 257,
   "metadata": {},
   "outputs": [
    {
     "data": {
      "text/plain": [
       "array([[4.7 , 3.2 , 1.3 , 0.2 ,  nan],\n",
       "       [4.6 , 3.1 , 1.5 , 0.2 ,  nan],\n",
       "       [5.  , 3.6 , 1.4 , 0.2 ,  nan],\n",
       "       [5.4 , 3.9 , 1.7 , 0.4 ,  nan],\n",
       "       [4.6 , 3.4 , 1.4 , 0.3 ,  nan],\n",
       "       [5.  , 3.4 , 1.5 , 0.25,  nan],\n",
       "       [4.4 , 2.9 , 1.4 , 0.25,  nan]])"
      ]
     },
     "execution_count": 257,
     "metadata": {},
     "output_type": "execute_result"
    }
   ],
   "source": [
    "#de la troisième (0 1 2 3) à la 9ieme ligne\n",
    "tree[3:10]"
   ]
  },
  {
   "cell_type": "code",
   "execution_count": 258,
   "metadata": {},
   "outputs": [],
   "source": [
    "#convert tree array in integers\n",
    "tree = tree.astype(int)"
   ]
  },
  {
   "cell_type": "code",
   "execution_count": 259,
   "metadata": {},
   "outputs": [],
   "source": [
    "#change each columns to random int\n",
    "tree[:,0]= np.random.randint(4,size=(len(tree)))\n",
    "tree[:,1]= np.random.randint(10,size=(len(tree)))\n",
    "tree[:,2]= np.random.randint(5,size=(len(tree)))\n",
    "tree[:,3]= np.random.randint(3,size=(len(tree)))\n",
    "tree[:,4]= np.random.randint(7,size=(len(tree)))"
   ]
  },
  {
   "cell_type": "code",
   "execution_count": 260,
   "metadata": {},
   "outputs": [
    {
     "data": {
      "text/plain": [
       "(750,)"
      ]
     },
     "execution_count": 260,
     "metadata": {},
     "output_type": "execute_result"
    }
   ],
   "source": [
    "test = tree\n",
    "#to sort each row\n",
    "test.sort(axis=1)\n",
    "#to sort each column\n",
    "test.sort(axis=0)\n",
    "#convert a n-D array into a vector\n",
    "test = test.flatten()\n",
    "test.shape"
   ]
  },
  {
   "cell_type": "code",
   "execution_count": 261,
   "metadata": {},
   "outputs": [],
   "source": [
    "#transpose\n",
    "tree = tree.T\n",
    "tree = tree.T"
   ]
  },
  {
   "cell_type": "code",
   "execution_count": 262,
   "metadata": {},
   "outputs": [],
   "source": [
    "# reshape an array into a 150x5 matrix\n",
    "test = test.reshape(150,5)"
   ]
  },
  {
   "cell_type": "code",
   "execution_count": 263,
   "metadata": {},
   "outputs": [
    {
     "data": {
      "text/plain": [
       "array([[2, 4, 6, 5],\n",
       "       [3, 2, 4, 5],\n",
       "       [4, 8, 9, 7],\n",
       "       [0, 0, 0, 0],\n",
       "       [0, 0, 0, 0],\n",
       "       [0, 0, 0, 0]])"
      ]
     },
     "execution_count": 263,
     "metadata": {},
     "output_type": "execute_result"
    }
   ],
   "source": [
    "# resize is like reshape but adds zeros if dimensions are higher than expected\n",
    "array = np.array([[2,4,6,5],[3,2,4,5],[4,8,9,7]])\n",
    "array.resize(6,4)\n",
    "array"
   ]
  },
  {
   "cell_type": "code",
   "execution_count": 264,
   "metadata": {},
   "outputs": [
    {
     "data": {
      "text/plain": [
       "array([[2, 4, 6, 5, 1, 1],\n",
       "       [3, 2, 4, 5, 1, 1],\n",
       "       [4, 8, 9, 7, 1, 1],\n",
       "       [0, 0, 0, 0, 1, 1],\n",
       "       [0, 0, 0, 0, 1, 1],\n",
       "       [0, 0, 0, 0, 1, 1]])"
      ]
     },
     "execution_count": 264,
     "metadata": {},
     "output_type": "execute_result"
    }
   ],
   "source": [
    "#concatenate rows\n",
    "array2 = np.ones((2,4),dtype=int)\n",
    "np.concatenate((array,array2), axis=0)\n",
    "\n",
    "#concatenate columns\n",
    "array2 = np.ones((6,2),dtype=int)\n",
    "np.concatenate((array,array2), axis=1)"
   ]
  },
  {
   "cell_type": "code",
   "execution_count": 265,
   "metadata": {},
   "outputs": [
    {
     "name": "stdout",
     "output_type": "stream",
     "text": [
      "[[2 4 6 5]\n",
      " [3 2 4 5]\n",
      " [4 8 9 7]\n",
      " [0 0 0 0]\n",
      " [0 0 0 0]\n",
      " [0 0 0 0]]\n",
      "\n",
      "[[2 4 6 5]\n",
      " [3 2 4 5]\n",
      " [4 8 9 7]]\n",
      "\n",
      "[[0 0 0 0]\n",
      " [0 0 0 0]\n",
      " [0 0 0 0]]\n"
     ]
    }
   ],
   "source": [
    "#split the array into sub-arrays by row\n",
    "print(array)\n",
    "array_split,array_split2 = np.split(array,2)\n",
    "print(\"\\n{}\\n\\n{}\".format(array_split,array_split2))"
   ]
  },
  {
   "cell_type": "code",
   "execution_count": 266,
   "metadata": {},
   "outputs": [
    {
     "name": "stdout",
     "output_type": "stream",
     "text": [
      "[[2 4 6 5]\n",
      " [3 2 4 5]\n",
      " [4 8 9 7]\n",
      " [0 0 0 0]\n",
      " [0 0 0 0]\n",
      " [0 0 0 0]]\n",
      "\n",
      "[[2 4]\n",
      " [3 2]\n",
      " [4 8]\n",
      " [0 0]\n",
      " [0 0]\n",
      " [0 0]]\n",
      "\n",
      "[[6 5]\n",
      " [4 5]\n",
      " [9 7]\n",
      " [0 0]\n",
      " [0 0]\n",
      " [0 0]]\n"
     ]
    }
   ],
   "source": [
    "#split the array by columns\n",
    "print(array)\n",
    "split1, split2 = np.hsplit(array,2)\n",
    "print(\"\\n{}\\n\\n{}\".format(split1,split2))"
   ]
  },
  {
   "cell_type": "code",
   "execution_count": 267,
   "metadata": {},
   "outputs": [
    {
     "data": {
      "text/plain": [
       "array([  2,   4,  78, 709,   6,   5,   3,   2,   4,   5,   4,   8,   9,\n",
       "         7,   0,   0,   0,   0,   0,   0,   0,   0,   0,   0,   0,   0])"
      ]
     },
     "execution_count": 267,
     "metadata": {},
     "output_type": "execute_result"
    }
   ],
   "source": [
    "#add one or more numbers into an array, becomes a vector\n",
    "np.append(array,(2,3,4))\n",
    "#insert before index 2\n",
    "np.insert(array,2,(78,709))"
   ]
  },
  {
   "cell_type": "code",
   "execution_count": 274,
   "metadata": {},
   "outputs": [
    {
     "data": {
      "text/plain": [
       "array([[2, 4, 6, 5],\n",
       "       [3, 2, 4, 5],\n",
       "       [4, 8, 9, 7],\n",
       "       [0, 0, 0, 0],\n",
       "       [0, 0, 0, 0]])"
      ]
     },
     "execution_count": 274,
     "metadata": {},
     "output_type": "execute_result"
    }
   ],
   "source": [
    "#delete the index 3 row\n",
    "np.delete(array,3,axis = 0)"
   ]
  },
  {
   "cell_type": "code",
   "execution_count": 275,
   "metadata": {},
   "outputs": [
    {
     "data": {
      "text/plain": [
       "array([[2, 4, 5],\n",
       "       [3, 2, 5],\n",
       "       [4, 8, 7],\n",
       "       [0, 0, 0],\n",
       "       [0, 0, 0],\n",
       "       [0, 0, 0]])"
      ]
     },
     "execution_count": 275,
     "metadata": {},
     "output_type": "execute_result"
    }
   ],
   "source": [
    "#delete the index 2 column\n",
    "np.delete(array,2,axis =1)"
   ]
  },
  {
   "cell_type": "code",
   "execution_count": 280,
   "metadata": {},
   "outputs": [
    {
     "data": {
      "text/plain": [
       "array([4.25, 3.5 , 7.  , 0.  , 0.  , 0.  ])"
      ]
     },
     "execution_count": 280,
     "metadata": {},
     "output_type": "execute_result"
    }
   ],
   "source": [
    "#mean of total array\n",
    "np.mean(array)\n",
    "#mean of each column\n",
    "np.mean(array,axis=0)\n",
    "#mean of each row\n",
    "np.mean(array,axis=1)"
   ]
  },
  {
   "cell_type": "code",
   "execution_count": 306,
   "metadata": {},
   "outputs": [
    {
     "data": {
      "text/plain": [
       "1.0"
      ]
     },
     "execution_count": 306,
     "metadata": {},
     "output_type": "execute_result"
    }
   ],
   "source": [
    "array.sum()\n",
    "array.min(axis=0)\n",
    "array.max()\n",
    "#variance de l'array\n",
    "np.var(array)\n",
    "#standard deviation\n",
    "np.std(array,axis =0)\n",
    "np.corrcoef(array[0:3,0:3])\n",
    "np.median(array)"
   ]
  },
  {
   "cell_type": "code",
   "execution_count": 328,
   "metadata": {},
   "outputs": [
    {
     "data": {
      "text/plain": [
       "array([[ 4,  8, 12, 10],\n",
       "       [ 6,  4,  8, 10],\n",
       "       [ 8, 16, 18, 14],\n",
       "       [ 0,  0,  0,  0],\n",
       "       [ 0,  0,  0,  0],\n",
       "       [ 0,  0,  0,  0]])"
      ]
     },
     "execution_count": 328,
     "metadata": {},
     "output_type": "execute_result"
    }
   ],
   "source": [
    "#add 10 to each member of the array\n",
    "np.add(array,10)\n",
    "np.multiply(array,3)\n",
    "np.subtract(array,2)\n",
    "np.power(array,3)\n",
    "np.divide(array,2)\n",
    "\n",
    "#works with another array\n",
    "np.add(array,array)"
   ]
  },
  {
   "cell_type": "code",
   "execution_count": 335,
   "metadata": {},
   "outputs": [
    {
     "name": "stderr",
     "output_type": "stream",
     "text": [
      "C:\\Users\\vbigand\\AppData\\Local\\Continuum\\anaconda3\\lib\\site-packages\\ipykernel_launcher.py:2: RuntimeWarning: divide by zero encountered in log\n",
      "  \n"
     ]
    },
    {
     "data": {
      "text/plain": [
       "True"
      ]
     },
     "execution_count": 335,
     "metadata": {},
     "output_type": "execute_result"
    }
   ],
   "source": [
    "np.sqrt(array)\n",
    "np.log(array)\n",
    "np.abs(array)\n",
    "np.cos(array)\n",
    "#return True if both arrays are equal\n",
    "np.array_equal(tree,test)"
   ]
  },
  {
   "cell_type": "code",
   "execution_count": 338,
   "metadata": {},
   "outputs": [
    {
     "data": {
      "text/plain": [
       "array([[2, 4, 6, 5],\n",
       "       [3, 2, 4, 5],\n",
       "       [4, 8, 9, 7],\n",
       "       [0, 0, 0, 0],\n",
       "       [0, 0, 0, 0],\n",
       "       [0, 0, 0, 0]])"
      ]
     },
     "execution_count": 338,
     "metadata": {},
     "output_type": "execute_result"
    }
   ],
   "source": [
    "# round up to the nearest integer\n",
    "np.ceil(array)\n",
    "# round down to the nearest integer\n",
    "np.floor(array)\n",
    "# round to the nearest integer\n",
    "np.round(array)"
   ]
  },
  {
   "cell_type": "code",
   "execution_count": null,
   "metadata": {},
   "outputs": [],
   "source": []
  }
 ],
 "metadata": {
  "kernelspec": {
   "display_name": "Python 3",
   "language": "python",
   "name": "python3"
  },
  "language_info": {
   "codemirror_mode": {
    "name": "ipython",
    "version": 3
   },
   "file_extension": ".py",
   "mimetype": "text/x-python",
   "name": "python",
   "nbconvert_exporter": "python",
   "pygments_lexer": "ipython3",
   "version": "3.6.4"
  }
 },
 "nbformat": 4,
 "nbformat_minor": 2
}
