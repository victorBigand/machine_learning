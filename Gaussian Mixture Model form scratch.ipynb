{
 "cells": [
  {
   "cell_type": "markdown",
   "metadata": {
    "toc": true
   },
   "source": [
    "<h1>Table of Contents<span class=\"tocSkip\"></span></h1>\n",
    "<div class=\"toc\"><ul class=\"toc-item\"><li><span><a href=\"#Expectation-Maximization\" data-toc-modified-id=\"Expectation-Maximization-1\"><span class=\"toc-item-num\">1&nbsp;&nbsp;</span>Expectation-Maximization</a></span><ul class=\"toc-item\"><li><span><a href=\"#Expectation\" data-toc-modified-id=\"Expectation-1.1\"><span class=\"toc-item-num\">1.1&nbsp;&nbsp;</span>Expectation</a></span></li><li><span><a href=\"#Maximization\" data-toc-modified-id=\"Maximization-1.2\"><span class=\"toc-item-num\">1.2&nbsp;&nbsp;</span>Maximization</a></span></li><li><span><a href=\"#Running-the-algorithm\" data-toc-modified-id=\"Running-the-algorithm-1.3\"><span class=\"toc-item-num\">1.3&nbsp;&nbsp;</span>Running the algorithm</a></span></li></ul></li><li><span><a href=\"#Prediction-and-results\" data-toc-modified-id=\"Prediction-and-results-2\"><span class=\"toc-item-num\">2&nbsp;&nbsp;</span>Prediction and results</a></span></li></ul></div>"
   ]
  },
  {
   "cell_type": "markdown",
   "metadata": {},
   "source": [
    "# Homework 2 - Gaussian Mixture Model"
   ]
  },
  {
   "cell_type": "code",
   "execution_count": 6,
   "metadata": {},
   "outputs": [],
   "source": [
    "import numpy as np\n",
    "import matplotlib.pyplot as plt\n",
    "from matplotlib.colors import LogNorm\n",
    "from sklearn import mixture\n",
    "from sklearn.datasets import make_spd_matrix as spd"
   ]
  },
  {
   "cell_type": "code",
   "execution_count": 7,
   "metadata": {},
   "outputs": [],
   "source": [
    "n_samples = 300\n",
    "np.random.seed(0)\n",
    "shifted_gaussian = np.random.randn(n_samples, 2) + np.array([20, 20])\n",
    "C = np.array([[0., -0.7], [3.5, .7]])\n",
    "stretched_gaussian = np.dot(np.random.randn(n_samples, 2), C)"
   ]
  },
  {
   "cell_type": "code",
   "execution_count": 8,
   "metadata": {},
   "outputs": [],
   "source": [
    "X_train = np.vstack([shifted_gaussian, stretched_gaussian])"
   ]
  },
  {
   "cell_type": "code",
   "execution_count": 9,
   "metadata": {},
   "outputs": [
    {
     "data": {
      "image/png": "[encoded data removed]",
      "text/plain": [
       "<Figure size 432x288 with 1 Axes>"
      ]
     },
     "metadata": {},
     "output_type": "display_data"
    }
   ],
   "source": [
    "plt.scatter(X_train[:,0], X_train[:,1],alpha=0.6)\n",
    "plt.title('Dataset')\n",
    "plt.show()"
   ]
  },
  {
   "cell_type": "markdown",
   "metadata": {},
   "source": [
    "Let's initialiaze the parameters"
   ]
  },
  {
   "cell_type": "code",
   "execution_count": 10,
   "metadata": {},
   "outputs": [],
   "source": [
    "n = X_train.shape[1]\n",
    "\n",
    "mu = np.random.rand(2,2)\n",
    "phi = np.array([0.5, 0.5])\n",
    "sigma = np.array([spd(2), spd(2)])\n",
    "\n",
    "params = {\n",
    "    'mu': mu,\n",
    "    'phi': phi,\n",
    "    'sigma': sigma\n",
    "}"
   ]
  },
  {
   "cell_type": "markdown",
   "metadata": {},
   "source": [
    "## Expectation-Maximization\n",
    "### Expectation"
   ]
  },
  {
   "cell_type": "code",
   "execution_count": 11,
   "metadata": {},
   "outputs": [],
   "source": [
    "def E_step(params, X_train):\n",
    "    \n",
    "    mu = params['mu']\n",
    "    phi = params['phi']\n",
    "    sigma = params['sigma']\n",
    "    temp1, temp2 = np.zeros((600,1)), np.zeros((600,1))\n",
    "    \n",
    "    for i, x in enumerate(X_train):\n",
    "        num1 = 1 / (np.power(2*np.pi, n/2.)*np.power(np.linalg.det(sigma[0]),0.5)) * np.exp(np.dot(np.dot(-0.5*(x.reshape(2,1) - mu[0].reshape(2,1)).T,np.linalg.inv(sigma[0])),(x.reshape(2,1)-mu[0].reshape(2,1))))*phi[0]\n",
    "        num2 = 1 / (np.power(2*np.pi, n/2.)*np.power(np.linalg.det(sigma[1]),0.5)) * np.exp(np.dot(np.dot(-0.5*(x.reshape(2,1) - mu[1].reshape(2,1)).T,np.linalg.inv(sigma[1])),(x.reshape(2,1)-mu[1].reshape(2,1))))*phi[1]\n",
    "\n",
    "        temp1[i] = num1/(num1+num2)\n",
    "        temp2[i] = num2/(num1+num2)\n",
    "    return np.array([temp1, temp2]).reshape(2, 600)"
   ]
  },
  {
   "cell_type": "markdown",
   "metadata": {},
   "source": [
    "### Maximization"
   ]
  },
  {
   "cell_type": "code",
   "execution_count": 12,
   "metadata": {},
   "outputs": [],
   "source": [
    "def M_step(w, X_train):\n",
    "    \n",
    "    phi = w.sum(axis=1)/len(X_train)\n",
    "    \n",
    "    mu = np.dot(w, X_train)/w.sum(axis=1)\n",
    "    \n",
    "    somme0, somme1, d0, d1 = 0, 0, 0, 0\n",
    "\n",
    "    for i, x in enumerate(X_train):\n",
    "        somme0 += w[0, i] * (x - mu[0]) * (x - mu[0]).reshape((2, 1))\n",
    "        somme1 += w[1, i] * (x - mu[1]) * (x - mu[1]).reshape((2, 1))\n",
    "        d0 += w[0, i]\n",
    "        d1 += w[1, i]\n",
    "\n",
    "    sigma0 = somme0 / d0\n",
    "    sigma1 = somme1 / d1\n",
    "    \n",
    "    sigma = np.array([sigma0, sigma1])\n",
    "\n",
    "    \n",
    "    params = {\n",
    "    'mu': mu,\n",
    "    'phi': phi,\n",
    "    'sigma': sigma\n",
    "    }\n",
    "    \n",
    "    \n",
    "    return params"
   ]
  },
  {
   "cell_type": "markdown",
   "metadata": {},
   "source": [
    "### Running the algorithm"
   ]
  },
  {
   "cell_type": "code",
   "execution_count": 13,
   "metadata": {},
   "outputs": [],
   "source": [
    "for i in range(50):\n",
    "    w = E_step(params, X_train)\n",
    "    params = M_step(w, X_train)"
   ]
  },
  {
   "cell_type": "markdown",
   "metadata": {},
   "source": [
    "## Prediction and results"
   ]
  },
  {
   "cell_type": "code",
   "execution_count": 14,
   "metadata": {},
   "outputs": [],
   "source": [
    "def pred(w):\n",
    "    pred0, pred1 = [], []\n",
    "    for i,el in enumerate(X_train):\n",
    "        if w[0,i]>=0.5:\n",
    "            pred0.append(el)\n",
    "        else:\n",
    "            pred1.append(el)\n",
    "    return (np.array(pred0) , np.array(pred1))\n",
    "pred0, pred1 = pred(w)"
   ]
  },
  {
   "cell_type": "code",
   "execution_count": 64,
   "metadata": {},
   "outputs": [
    {
     "data": {
      "image/png": "[encoded data removed]",
      "text/plain": [
       "<Figure size 432x288 with 1 Axes>"
      ]
     },
     "metadata": {},
     "output_type": "display_data"
    }
   ],
   "source": [
    "x = np.linspace(-20., 30.)\n",
    "y = np.linspace(-20., 40.)\n",
    "X, Y = np.meshgrid(x, y)\n",
    "\n",
    "plt.scatter(pred0[:,0], pred0[:,1], .8, c=\"b\")\n",
    "plt.scatter(pred1[:,0], pred1[:,1], .8, c=\"g\")\n",
    "plt.plot(params['mu'][:,0], params['mu'][:,1],'+', mew=4,ms=20, c='black')\n",
    "plt.axis(\"tight\")\n",
    "plt.show()"
   ]
  },
  {
   "cell_type": "code",
   "execution_count": null,
   "metadata": {},
   "outputs": [],
   "source": []
  }
 ],
 "metadata": {
  "kernelspec": {
   "display_name": "Python 3",
   "language": "python",
   "name": "python3"
  },
  "language_info": {
   "codemirror_mode": {
    "name": "ipython",
    "version": 3
   },
   "file_extension": ".py",
   "mimetype": "text/x-python",
   "name": "python",
   "nbconvert_exporter": "python",
   "pygments_lexer": "ipython3",
   "version": "3.6.5"
  },
  "toc": {
   "base_numbering": 1,
   "nav_menu": {},
   "number_sections": true,
   "sideBar": true,
   "skip_h1_title": true,
   "title_cell": "Table of Contents",
   "title_sidebar": "Contents",
   "toc_cell": true,
   "toc_position": {},
   "toc_section_display": true,
   "toc_window_display": false
  }
 },
 "nbformat": 4,
 "nbformat_minor": 2
}
