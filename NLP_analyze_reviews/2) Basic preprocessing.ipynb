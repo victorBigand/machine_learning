{
 "cells": [
  {
   "cell_type": "markdown",
   "metadata": {
    "toc": true
   },
   "source": [
    "<h1>Table of Contents<span class=\"tocSkip\"></span></h1>\n",
    "<div class=\"toc\"><ul class=\"toc-item\"><li><span><a href=\"#Import-data,-cleaning-and-visualizing\" data-toc-modified-id=\"Import-data,-cleaning-and-visualizing-1\"><span class=\"toc-item-num\">1&nbsp;&nbsp;</span>Import data, cleaning and visualizing</a></span><ul class=\"toc-item\"><li><span><a href=\"#Importing-and-selecting-the-data\" data-toc-modified-id=\"Importing-and-selecting-the-data-1.1\"><span class=\"toc-item-num\">1.1&nbsp;&nbsp;</span>Importing and selecting the data</a></span></li><li><span><a href=\"#Visualizing\" data-toc-modified-id=\"Visualizing-1.2\"><span class=\"toc-item-num\">1.2&nbsp;&nbsp;</span>Visualizing</a></span></li></ul></li><li><span><a href=\"#Preprocessing\" data-toc-modified-id=\"Preprocessing-2\"><span class=\"toc-item-num\">2&nbsp;&nbsp;</span>Preprocessing</a></span></li></ul></div>"
   ]
  },
  {
   "cell_type": "markdown",
   "metadata": {},
   "source": [
    "# Reviews preprocessing\n",
    "\n",
    "The goal of this subject is to build a classifier from Yelp, zomato and other sources of reviews, mapping each review to a score for food, place and ambience.\n",
    "The dataset we have countains around 85 000 reviews of New York restaurants, with a global rating from 1 to 5"
   ]
  },
  {
   "cell_type": "code",
   "execution_count": 37,
   "metadata": {},
   "outputs": [
    {
     "data": {
      "application/vnd.jupyter.widget-view+json": {
       "model_id": "d8505ce5b72d462c9235f34ecf8501eb",
       "version_major": 2,
       "version_minor": 0
      },
      "text/plain": [
       "HBox(children=(IntProgress(value=1, bar_style='info', max=1), HTML(value='')))"
      ]
     },
     "metadata": {},
     "output_type": "display_data"
    },
    {
     "name": "stdout",
     "output_type": "stream",
     "text": [
      "\n"
     ]
    }
   ],
   "source": [
    "import pandas as pd\n",
    "import numpy as np\n",
    "import nltk\n",
    "from nltk.corpus import stopwords\n",
    "from nltk.stem.wordnet import WordNetLemmatizer\n",
    "from nltk.stem import PorterStemmer\n",
    "import seaborn as sns\n",
    "from sklearn import preprocessing\n",
    "import string\n",
    "import gensim\n",
    "from gensim import corpora\n",
    "from gensim.models import phrases, Phrases, coherencemodel\n",
    "from nltk import word_tokenize\n",
    "from tqdm import tqdm # for progress bar\n",
    "from tqdm import tqdm_notebook\n",
    "tqdm.pandas(desc='progress-bar')\n",
    "tqdm_notebook().pandas()\n",
    "import langdetect # to detect language\n",
    "import matplotlib.pyplot as plt\n",
    "%matplotlib inline\n",
    "import seaborn as sns\n",
    "import pickle"
   ]
  },
  {
   "cell_type": "markdown",
   "metadata": {},
   "source": [
    "## Import data, cleaning and visualizing"
   ]
  },
  {
   "cell_type": "markdown",
   "metadata": {},
   "source": [
    "### Importing and selecting the data"
   ]
  },
  {
   "cell_type": "markdown",
   "metadata": {},
   "source": [
    "First step, we import the dataset"
   ]
  },
  {
   "cell_type": "code",
   "execution_count": 61,
   "metadata": {},
   "outputs": [],
   "source": [
    "restaurants_ny = pd.read_csv('restaurants_ny.csv')"
   ]
  },
  {
   "cell_type": "code",
   "execution_count": 62,
   "metadata": {},
   "outputs": [
    {
     "data": {
      "text/html": [
       "<div>\n",
       "<style scoped>\n",
       "    .dataframe tbody tr th:only-of-type {\n",
       "        vertical-align: middle;\n",
       "    }\n",
       "\n",
       "    .dataframe tbody tr th {\n",
       "        vertical-align: top;\n",
       "    }\n",
       "\n",
       "    .dataframe thead th {\n",
       "        text-align: right;\n",
       "    }\n",
       "</style>\n",
       "<table border=\"1\" class=\"dataframe\">\n",
       "  <thead>\n",
       "    <tr style=\"text-align: right;\">\n",
       "      <th></th>\n",
       "      <th>address</th>\n",
       "      <th>name</th>\n",
       "      <th>review</th>\n",
       "      <th>stars</th>\n",
       "    </tr>\n",
       "  </thead>\n",
       "  <tbody>\n",
       "    <tr>\n",
       "      <th>0</th>\n",
       "      <td>386 Flatbush Ave</td>\n",
       "      <td>Junior’s Restaurant</td>\n",
       "      <td>I've been coming to Juniors since I was a smal...</td>\n",
       "      <td>5.0</td>\n",
       "    </tr>\n",
       "    <tr>\n",
       "      <th>1</th>\n",
       "      <td>386 Flatbush Ave</td>\n",
       "      <td>Junior’s Restaurant</td>\n",
       "      <td>I like this place! I was initially hesitant be...</td>\n",
       "      <td>5.0</td>\n",
       "    </tr>\n",
       "    <tr>\n",
       "      <th>2</th>\n",
       "      <td>386 Flatbush Ave</td>\n",
       "      <td>Junior’s Restaurant</td>\n",
       "      <td>**Initial 3 star review dropped down to 1. Hop...</td>\n",
       "      <td>1.0</td>\n",
       "    </tr>\n",
       "    <tr>\n",
       "      <th>3</th>\n",
       "      <td>386 Flatbush Ave</td>\n",
       "      <td>Junior’s Restaurant</td>\n",
       "      <td>This was a tough one for me to voluntarily com...</td>\n",
       "      <td>4.0</td>\n",
       "    </tr>\n",
       "    <tr>\n",
       "      <th>4</th>\n",
       "      <td>386 Flatbush Ave</td>\n",
       "      <td>Junior’s Restaurant</td>\n",
       "      <td>What a gem! If your hungry, want some reliable...</td>\n",
       "      <td>5.0</td>\n",
       "    </tr>\n",
       "  </tbody>\n",
       "</table>\n",
       "</div>"
      ],
      "text/plain": [
       "            address                 name  \\\n",
       "0  386 Flatbush Ave  Junior’s Restaurant   \n",
       "1  386 Flatbush Ave  Junior’s Restaurant   \n",
       "2  386 Flatbush Ave  Junior’s Restaurant   \n",
       "3  386 Flatbush Ave  Junior’s Restaurant   \n",
       "4  386 Flatbush Ave  Junior’s Restaurant   \n",
       "\n",
       "                                              review  stars  \n",
       "0  I've been coming to Juniors since I was a smal...    5.0  \n",
       "1  I like this place! I was initially hesitant be...    5.0  \n",
       "2  **Initial 3 star review dropped down to 1. Hop...    1.0  \n",
       "3  This was a tough one for me to voluntarily com...    4.0  \n",
       "4  What a gem! If your hungry, want some reliable...    5.0  "
      ]
     },
     "execution_count": 62,
     "metadata": {},
     "output_type": "execute_result"
    }
   ],
   "source": [
    "restaurants_ny.head()"
   ]
  },
  {
   "cell_type": "code",
   "execution_count": 63,
   "metadata": {},
   "outputs": [
    {
     "data": {
      "application/vnd.jupyter.widget-view+json": {
       "model_id": "6e59acc16da243628f691eb874a13677",
       "version_major": 2,
       "version_minor": 0
      },
      "text/plain": [
       "HBox(children=(IntProgress(value=0, max=84045), HTML(value='')))"
      ]
     },
     "metadata": {},
     "output_type": "display_data"
    },
    {
     "name": "stdout",
     "output_type": "stream",
     "text": [
      "\n"
     ]
    }
   ],
   "source": [
    "# scrapping on zomato gives us half stars\n",
    "restaurants_ny['stars'] = restaurants_ny['stars'].progress_apply(round)"
   ]
  },
  {
   "cell_type": "code",
   "execution_count": 64,
   "metadata": {},
   "outputs": [
    {
     "name": "stdout",
     "output_type": "stream",
     "text": [
      "Number of unique restaurants:  5199\n"
     ]
    }
   ],
   "source": [
    "print('Number of unique restaurants: ', restaurants_ny.name.nunique())"
   ]
  },
  {
   "cell_type": "code",
   "execution_count": 65,
   "metadata": {},
   "outputs": [
    {
     "name": "stdout",
     "output_type": "stream",
     "text": [
      "Number of reviews:  84045\n"
     ]
    }
   ],
   "source": [
    "print('Number of reviews: ', restaurants_ny.shape[0])"
   ]
  },
  {
   "cell_type": "markdown",
   "metadata": {},
   "source": [
    "Now, let's only keep the stars, text and number of the review to work on.\n",
    "We add the number column in case we change the index later"
   ]
  },
  {
   "cell_type": "code",
   "execution_count": 66,
   "metadata": {},
   "outputs": [],
   "source": [
    "restaurants_ny['number'] = restaurants_ny.index\n",
    "df = restaurants_ny[['number','review','stars']].copy()"
   ]
  },
  {
   "cell_type": "markdown",
   "metadata": {},
   "source": [
    "### Visualizing"
   ]
  },
  {
   "cell_type": "code",
   "execution_count": 67,
   "metadata": {
    "scrolled": true
   },
   "outputs": [
    {
     "data": {
      "image/png": "[encoded data removed]",
      "text/plain": [
       "<Figure size 432x288 with 1 Axes>"
      ]
     },
     "metadata": {},
     "output_type": "display_data"
    }
   ],
   "source": [
    "X_ratings = df.stars.value_counts()\n",
    "ax = sns.barplot(X_ratings.index,X_ratings,alpha=0.8)\n",
    "ax.set(xlabel='Ratings',ylabel='Frequencies',title='Frequencies of ratings over the {} reviews'.format(df.shape[0]))\n",
    "plt.show()"
   ]
  },
  {
   "cell_type": "code",
   "execution_count": 68,
   "metadata": {
    "scrolled": true
   },
   "outputs": [
    {
     "name": "stderr",
     "output_type": "stream",
     "text": [
      "C:\\ProgramData\\Anaconda3\\lib\\site-packages\\matplotlib\\axes\\_axes.py:6462: UserWarning: The 'normed' kwarg is deprecated, and has been replaced by the 'density' kwarg.\n",
      "  warnings.warn(\"The 'normed' kwarg is deprecated, and has been \"\n"
     ]
    },
    {
     "data": {
      "image/png": "[encoded data removed]",
      "text/plain": [
       "<Figure size 864x360 with 1 Axes>"
      ]
     },
     "metadata": {},
     "output_type": "display_data"
    }
   ],
   "source": [
    "ax = plt.figure(figsize=(12,5))\n",
    "sns.distplot(df['review'].apply(len))\n",
    "plt.title('Characters distributions')\n",
    "plt.xticks(range(0,5500,500))\n",
    "plt.show()"
   ]
  },
  {
   "cell_type": "markdown",
   "metadata": {},
   "source": [
    "Function to check language. We keep only the english reviews"
   ]
  },
  {
   "cell_type": "code",
   "execution_count": 69,
   "metadata": {},
   "outputs": [
    {
     "data": {
      "application/vnd.jupyter.widget-view+json": {
       "model_id": "38f0abc3e81545bb8f5976ca3d7ad26e",
       "version_major": 2,
       "version_minor": 0
      },
      "text/plain": [
       "HBox(children=(IntProgress(value=0, max=84045), HTML(value='')))"
      ]
     },
     "metadata": {},
     "output_type": "display_data"
    },
    {
     "name": "stdout",
     "output_type": "stream",
     "text": [
      "\n"
     ]
    }
   ],
   "source": [
    "df['isenglish'] = df['review'].progress_map(lambda x:langdetect.detect(x)=='en')\n",
    "df = df[df['isenglish']==True].copy()\n",
    "df.drop(['isenglish'],axis=1,inplace=True)"
   ]
  },
  {
   "cell_type": "markdown",
   "metadata": {},
   "source": [
    "Checking the most frequent words in the corpus (except stop words)"
   ]
  },
  {
   "cell_type": "code",
   "execution_count": 70,
   "metadata": {},
   "outputs": [],
   "source": [
    "stopW = stopwords.words('english')\n",
    "\n",
    "allWords = []\n",
    "for sent in df['review'].tolist():\n",
    "    for word in sent.split():\n",
    "        wordl=word.lower()\n",
    "        if wordl not in stopW:\n",
    "            allWords.append(wordl)\n",
    "dist = nltk.FreqDist(allWords)"
   ]
  },
  {
   "cell_type": "code",
   "execution_count": 71,
   "metadata": {
    "scrolled": true
   },
   "outputs": [
    {
     "data": {
      "image/png": "[encoded data removed]",
      "text/plain": [
       "<Figure size 432x288 with 1 Axes>"
      ]
     },
     "metadata": {},
     "output_type": "display_data"
    }
   ],
   "source": [
    "X = [nb[1] for nb in dist.most_common(20)]\n",
    "y = [nb[0] for nb in dist.most_common(20)]\n",
    "ax = sns.barplot(X,y)\n",
    "ax.set(xlabel='Word frequencies',ylabel='Words',title='Most common words in the corpus')\n",
    "plt.show()"
   ]
  },
  {
   "cell_type": "markdown",
   "metadata": {},
   "source": [
    "## Preprocessing\n",
    "First, we lower the text.\n",
    "Then, we remove:\n",
    "- Stop Words\n",
    "- words with a length less than 2 characters\n",
    "- punctuation \n",
    "- more stopwords based on more frequent words we saw previously and that will not help us for topic extraction\n",
    "\n",
    "We also use lemmatization on nouns, verbs and adjectives to get more consistent features and reduce the dimensionality of the future matrices"
   ]
  },
  {
   "cell_type": "code",
   "execution_count": 72,
   "metadata": {},
   "outputs": [],
   "source": [
    "more_stopwords=['food','place','good','like','get','order','one','back','try','really','would','restaurant','come','also','make','love','great','n\\'t','...','\\'ve','\\'re']\n",
    "exclude = set(string.punctuation)\n",
    "stopW = stopwords.words('english')\n",
    "lemma = WordNetLemmatizer()\n",
    "\n",
    "def preprocessing(sent):\n",
    "    tokens = word_tokenize(sent)\n",
    "    tokens = [w.lower() for w in tokens if w.lower() not in stopW]   \n",
    "    tokens = [w for w in tokens if len(w)>2]\n",
    "    tokens = [lemma.lemmatize(lemma.lemmatize(lemma.lemmatize(w,pos='a'),pos='v'),pos='n') for w in tokens]\n",
    "    tokens = [w for w in tokens if w not in exclude]\n",
    "    tokens = [w for w in tokens if w not in more_stopwords]    \n",
    "    return tokens"
   ]
  },
  {
   "cell_type": "code",
   "execution_count": 73,
   "metadata": {
    "scrolled": true
   },
   "outputs": [
    {
     "data": {
      "application/vnd.jupyter.widget-view+json": {
       "model_id": "8fcd3536aecc418d85f285b2cc9ee2d2",
       "version_major": 2,
       "version_minor": 0
      },
      "text/plain": [
       "HBox(children=(IntProgress(value=0, max=83783), HTML(value='')))"
      ]
     },
     "metadata": {},
     "output_type": "display_data"
    },
    {
     "name": "stdout",
     "output_type": "stream",
     "text": [
      "\n"
     ]
    }
   ],
   "source": [
    "df['tokens'] = df['review'].progress_apply(preprocessing)"
   ]
  },
  {
   "cell_type": "markdown",
   "metadata": {},
   "source": [
    "Let's save the DataFrame using pickle"
   ]
  },
  {
   "cell_type": "code",
   "execution_count": 87,
   "metadata": {},
   "outputs": [],
   "source": [
    "with open('reviews_preprocessed.pickle', 'wb') as output:\n",
    "    pickle.dump(df, output)"
   ]
  },
  {
   "cell_type": "markdown",
   "metadata": {},
   "source": [
    "Let's add the bigrams too"
   ]
  },
  {
   "cell_type": "code",
   "execution_count": 85,
   "metadata": {},
   "outputs": [],
   "source": [
    "tokens = df['tokens'].tolist()\n",
    "bigram =  Phrases(tokens, min_count = 10)\n",
    "bigram_mod = phrases.Phraser(bigram)\n",
    "allTokens = list([bigram_mod[tokens]])\n",
    "allTokens = [[t for t in token if t not in stopW] for token in allTokens]"
   ]
  },
  {
   "cell_type": "markdown",
   "metadata": {},
   "source": [
    "Let's save the tokens"
   ]
  },
  {
   "cell_type": "code",
   "execution_count": null,
   "metadata": {},
   "outputs": [],
   "source": [
    "with open('allTokens.pickle', 'wb') as output:\n",
    "    pickle.dump(allTokens, output)"
   ]
  }
 ],
 "metadata": {
  "kernelspec": {
   "display_name": "Python 3",
   "language": "python",
   "name": "python3"
  },
  "language_info": {
   "codemirror_mode": {
    "name": "ipython",
    "version": 3
   },
   "file_extension": ".py",
   "mimetype": "text/x-python",
   "name": "python",
   "nbconvert_exporter": "python",
   "pygments_lexer": "ipython3",
   "version": "3.7.0"
  },
  "toc": {
   "base_numbering": 1,
   "nav_menu": {},
   "number_sections": true,
   "sideBar": true,
   "skip_h1_title": true,
   "title_cell": "Table of Contents",
   "title_sidebar": "Contents",
   "toc_cell": true,
   "toc_position": {},
   "toc_section_display": true,
   "toc_window_display": false
  }
 },
 "nbformat": 4,
 "nbformat_minor": 2
}
