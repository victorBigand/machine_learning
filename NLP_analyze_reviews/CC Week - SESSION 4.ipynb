{
 "cells": [
  {
   "cell_type": "markdown",
   "metadata": {
    "toc": true
   },
   "source": [
    "<h1>Table of Contents<span class=\"tocSkip\"></span></h1>\n",
    "<div class=\"toc\"><ul class=\"toc-item\"><li><span><a href=\"#Running-different-algorithms\" data-toc-modified-id=\"Running-different-algorithms-1\"><span class=\"toc-item-num\">1&nbsp;&nbsp;</span>Running different algorithms</a></span><ul class=\"toc-item\"><li><span><a href=\"#Logistic-Regression\" data-toc-modified-id=\"Logistic-Regression-1.1\"><span class=\"toc-item-num\">1.1&nbsp;&nbsp;</span>Logistic Regression</a></span></li><li><span><a href=\"#SVM\" data-toc-modified-id=\"SVM-1.2\"><span class=\"toc-item-num\">1.2&nbsp;&nbsp;</span>SVM</a></span></li><li><span><a href=\"#KNN\" data-toc-modified-id=\"KNN-1.3\"><span class=\"toc-item-num\">1.3&nbsp;&nbsp;</span>KNN</a></span></li><li><span><a href=\"#Gaussian-Naïve-Bayes\" data-toc-modified-id=\"Gaussian-Naïve-Bayes-1.4\"><span class=\"toc-item-num\">1.4&nbsp;&nbsp;</span>Gaussian Naïve Bayes</a></span></li><li><span><a href=\"#Multinomial-Naïve-Bayes\" data-toc-modified-id=\"Multinomial-Naïve-Bayes-1.5\"><span class=\"toc-item-num\">1.5&nbsp;&nbsp;</span>Multinomial Naïve Bayes</a></span></li><li><span><a href=\"#Bernoulli-Naïve-Bayes\" data-toc-modified-id=\"Bernoulli-Naïve-Bayes-1.6\"><span class=\"toc-item-num\">1.6&nbsp;&nbsp;</span>Bernoulli Naïve Bayes</a></span></li><li><span><a href=\"#Decision-Tree\" data-toc-modified-id=\"Decision-Tree-1.7\"><span class=\"toc-item-num\">1.7&nbsp;&nbsp;</span>Decision Tree</a></span></li><li><span><a href=\"#Random-Forest\" data-toc-modified-id=\"Random-Forest-1.8\"><span class=\"toc-item-num\">1.8&nbsp;&nbsp;</span>Random Forest</a></span></li><li><span><a href=\"#Evaluation-of-models\" data-toc-modified-id=\"Evaluation-of-models-1.9\"><span class=\"toc-item-num\">1.9&nbsp;&nbsp;</span>Evaluation of models</a></span></li><li><span><a href=\"#Multinomial-NB-removing-low-probabilities\" data-toc-modified-id=\"Multinomial-NB-removing-low-probabilities-1.10\"><span class=\"toc-item-num\">1.10&nbsp;&nbsp;</span>Multinomial NB removing low probabilities</a></span></li></ul></li><li><span><a href=\"#Sentiment-Analysis-with-TextBlob\" data-toc-modified-id=\"Sentiment-Analysis-with-TextBlob-2\"><span class=\"toc-item-num\">2&nbsp;&nbsp;</span>Sentiment Analysis with TextBlob</a></span></li><li><span><a href=\"#Darden-Restaurants\" data-toc-modified-id=\"Darden-Restaurants-3\"><span class=\"toc-item-num\">3&nbsp;&nbsp;</span>Darden Restaurants</a></span><ul class=\"toc-item\"><li><span><a href=\"#Geolocation\" data-toc-modified-id=\"Geolocation-3.1\"><span class=\"toc-item-num\">3.1&nbsp;&nbsp;</span>Geolocation</a></span></li><li><span><a href=\"#Topics-and-sentiments-of-Darden-restaurants\" data-toc-modified-id=\"Topics-and-sentiments-of-Darden-restaurants-3.2\"><span class=\"toc-item-num\">3.2&nbsp;&nbsp;</span>Topics and sentiments of Darden restaurants</a></span></li><li><span><a href=\"#Visualizaton\" data-toc-modified-id=\"Visualizaton-3.3\"><span class=\"toc-item-num\">3.3&nbsp;&nbsp;</span>Visualizaton</a></span></li></ul></li></ul></div>"
   ]
  },
  {
   "cell_type": "markdown",
   "metadata": {},
   "source": [
    "#  CC Week - SESSION 4 => Classification of topics and sentiment analysis"
   ]
  },
  {
   "cell_type": "code",
   "execution_count": 1,
   "metadata": {},
   "outputs": [
    {
     "name": "stderr",
     "output_type": "stream",
     "text": [
      "C:\\Users\\Victor\\Anaconda3\\lib\\site-packages\\gensim\\utils.py:1209: UserWarning: detected Windows; aliasing chunkize to chunkize_serial\n",
      "  warnings.warn(\"detected Windows; aliasing chunkize to chunkize_serial\")\n"
     ]
    },
    {
     "data": {
      "application/vnd.jupyter.widget-view+json": {
       "model_id": "9ef8167d97bb49f7858a44d30d31c50f",
       "version_major": 2,
       "version_minor": 0
      },
      "text/plain": [
       "HBox(children=(IntProgress(value=1, bar_style='info', max=1), HTML(value='')))"
      ]
     },
     "metadata": {},
     "output_type": "display_data"
    },
    {
     "name": "stdout",
     "output_type": "stream",
     "text": [
      "\n"
     ]
    }
   ],
   "source": [
    "import pandas as pd\n",
    "import numpy as np\n",
    "import nltk\n",
    "from nltk.corpus import stopwords\n",
    "from nltk.stem.wordnet import WordNetLemmatizer\n",
    "from nltk.stem import PorterStemmer\n",
    "import seaborn as sns\n",
    "from sklearn import preprocessing\n",
    "import string\n",
    "import gensim\n",
    "from gensim import corpora\n",
    "from gensim.models import phrases, Phrases, coherencemodel\n",
    "from nltk import word_tokenize\n",
    "from tqdm import tqdm # for progress bar\n",
    "from tqdm import tqdm_notebook\n",
    "tqdm.pandas(desc='progress-bar')\n",
    "tqdm_notebook().pandas()\n",
    "import langdetect # to detect language\n",
    "import matplotlib.pyplot as plt\n",
    "%matplotlib inline\n",
    "import seaborn as sns\n",
    "import pickle"
   ]
  },
  {
   "cell_type": "markdown",
   "metadata": {},
   "source": [
    "## Running different algorithms"
   ]
  },
  {
   "cell_type": "code",
   "execution_count": 2,
   "metadata": {},
   "outputs": [
    {
     "name": "stderr",
     "output_type": "stream",
     "text": [
      "C:\\Users\\Victor\\Anaconda3\\lib\\site-packages\\sklearn\\cross_validation.py:41: DeprecationWarning: This module was deprecated in version 0.18 in favor of the model_selection module into which all the refactored classes and functions are moved. Also note that the interface of the new CV iterators are different from that of this module. This module will be removed in 0.20.\n",
      "  \"This module will be removed in 0.20.\", DeprecationWarning)\n",
      "C:\\Users\\Victor\\Anaconda3\\lib\\site-packages\\sklearn\\grid_search.py:42: DeprecationWarning: This module was deprecated in version 0.18 in favor of the model_selection module into which all the refactored classes and functions are moved. This module will be removed in 0.20.\n",
      "  DeprecationWarning)\n"
     ]
    }
   ],
   "source": [
    "from sklearn.model_selection import train_test_split\n",
    "from sklearn.feature_extraction.text import TfidfVectorizer\n",
    "from sklearn.linear_model import LogisticRegression\n",
    "from sklearn.cross_validation import cross_val_score\n",
    "from sklearn.model_selection import cross_val_predict\n",
    "from sklearn.naive_bayes import MultinomialNB, BernoulliNB, GaussianNB\n",
    "from sklearn.multiclass import OneVsRestClassifier\n",
    "from sklearn.svm import SVC\n",
    "from sklearn.metrics import accuracy_score\n",
    "from sklearn.metrics import classification_report, f1_score, confusion_matrix\n",
    "from sklearn.preprocessing import LabelBinarizer\n",
    "from sklearn.neighbors import KNeighborsClassifier\n",
    "from sklearn.ensemble import RandomForestClassifier\n",
    "from sklearn.tree import DecisionTreeClassifier\n",
    "from sklearn.grid_search import GridSearchCV"
   ]
  },
  {
   "cell_type": "code",
   "execution_count": 3,
   "metadata": {},
   "outputs": [],
   "source": [
    "with open('df_labeled.pickle', 'rb') as inputf:\n",
    "    df_labeled = pickle.load(inputf)\n",
    "    \n",
    "df_labeled.reset_index(drop=True,inplace=True)"
   ]
  },
  {
   "cell_type": "code",
   "execution_count": 4,
   "metadata": {},
   "outputs": [
    {
     "data": {
      "text/plain": [
       "F    2108\n",
       "S     861\n",
       "A     417\n",
       "Name: label, dtype: int64"
      ]
     },
     "execution_count": 4,
     "metadata": {},
     "output_type": "execute_result"
    }
   ],
   "source": [
    "df_labeled.label.value_counts()"
   ]
  },
  {
   "cell_type": "markdown",
   "metadata": {},
   "source": [
    "<b> We Will use TF-IDF to train our models </b>"
   ]
  },
  {
   "cell_type": "code",
   "execution_count": 36,
   "metadata": {},
   "outputs": [],
   "source": [
    "X=df_labeled['sentence'].astype(str)\n",
    "Y=df_labeled['label']\n",
    "vect = TfidfVectorizer(max_features=40000,min_df=5,max_df=0.95,stop_words='english',analyzer='word',ngram_range=(1,2))\n",
    "vect.fit(X)\n",
    "X_1= vect.transform(X)"
   ]
  },
  {
   "cell_type": "markdown",
   "metadata": {},
   "source": [
    "### Logistic Regression"
   ]
  },
  {
   "cell_type": "code",
   "execution_count": 6,
   "metadata": {
    "scrolled": true
   },
   "outputs": [
    {
     "name": "stdout",
     "output_type": "stream",
     "text": [
      "Logistic Regression CV Mean: 0.8440802944605419\n"
     ]
    }
   ],
   "source": [
    "clf = LogisticRegression(C=10,solver='sag',multi_class='ovr')\n",
    "y_pred_LR = cross_val_predict(clf, X_1, Y, cv=10)\n",
    "acc_LR = cross_val_score(clf, X_1, Y, cv=10, scoring = 'accuracy').mean()\n",
    "print(\"Logistic Regression CV Mean:\", acc_LR)"
   ]
  },
  {
   "cell_type": "code",
   "execution_count": 348,
   "metadata": {
    "scrolled": true
   },
   "outputs": [
    {
     "name": "stdout",
     "output_type": "stream",
     "text": [
      "             precision    recall  f1-score   support\n",
      "\n",
      "          A       0.81      0.65      0.72       417\n",
      "          F       0.87      0.93      0.90      2108\n",
      "          S       0.79      0.72      0.75       861\n",
      "\n",
      "avg / total       0.84      0.84      0.84      3386\n",
      "\n"
     ]
    }
   ],
   "source": [
    "print(classification_report(Y,y_pred_LR))\n",
    "f1_m_LR = f1_score(Y,y_pred_LR, average='macro')\n",
    "f1_w_LR = f1_score(Y,y_pred_LR, average='weighted')"
   ]
  },
  {
   "cell_type": "markdown",
   "metadata": {},
   "source": [
    "### SVM"
   ]
  },
  {
   "cell_type": "code",
   "execution_count": 349,
   "metadata": {},
   "outputs": [
    {
     "name": "stdout",
     "output_type": "stream",
     "text": [
      "SVM CV Mean: 0.8488026612376762\n"
     ]
    }
   ],
   "source": [
    "clf = SVC(C=1, kernel='linear')\n",
    "y_pred_svc = cross_val_predict(clf, X_1, Y, cv=10)\n",
    "acc_svc = cross_val_score(clf, X_1, Y, cv=10, scoring = 'accuracy').mean()\n",
    "print(\"SVM CV Mean:\", acc_svc)"
   ]
  },
  {
   "cell_type": "code",
   "execution_count": 350,
   "metadata": {},
   "outputs": [
    {
     "name": "stdout",
     "output_type": "stream",
     "text": [
      "             precision    recall  f1-score   support\n",
      "\n",
      "          A       0.81      0.63      0.71       417\n",
      "          F       0.86      0.95      0.90      2108\n",
      "          S       0.83      0.71      0.77       861\n",
      "\n",
      "avg / total       0.85      0.85      0.84      3386\n",
      "\n"
     ]
    }
   ],
   "source": [
    "print(classification_report(Y,y_pred_svc))\n",
    "f1_m_svc = f1_score(Y,y_pred_svc, average='macro')\n",
    "f1_w_svc = f1_score(Y,y_pred_svc, average='weighted')"
   ]
  },
  {
   "cell_type": "markdown",
   "metadata": {},
   "source": [
    "### KNN"
   ]
  },
  {
   "cell_type": "code",
   "execution_count": 48,
   "metadata": {},
   "outputs": [
    {
     "data": {
      "image/png": "[encoded data removed]",
      "text/plain": [
       "<Figure size 432x288 with 1 Axes>"
      ]
     },
     "metadata": {},
     "output_type": "display_data"
    }
   ],
   "source": [
    "scores = []\n",
    "neighbors = [i for i in range(1, 100)]\n",
    "\n",
    "for i in range (1,100) :\n",
    "    clf = KNeighborsClassifier(n_neighbors = i)\n",
    "    scores.append(cross_val_score(clf, X_1, Y, cv=5, scoring = 'accuracy').mean())\n",
    "\n",
    "fig, ax = plt.subplots()\n",
    "ax.plot(neighbors, scores)\n",
    "\n",
    "ax.set(xlabel='Neighbors', ylabel='CV Accuracy Score',\n",
    "       title='CV Accuracy score for KNN')\n",
    "ax.grid()\n",
    "\n",
    "plt.show()"
   ]
  },
  {
   "cell_type": "code",
   "execution_count": 49,
   "metadata": {},
   "outputs": [
    {
     "name": "stdout",
     "output_type": "stream",
     "text": [
      "Accuracy KNN:  0.771743041874408\n"
     ]
    }
   ],
   "source": [
    "clf = KNeighborsClassifier(n_neighbors = 65)\n",
    "acc_knn = cross_val_score(clf, X_1, Y, cv=5, scoring = 'accuracy').mean()\n",
    "y_pred_knn = cross_val_predict(clf, X_1, Y, cv=10)\n",
    "print('Accuracy KNN: ', acc_knn)"
   ]
  },
  {
   "cell_type": "code",
   "execution_count": 50,
   "metadata": {},
   "outputs": [
    {
     "name": "stdout",
     "output_type": "stream",
     "text": [
      "             precision    recall  f1-score   support\n",
      "\n",
      "          A       0.91      0.07      0.13       432\n",
      "          F       0.84      0.89      0.87      2131\n",
      "          S       0.59      0.77      0.67       902\n",
      "\n",
      "avg / total       0.79      0.76      0.72      3465\n",
      "\n"
     ]
    }
   ],
   "source": [
    "print(classification_report(Y,y_pred_knn))\n",
    "f1_m_knn = f1_score(Y,y_pred_knn, average='macro')\n",
    "f1_w_knn = f1_score(Y,y_pred_knn, average='weighted')"
   ]
  },
  {
   "cell_type": "markdown",
   "metadata": {},
   "source": [
    "### Gaussian Naïve Bayes"
   ]
  },
  {
   "cell_type": "code",
   "execution_count": 64,
   "metadata": {},
   "outputs": [
    {
     "name": "stdout",
     "output_type": "stream",
     "text": [
      "Gaussian NB CV Mean: 0.6715410155614178\n"
     ]
    }
   ],
   "source": [
    "clf = OneVsRestClassifier(GaussianNB())\n",
    "y_pred_GNB = cross_val_predict(clf, X_1.toarray(), Y, cv=10)\n",
    "acc_GNB = cross_val_score(clf, X_1.toarray(), Y, cv=10, scoring = 'accuracy').mean()\n",
    "print(\"Gaussian NB CV Mean:\", acc_GNB)"
   ]
  },
  {
   "cell_type": "code",
   "execution_count": 77,
   "metadata": {},
   "outputs": [
    {
     "name": "stdout",
     "output_type": "stream",
     "text": [
      "             precision    recall  f1-score   support\n",
      "\n",
      "          A       0.68      0.35      0.47       432\n",
      "          F       0.92      0.65      0.76      2131\n",
      "          S       0.46      0.88      0.60       902\n",
      "\n",
      "avg / total       0.77      0.67      0.68      3465\n",
      "\n"
     ]
    }
   ],
   "source": [
    "print(classification_report(Y,y_pred_GNB))\n",
    "f1_m_GNB = f1_score(Y,y_pred_GNB, average='macro')\n",
    "f1_w_GNB = f1_score(Y,y_pred_GNB, average='weighted')"
   ]
  },
  {
   "cell_type": "markdown",
   "metadata": {},
   "source": [
    "### Multinomial Naïve Bayes"
   ]
  },
  {
   "cell_type": "code",
   "execution_count": 37,
   "metadata": {},
   "outputs": [
    {
     "name": "stdout",
     "output_type": "stream",
     "text": [
      "Multinomial NB CV Mean: 0.8538270570898758\n"
     ]
    }
   ],
   "source": [
    "clf = OneVsRestClassifier(MultinomialNB(alpha=0.41))\n",
    "y_pred_MNB= cross_val_predict(clf, X_1.toarray(), Y, cv=10)\n",
    "acc_MNB = cross_val_score(clf, X_1.toarray(), Y, cv=10, scoring = 'accuracy').mean()\n",
    "print(\"Multinomial NB CV Mean:\", acc_MNB)"
   ]
  },
  {
   "cell_type": "code",
   "execution_count": 38,
   "metadata": {
    "scrolled": true
   },
   "outputs": [
    {
     "name": "stdout",
     "output_type": "stream",
     "text": [
      "             precision    recall  f1-score   support\n",
      "\n",
      "          A       0.86      0.59      0.70       417\n",
      "          F       0.87      0.95      0.91      2108\n",
      "          S       0.81      0.75      0.78       861\n",
      "\n",
      "avg / total       0.85      0.85      0.85      3386\n",
      "\n"
     ]
    }
   ],
   "source": [
    "print(classification_report(Y,y_pred_MNB))\n",
    "f1_m_MNB = f1_score(Y,y_pred_MNB, average='macro')\n",
    "f1_w_MNB = f1_score(Y,y_pred_MNB, average='weighted')"
   ]
  },
  {
   "cell_type": "markdown",
   "metadata": {},
   "source": [
    "### Bernoulli Naïve Bayes"
   ]
  },
  {
   "cell_type": "code",
   "execution_count": 70,
   "metadata": {},
   "outputs": [
    {
     "name": "stdout",
     "output_type": "stream",
     "text": [
      "Bernoulli NB CV Mean: 0.8320240504157879\n"
     ]
    }
   ],
   "source": [
    "clf = BernoulliNB(alpha=0.3)\n",
    "y_pred_BNB= cross_val_predict(clf, X_1.toarray(), Y, cv=10)\n",
    "acc_BNB = cross_val_score(clf, X_1.toarray(), Y, cv=10, scoring = 'accuracy').mean()\n",
    "print(\"Bernoulli NB CV Mean:\", acc_BNB)"
   ]
  },
  {
   "cell_type": "code",
   "execution_count": 71,
   "metadata": {
    "scrolled": true
   },
   "outputs": [
    {
     "name": "stdout",
     "output_type": "stream",
     "text": [
      "             precision    recall  f1-score   support\n",
      "\n",
      "          A       0.68      0.71      0.70       432\n",
      "          F       0.89      0.89      0.89      2131\n",
      "          S       0.76      0.75      0.76       902\n",
      "\n",
      "avg / total       0.83      0.83      0.83      3465\n",
      "\n"
     ]
    }
   ],
   "source": [
    "print(classification_report(Y,y_pred_BNB))\n",
    "f1_m_BNB = f1_score(Y,y_pred_BNB, average='macro')\n",
    "f1_w_BNB = f1_score(Y,y_pred_BNB, average='weighted')"
   ]
  },
  {
   "cell_type": "markdown",
   "metadata": {},
   "source": [
    "### Decision Tree"
   ]
  },
  {
   "cell_type": "code",
   "execution_count": 72,
   "metadata": {},
   "outputs": [
    {
     "name": "stdout",
     "output_type": "stream",
     "text": [
      "Decision Tree CV Mean: 0.7367925367028132\n"
     ]
    }
   ],
   "source": [
    "clf = DecisionTreeClassifier()\n",
    "y_pred_DT = cross_val_predict(clf, X_1.toarray(), Y, cv=10)\n",
    "acc_DT = cross_val_score(clf, X_1.toarray(), Y, cv=10, scoring = 'accuracy').mean()\n",
    "print(\"Decision Tree CV Mean:\", acc_DT)"
   ]
  },
  {
   "cell_type": "code",
   "execution_count": 73,
   "metadata": {
    "scrolled": true
   },
   "outputs": [
    {
     "name": "stdout",
     "output_type": "stream",
     "text": [
      "             precision    recall  f1-score   support\n",
      "\n",
      "          A       0.59      0.59      0.59       432\n",
      "          F       0.85      0.77      0.81      2131\n",
      "          S       0.58      0.70      0.64       902\n",
      "\n",
      "avg / total       0.75      0.73      0.74      3465\n",
      "\n"
     ]
    }
   ],
   "source": [
    "print(classification_report(Y,y_pred_DT))\n",
    "f1_m_DT = f1_score(Y,y_pred_DT, average='macro')\n",
    "f1_w_DT = f1_score(Y,y_pred_DT, average='weighted')"
   ]
  },
  {
   "cell_type": "markdown",
   "metadata": {},
   "source": [
    "### Random Forest"
   ]
  },
  {
   "cell_type": "code",
   "execution_count": 74,
   "metadata": {},
   "outputs": [
    {
     "name": "stdout",
     "output_type": "stream",
     "text": [
      "Random Forest CV Mean: 0.8086650231619371\n"
     ]
    }
   ],
   "source": [
    "clf = RandomForestClassifier(n_estimators=100)\n",
    "y_pred_RF= cross_val_predict(clf, X_1.toarray(), Y, cv=10)\n",
    "acc_RF = cross_val_score(clf, X_1.toarray(), Y, cv=10, scoring = 'accuracy').mean()\n",
    "print(\"Random Forest CV Mean:\", acc_RF)"
   ]
  },
  {
   "cell_type": "code",
   "execution_count": 75,
   "metadata": {
    "scrolled": true
   },
   "outputs": [
    {
     "name": "stdout",
     "output_type": "stream",
     "text": [
      "             precision    recall  f1-score   support\n",
      "\n",
      "          A       0.72      0.63      0.67       432\n",
      "          F       0.86      0.88      0.87      2131\n",
      "          S       0.72      0.73      0.73       902\n",
      "\n",
      "avg / total       0.81      0.81      0.81      3465\n",
      "\n"
     ]
    }
   ],
   "source": [
    "print(classification_report(Y,y_pred_RF))\n",
    "f1_m_RF = f1_score(Y,y_pred_RF, average='macro')\n",
    "f1_w_RF = f1_score(Y,y_pred_RF, average='weighted')"
   ]
  },
  {
   "cell_type": "markdown",
   "metadata": {},
   "source": [
    "### Evaluation of models"
   ]
  },
  {
   "cell_type": "code",
   "execution_count": 78,
   "metadata": {
    "scrolled": false
   },
   "outputs": [
    {
     "data": {
      "text/html": [
       "<div>\n",
       "<style scoped>\n",
       "    .dataframe tbody tr th:only-of-type {\n",
       "        vertical-align: middle;\n",
       "    }\n",
       "\n",
       "    .dataframe tbody tr th {\n",
       "        vertical-align: top;\n",
       "    }\n",
       "\n",
       "    .dataframe thead th {\n",
       "        text-align: right;\n",
       "    }\n",
       "</style>\n",
       "<table border=\"1\" class=\"dataframe\">\n",
       "  <thead>\n",
       "    <tr style=\"text-align: right;\">\n",
       "      <th></th>\n",
       "      <th>Model</th>\n",
       "      <th>Accuracy</th>\n",
       "      <th>F1_macro</th>\n",
       "      <th>F1_weighted</th>\n",
       "      <th>best_Accuracy</th>\n",
       "      <th>best_F1_macro</th>\n",
       "      <th>best_F1_weighted</th>\n",
       "    </tr>\n",
       "  </thead>\n",
       "  <tbody>\n",
       "    <tr>\n",
       "      <th>0</th>\n",
       "      <td>Logistic Regression</td>\n",
       "      <td>0.837794</td>\n",
       "      <td>0.782511</td>\n",
       "      <td>0.834171</td>\n",
       "      <td>Multinomial NB</td>\n",
       "      <td>Logistic Regression</td>\n",
       "      <td>Multinomial NB</td>\n",
       "    </tr>\n",
       "    <tr>\n",
       "      <th>1</th>\n",
       "      <td>SVC</td>\n",
       "      <td>0.838373</td>\n",
       "      <td>0.777564</td>\n",
       "      <td>0.832704</td>\n",
       "      <td>SVC</td>\n",
       "      <td>Bernoulli NB</td>\n",
       "      <td>Logistic Regression</td>\n",
       "    </tr>\n",
       "    <tr>\n",
       "      <th>2</th>\n",
       "      <td>KNN</td>\n",
       "      <td>0.771743</td>\n",
       "      <td>0.556199</td>\n",
       "      <td>0.723360</td>\n",
       "      <td>Logistic Regression</td>\n",
       "      <td>Multinomial NB</td>\n",
       "      <td>SVC</td>\n",
       "    </tr>\n",
       "    <tr>\n",
       "      <th>3</th>\n",
       "      <td>Gaussian NB</td>\n",
       "      <td>0.671541</td>\n",
       "      <td>0.609326</td>\n",
       "      <td>0.681826</td>\n",
       "      <td>Bernoulli NB</td>\n",
       "      <td>SVC</td>\n",
       "      <td>Bernoulli NB</td>\n",
       "    </tr>\n",
       "    <tr>\n",
       "      <th>4</th>\n",
       "      <td>Multinomial NB</td>\n",
       "      <td>0.842136</td>\n",
       "      <td>0.780758</td>\n",
       "      <td>0.836443</td>\n",
       "      <td>Random Forest</td>\n",
       "      <td>Random Forest</td>\n",
       "      <td>Random Forest</td>\n",
       "    </tr>\n",
       "    <tr>\n",
       "      <th>5</th>\n",
       "      <td>Bernoulli NB</td>\n",
       "      <td>0.832024</td>\n",
       "      <td>0.781627</td>\n",
       "      <td>0.832369</td>\n",
       "      <td>KNN</td>\n",
       "      <td>Decision Tree</td>\n",
       "      <td>Decision Tree</td>\n",
       "    </tr>\n",
       "    <tr>\n",
       "      <th>6</th>\n",
       "      <td>Decision Tree</td>\n",
       "      <td>0.736793</td>\n",
       "      <td>0.679013</td>\n",
       "      <td>0.736129</td>\n",
       "      <td>Decision Tree</td>\n",
       "      <td>Gaussian NB</td>\n",
       "      <td>KNN</td>\n",
       "    </tr>\n",
       "    <tr>\n",
       "      <th>7</th>\n",
       "      <td>Random Forest</td>\n",
       "      <td>0.808665</td>\n",
       "      <td>0.757258</td>\n",
       "      <td>0.809609</td>\n",
       "      <td>Gaussian NB</td>\n",
       "      <td>KNN</td>\n",
       "      <td>Gaussian NB</td>\n",
       "    </tr>\n",
       "  </tbody>\n",
       "</table>\n",
       "</div>"
      ],
      "text/plain": [
       "                 Model  Accuracy  F1_macro  F1_weighted        best_Accuracy  \\\n",
       "0  Logistic Regression  0.837794  0.782511     0.834171       Multinomial NB   \n",
       "1                  SVC  0.838373  0.777564     0.832704                  SVC   \n",
       "2                  KNN  0.771743  0.556199     0.723360  Logistic Regression   \n",
       "3          Gaussian NB  0.671541  0.609326     0.681826         Bernoulli NB   \n",
       "4       Multinomial NB  0.842136  0.780758     0.836443        Random Forest   \n",
       "5         Bernoulli NB  0.832024  0.781627     0.832369                  KNN   \n",
       "6        Decision Tree  0.736793  0.679013     0.736129        Decision Tree   \n",
       "7        Random Forest  0.808665  0.757258     0.809609          Gaussian NB   \n",
       "\n",
       "         best_F1_macro     best_F1_weighted  \n",
       "0  Logistic Regression       Multinomial NB  \n",
       "1         Bernoulli NB  Logistic Regression  \n",
       "2       Multinomial NB                  SVC  \n",
       "3                  SVC         Bernoulli NB  \n",
       "4        Random Forest        Random Forest  \n",
       "5        Decision Tree        Decision Tree  \n",
       "6          Gaussian NB                  KNN  \n",
       "7                  KNN          Gaussian NB  "
      ]
     },
     "execution_count": 78,
     "metadata": {},
     "output_type": "execute_result"
    }
   ],
   "source": [
    "models = pd.DataFrame({\n",
    "    'Model': ['Logistic Regression', \n",
    "              'SVC', 'KNN', 'Gaussian NB' , 'Multinomial NB','Bernoulli NB','Decision Tree', 'Random Forest',],\n",
    "    'Accuracy': [acc_LR, acc_svc, acc_knn, acc_GNB, acc_MNB, acc_BNB, acc_DT, acc_RF],\n",
    "    'F1_macro': [f1_m_LR,f1_m_svc,f1_m_knn,f1_m_GNB,f1_m_MNB,f1_m_BNB,f1_m_DT,f1_m_RF],\n",
    "    'F1_weighted': [f1_w_LR,f1_w_svc,f1_w_knn,f1_w_GNB,f1_w_MNB,f1_w_BNB,f1_w_DT,f1_w_RF]})\n",
    "models['best_Accuracy'] = models.sort_values(by='Accuracy',ascending=False)['Model'].reset_index(drop=True)\n",
    "models['best_F1_macro'] = models.sort_values(by='F1_macro',ascending=False)['Model'].reset_index(drop=True)\n",
    "models['best_F1_weighted'] = models.sort_values(by='F1_weighted',ascending=False)['Model'].reset_index(drop=True)\n",
    "models"
   ]
  },
  {
   "cell_type": "markdown",
   "metadata": {},
   "source": [
    "Checking best params for Multinomial NB"
   ]
  },
  {
   "cell_type": "code",
   "execution_count": 57,
   "metadata": {},
   "outputs": [],
   "source": [
    "param_grid = {'alpha': np.arange(0.2,0.5,0.01)}\n",
    "grid_search = GridSearchCV(MultinomialNB(), param_grid, cv=10,scoring='f1_macro')\n",
    "grid_search.fit(X_1.toarray(), Y)\n",
    "grid_search.best_params_\n",
    "clf = grid_search.best_estimator_\n",
    "y_pred_best_MNB = cross_val_predict(clf, X_1.toarray(), Y, cv=10)"
   ]
  },
  {
   "cell_type": "code",
   "execution_count": 368,
   "metadata": {
    "scrolled": true
   },
   "outputs": [
    {
     "data": {
      "image/png": "[encoded data removed]",
      "text/plain": [
       "<Figure size 576x360 with 2 Axes>"
      ]
     },
     "metadata": {},
     "output_type": "display_data"
    }
   ],
   "source": [
    "conf_mat = confusion_matrix(Y,y_pred_best_MNB)\n",
    "fig, ax = plt.subplots(figsize=(8,5))\n",
    "sns.heatmap(conf_mat, annot=True, fmt='d')\n",
    "plt.ylabel('Actual')\n",
    "plt.xlabel('Predicted')\n",
    "plt.xticks(np.arange(3)+0.5, ['A','F','S'])\n",
    "plt.yticks(np.arange(3)+0.5, ['A','F','S'], rotation=50)\n",
    "plt.show()"
   ]
  },
  {
   "cell_type": "markdown",
   "metadata": {},
   "source": [
    "### Multinomial NB removing low probabilities"
   ]
  },
  {
   "cell_type": "markdown",
   "metadata": {},
   "source": [
    "Now, we will predict probabilities and remove the entries who don't have probs greater than some treshold. By doing this, we would want to gain a lot in precision and accuracy whlie trying to keep as many data as possible."
   ]
  },
  {
   "cell_type": "code",
   "execution_count": 39,
   "metadata": {},
   "outputs": [
    {
     "name": "stdout",
     "output_type": "stream",
     "text": [
      "Multinomial NB CV Mean: 0.8538270570898758\n"
     ]
    }
   ],
   "source": [
    "clf = OneVsRestClassifier(MultinomialNB(alpha=0.41))\n",
    "clf.fit(X_1.toarray(), Y)\n",
    "y_pred_MNB= cross_val_predict(clf, X_1.toarray(), Y, cv=10, method='predict_proba')\n",
    "acc_MNB = cross_val_score(clf, X_1.toarray(), Y, cv=10, scoring = 'accuracy').mean()\n",
    "print(\"Multinomial NB CV Mean:\", acc_MNB)"
   ]
  },
  {
   "cell_type": "code",
   "execution_count": 160,
   "metadata": {},
   "outputs": [],
   "source": [
    "from sklearn.metrics import precision_score\n",
    "def make_pred(y_pred, df, treshold=0.5):\n",
    "    \n",
    "    predictions = []\n",
    "    df_final = pd.DataFrame(columns=df.columns)\n",
    "    dict_topic_pred = {0:'A', 1:'F', 2:'S'}\n",
    "    for i, pred in enumerate(y_pred):\n",
    "        for j, el in enumerate(pred):\n",
    "            if el>treshold:\n",
    "                predictions.append((i,dict_topic_pred[j]))\n",
    "                df_final.loc[df_final.shape[0]] = df.loc[i].copy()\n",
    "    df_final['prediction'] = [pred[1] for pred in predictions]\n",
    "    df_final['precision'] = precision_score(df_final.label,df_final.prediction, average='macro')\n",
    "    \n",
    "    return df_final"
   ]
  },
  {
   "cell_type": "markdown",
   "metadata": {},
   "source": [
    "Let's try different tresholds"
   ]
  },
  {
   "cell_type": "code",
   "execution_count": 423,
   "metadata": {},
   "outputs": [],
   "source": [
    "df_list = []\n",
    "for i in np.arange(0.45,0.9,0.05):\n",
    "    df_list.append(make_pred(y_pred_MNB,df_labeled, i))"
   ]
  },
  {
   "cell_type": "markdown",
   "metadata": {},
   "source": [
    "Now we will plot 2 graphs:\n",
    "- number of entries in function of treshold\n",
    "- precision in function of treshold"
   ]
  },
  {
   "cell_type": "code",
   "execution_count": 424,
   "metadata": {
    "scrolled": true
   },
   "outputs": [
    {
     "data": {
      "text/plain": [
       "<matplotlib.collections.PathCollection at 0x173975d6390>"
      ]
     },
     "execution_count": 424,
     "metadata": {},
     "output_type": "execute_result"
    },
    {
     "data": {
      "image/png": "[encoded data removed]",
      "text/plain": [
       "<Figure size 720x576 with 2 Axes>"
      ]
     },
     "metadata": {},
     "output_type": "display_data"
    }
   ],
   "source": [
    "prep = []\n",
    "size = []\n",
    "for i in df_list:\n",
    "    prep.append(i.precision.mean())\n",
    "    size.append(len(i))\n",
    "\n",
    "fig = plt.figure(figsize=(10, 8)) \n",
    "ax0 = plt.subplot(211)\n",
    "ax0.scatter(np.arange(0.45,0.9,0.05),size)\n",
    "ax1 = plt.subplot(212)\n",
    "ax1.scatter(np.arange(0.45,0.9,0.05),prep)  "
   ]
  },
  {
   "cell_type": "markdown",
   "metadata": {},
   "source": [
    "0.5 as a treshold seems a good tradeoff between gaining a little precision and keeping as much data as possible "
   ]
  },
  {
   "cell_type": "code",
   "execution_count": 161,
   "metadata": {},
   "outputs": [],
   "source": [
    "df_final = make_pred(y_pred_MNB, df_labeled)"
   ]
  },
  {
   "cell_type": "code",
   "execution_count": 162,
   "metadata": {},
   "outputs": [
    {
     "name": "stdout",
     "output_type": "stream",
     "text": [
      "             precision    recall  f1-score   support\n",
      "\n",
      "          A       0.90      0.64      0.75       328\n",
      "          F       0.89      0.96      0.93      2032\n",
      "          S       0.84      0.78      0.81       791\n",
      "\n",
      "avg / total       0.88      0.88      0.88      3151\n",
      "\n"
     ]
    }
   ],
   "source": [
    "print(classification_report(df_final.label,df_final.prediction))"
   ]
  },
  {
   "cell_type": "code",
   "execution_count": 163,
   "metadata": {},
   "outputs": [
    {
     "data": {
      "image/png": "[encoded data removed]",
      "text/plain": [
       "<Figure size 576x360 with 2 Axes>"
      ]
     },
     "metadata": {},
     "output_type": "display_data"
    }
   ],
   "source": [
    "conf_mat = confusion_matrix(df_final.label,df_final.prediction)\n",
    "fig, ax = plt.subplots(figsize=(8,5))\n",
    "sns.heatmap(conf_mat, annot=True, fmt='d')\n",
    "plt.ylabel('Actual')\n",
    "plt.xlabel('Predicted')\n",
    "plt.xticks(np.arange(3)+0.5, ['A','F','S'])\n",
    "plt.yticks(np.arange(3)+0.5, ['A','F','S'], rotation=0)\n",
    "plt.show()"
   ]
  },
  {
   "cell_type": "markdown",
   "metadata": {},
   "source": [
    "## Sentiment Analysis with TextBlob"
   ]
  },
  {
   "cell_type": "markdown",
   "metadata": {},
   "source": [
    "Let's perform sentiment analysis on each sentence and then group sentences by topic in each sentence, average each note of the topic and finally average notes for 3 topics"
   ]
  },
  {
   "cell_type": "code",
   "execution_count": 40,
   "metadata": {
    "scrolled": true
   },
   "outputs": [
    {
     "data": {
      "application/vnd.jupyter.widget-view+json": {
       "model_id": "93374e2ef0764a6884812f0a57e1871d",
       "version_major": 2,
       "version_minor": 0
      },
      "text/plain": [
       "HBox(children=(IntProgress(value=0, max=3386), HTML(value='')))"
      ]
     },
     "metadata": {},
     "output_type": "display_data"
    },
    {
     "name": "stdout",
     "output_type": "stream",
     "text": [
      "\n"
     ]
    },
    {
     "data": {
      "text/html": [
       "<div>\n",
       "<style scoped>\n",
       "    .dataframe tbody tr th:only-of-type {\n",
       "        vertical-align: middle;\n",
       "    }\n",
       "\n",
       "    .dataframe tbody tr th {\n",
       "        vertical-align: top;\n",
       "    }\n",
       "\n",
       "    .dataframe thead th {\n",
       "        text-align: right;\n",
       "    }\n",
       "</style>\n",
       "<table border=\"1\" class=\"dataframe\">\n",
       "  <thead>\n",
       "    <tr style=\"text-align: right;\">\n",
       "      <th></th>\n",
       "      <th>index</th>\n",
       "      <th>numbers</th>\n",
       "      <th>stars</th>\n",
       "      <th>sentence</th>\n",
       "      <th>label</th>\n",
       "      <th>star_label</th>\n",
       "      <th>sentiment</th>\n",
       "    </tr>\n",
       "  </thead>\n",
       "  <tbody>\n",
       "    <tr>\n",
       "      <th>0</th>\n",
       "      <td>182</td>\n",
       "      <td>14</td>\n",
       "      <td>5</td>\n",
       "      <td>It used to be a smaller place but now it's pre...</td>\n",
       "      <td>A</td>\n",
       "      <td>4.0</td>\n",
       "      <td>0.125</td>\n",
       "    </tr>\n",
       "    <tr>\n",
       "      <th>1</th>\n",
       "      <td>183</td>\n",
       "      <td>14</td>\n",
       "      <td>5</td>\n",
       "      <td>The decor is simple and effective.</td>\n",
       "      <td>A</td>\n",
       "      <td>4.0</td>\n",
       "      <td>0.300</td>\n",
       "    </tr>\n",
       "    <tr>\n",
       "      <th>2</th>\n",
       "      <td>184</td>\n",
       "      <td>14</td>\n",
       "      <td>5</td>\n",
       "      <td>Service is good.</td>\n",
       "      <td>S</td>\n",
       "      <td>4.0</td>\n",
       "      <td>0.700</td>\n",
       "    </tr>\n",
       "    <tr>\n",
       "      <th>3</th>\n",
       "      <td>185</td>\n",
       "      <td>14</td>\n",
       "      <td>5</td>\n",
       "      <td>Open kitchen, just the way I like it.</td>\n",
       "      <td>A</td>\n",
       "      <td>4.0</td>\n",
       "      <td>0.000</td>\n",
       "    </tr>\n",
       "    <tr>\n",
       "      <th>4</th>\n",
       "      <td>186</td>\n",
       "      <td>14</td>\n",
       "      <td>5</td>\n",
       "      <td>I liked how our server suggested what kind of ...</td>\n",
       "      <td>S</td>\n",
       "      <td>4.0</td>\n",
       "      <td>0.600</td>\n",
       "    </tr>\n",
       "  </tbody>\n",
       "</table>\n",
       "</div>"
      ],
      "text/plain": [
       "   index  numbers  stars                                           sentence  \\\n",
       "0    182       14      5  It used to be a smaller place but now it's pre...   \n",
       "1    183       14      5                 The decor is simple and effective.   \n",
       "2    184       14      5                                   Service is good.   \n",
       "3    185       14      5              Open kitchen, just the way I like it.   \n",
       "4    186       14      5  I liked how our server suggested what kind of ...   \n",
       "\n",
       "  label  star_label  sentiment  \n",
       "0     A         4.0      0.125  \n",
       "1     A         4.0      0.300  \n",
       "2     S         4.0      0.700  \n",
       "3     A         4.0      0.000  \n",
       "4     S         4.0      0.600  "
      ]
     },
     "execution_count": 40,
     "metadata": {},
     "output_type": "execute_result"
    }
   ],
   "source": [
    "from textblob import TextBlob\n",
    "df_labeled['sentiment']=df_labeled['sentence'].progress_apply(lambda x:TextBlob(x).sentiment[0])\n",
    "df_labeled.head()"
   ]
  },
  {
   "cell_type": "code",
   "execution_count": 41,
   "metadata": {},
   "outputs": [],
   "source": [
    "#df_sentiment.to_csv('df_sentiment.csv',index=False)"
   ]
  },
  {
   "cell_type": "code",
   "execution_count": 42,
   "metadata": {},
   "outputs": [
    {
     "data": {
      "text/html": [
       "<div>\n",
       "<style scoped>\n",
       "    .dataframe tbody tr th:only-of-type {\n",
       "        vertical-align: middle;\n",
       "    }\n",
       "\n",
       "    .dataframe tbody tr th {\n",
       "        vertical-align: top;\n",
       "    }\n",
       "\n",
       "    .dataframe thead th {\n",
       "        text-align: right;\n",
       "    }\n",
       "</style>\n",
       "<table border=\"1\" class=\"dataframe\">\n",
       "  <thead>\n",
       "    <tr style=\"text-align: right;\">\n",
       "      <th></th>\n",
       "      <th></th>\n",
       "      <th></th>\n",
       "      <th>sentiment</th>\n",
       "    </tr>\n",
       "    <tr>\n",
       "      <th>numbers</th>\n",
       "      <th>label</th>\n",
       "      <th>stars</th>\n",
       "      <th></th>\n",
       "    </tr>\n",
       "  </thead>\n",
       "  <tbody>\n",
       "    <tr>\n",
       "      <th rowspan=\"3\" valign=\"top\">14</th>\n",
       "      <th>A</th>\n",
       "      <th>5</th>\n",
       "      <td>0.171726</td>\n",
       "    </tr>\n",
       "    <tr>\n",
       "      <th>F</th>\n",
       "      <th>5</th>\n",
       "      <td>0.500397</td>\n",
       "    </tr>\n",
       "    <tr>\n",
       "      <th>S</th>\n",
       "      <th>5</th>\n",
       "      <td>0.650000</td>\n",
       "    </tr>\n",
       "    <tr>\n",
       "      <th>59</th>\n",
       "      <th>F</th>\n",
       "      <th>5</th>\n",
       "      <td>0.325397</td>\n",
       "    </tr>\n",
       "    <tr>\n",
       "      <th>64</th>\n",
       "      <th>A</th>\n",
       "      <th>5</th>\n",
       "      <td>0.194940</td>\n",
       "    </tr>\n",
       "  </tbody>\n",
       "</table>\n",
       "</div>"
      ],
      "text/plain": [
       "                     sentiment\n",
       "numbers label stars           \n",
       "14      A     5       0.171726\n",
       "        F     5       0.500397\n",
       "        S     5       0.650000\n",
       "59      F     5       0.325397\n",
       "64      A     5       0.194940"
      ]
     },
     "execution_count": 42,
     "metadata": {},
     "output_type": "execute_result"
    }
   ],
   "source": [
    "df_grouped = pd.DataFrame(df_labeled.groupby(['numbers','label','stars'])['sentiment'].mean())\n",
    "df_grouped.head()"
   ]
  },
  {
   "cell_type": "code",
   "execution_count": 43,
   "metadata": {
    "scrolled": true
   },
   "outputs": [
    {
     "name": "stderr",
     "output_type": "stream",
     "text": [
      "100%|██████████████████████████████████████████████████████████████████████████| 1030/1030 [00:00<00:00, 415557.25it/s]\n"
     ]
    }
   ],
   "source": [
    "topic = []\n",
    "number = []\n",
    "\n",
    "for el in tqdm(df_grouped.index):\n",
    "    number.append(el[0])\n",
    "    topic.append(el[1])"
   ]
  },
  {
   "cell_type": "code",
   "execution_count": 44,
   "metadata": {},
   "outputs": [
    {
     "data": {
      "text/html": [
       "<div>\n",
       "<style scoped>\n",
       "    .dataframe tbody tr th:only-of-type {\n",
       "        vertical-align: middle;\n",
       "    }\n",
       "\n",
       "    .dataframe tbody tr th {\n",
       "        vertical-align: top;\n",
       "    }\n",
       "\n",
       "    .dataframe thead th {\n",
       "        text-align: right;\n",
       "    }\n",
       "</style>\n",
       "<table border=\"1\" class=\"dataframe\">\n",
       "  <thead>\n",
       "    <tr style=\"text-align: right;\">\n",
       "      <th></th>\n",
       "      <th></th>\n",
       "      <th>sentiment</th>\n",
       "    </tr>\n",
       "    <tr>\n",
       "      <th>numbers</th>\n",
       "      <th>stars</th>\n",
       "      <th></th>\n",
       "    </tr>\n",
       "  </thead>\n",
       "  <tbody>\n",
       "    <tr>\n",
       "      <th>14</th>\n",
       "      <th>5</th>\n",
       "      <td>0.422283</td>\n",
       "    </tr>\n",
       "    <tr>\n",
       "      <th>59</th>\n",
       "      <th>5</th>\n",
       "      <td>0.325397</td>\n",
       "    </tr>\n",
       "    <tr>\n",
       "      <th>64</th>\n",
       "      <th>5</th>\n",
       "      <td>0.162777</td>\n",
       "    </tr>\n",
       "    <tr>\n",
       "      <th>79</th>\n",
       "      <th>4</th>\n",
       "      <td>-0.041667</td>\n",
       "    </tr>\n",
       "    <tr>\n",
       "      <th>95</th>\n",
       "      <th>4</th>\n",
       "      <td>0.020238</td>\n",
       "    </tr>\n",
       "  </tbody>\n",
       "</table>\n",
       "</div>"
      ],
      "text/plain": [
       "               sentiment\n",
       "numbers stars           \n",
       "14      5       0.422283\n",
       "59      5       0.325397\n",
       "64      5       0.162777\n",
       "79      4      -0.041667\n",
       "95      4       0.020238"
      ]
     },
     "execution_count": 44,
     "metadata": {},
     "output_type": "execute_result"
    }
   ],
   "source": [
    "df_grouped = pd.DataFrame({'number':number})\n",
    "df_grouped['topic']=topic\n",
    "df_grouped['sentiment']=df_labeled.sentiment\n",
    "\n",
    "df_grouped = pd.DataFrame(df_labeled.groupby(['numbers','stars'])['sentiment'].mean())\n",
    "\n",
    "df_grouped.head()"
   ]
  },
  {
   "cell_type": "code",
   "execution_count": 45,
   "metadata": {},
   "outputs": [
    {
     "data": {
      "text/plain": [
       "(-0.6, 1.1)"
      ]
     },
     "execution_count": 45,
     "metadata": {},
     "output_type": "execute_result"
    },
    {
     "data": {
      "image/png": "[encoded data removed]",
      "text/plain": [
       "<Figure size 432x288 with 1 Axes>"
      ]
     },
     "metadata": {},
     "output_type": "display_data"
    }
   ],
   "source": [
    "sns.boxplot(x=df_grouped.index.labels[1]+1, y=\"sentiment\", data=df_grouped)\n",
    "plt.ylim((-0.6,1.1))"
   ]
  },
  {
   "cell_type": "markdown",
   "metadata": {},
   "source": [
    "## Darden Restaurants"
   ]
  },
  {
   "cell_type": "code",
   "execution_count": 46,
   "metadata": {},
   "outputs": [
    {
     "data": {
      "text/html": [
       "<div>\n",
       "<style scoped>\n",
       "    .dataframe tbody tr th:only-of-type {\n",
       "        vertical-align: middle;\n",
       "    }\n",
       "\n",
       "    .dataframe tbody tr th {\n",
       "        vertical-align: top;\n",
       "    }\n",
       "\n",
       "    .dataframe thead th {\n",
       "        text-align: right;\n",
       "    }\n",
       "</style>\n",
       "<table border=\"1\" class=\"dataframe\">\n",
       "  <thead>\n",
       "    <tr style=\"text-align: right;\">\n",
       "      <th></th>\n",
       "      <th>review</th>\n",
       "      <th>stars</th>\n",
       "      <th>address</th>\n",
       "      <th>name</th>\n",
       "      <th>number</th>\n",
       "    </tr>\n",
       "  </thead>\n",
       "  <tbody>\n",
       "    <tr>\n",
       "      <th>0</th>\n",
       "      <td>Remains my favorite restaurant in NYC. I visit...</td>\n",
       "      <td>5.0</td>\n",
       "      <td>120 Broadway, New York, NY 10271</td>\n",
       "      <td>The Capital Grille</td>\n",
       "      <td>0</td>\n",
       "    </tr>\n",
       "    <tr>\n",
       "      <th>1</th>\n",
       "      <td>Probably torn between a 2 and a 3, but I'll be...</td>\n",
       "      <td>3.0</td>\n",
       "      <td>120 Broadway, New York, NY 10271</td>\n",
       "      <td>The Capital Grille</td>\n",
       "      <td>1</td>\n",
       "    </tr>\n",
       "    <tr>\n",
       "      <th>2</th>\n",
       "      <td>If  you made a lot of money that day in the st...</td>\n",
       "      <td>4.0</td>\n",
       "      <td>120 Broadway, New York, NY 10271</td>\n",
       "      <td>The Capital Grille</td>\n",
       "      <td>2</td>\n",
       "    </tr>\n",
       "    <tr>\n",
       "      <th>3</th>\n",
       "      <td>I really wanted to give it a four-star as I en...</td>\n",
       "      <td>3.0</td>\n",
       "      <td>120 Broadway, New York, NY 10271</td>\n",
       "      <td>The Capital Grille</td>\n",
       "      <td>3</td>\n",
       "    </tr>\n",
       "    <tr>\n",
       "      <th>4</th>\n",
       "      <td>*This is a NYC Restaurant Week review** Had to...</td>\n",
       "      <td>5.0</td>\n",
       "      <td>120 Broadway, New York, NY 10271</td>\n",
       "      <td>The Capital Grille</td>\n",
       "      <td>4</td>\n",
       "    </tr>\n",
       "  </tbody>\n",
       "</table>\n",
       "</div>"
      ],
      "text/plain": [
       "                                              review  stars  \\\n",
       "0  Remains my favorite restaurant in NYC. I visit...    5.0   \n",
       "1  Probably torn between a 2 and a 3, but I'll be...    3.0   \n",
       "2  If  you made a lot of money that day in the st...    4.0   \n",
       "3  I really wanted to give it a four-star as I en...    3.0   \n",
       "4  *This is a NYC Restaurant Week review** Had to...    5.0   \n",
       "\n",
       "                            address                name  number  \n",
       "0  120 Broadway, New York, NY 10271  The Capital Grille       0  \n",
       "1  120 Broadway, New York, NY 10271  The Capital Grille       1  \n",
       "2  120 Broadway, New York, NY 10271  The Capital Grille       2  \n",
       "3  120 Broadway, New York, NY 10271  The Capital Grille       3  \n",
       "4  120 Broadway, New York, NY 10271  The Capital Grille       4  "
      ]
     },
     "execution_count": 46,
     "metadata": {},
     "output_type": "execute_result"
    }
   ],
   "source": [
    "darden = pd.read_csv('darden_restaurants.csv')\n",
    "darden['number'] = darden.index\n",
    "darden.head()"
   ]
  },
  {
   "cell_type": "code",
   "execution_count": 47,
   "metadata": {},
   "outputs": [
    {
     "name": "stdout",
     "output_type": "stream",
     "text": [
      "We have 4163 reviews of 18 Darden restaurants in NYC\n"
     ]
    }
   ],
   "source": [
    "print('We have {} reviews of {} Darden restaurants in NYC'.format(darden.shape[0], len(darden.address.unique())))"
   ]
  },
  {
   "cell_type": "markdown",
   "metadata": {},
   "source": [
    "### Geolocation\n",
    "<b><i> conda install -c conda-forge geopy </i></b>"
   ]
  },
  {
   "cell_type": "code",
   "execution_count": 48,
   "metadata": {},
   "outputs": [],
   "source": [
    "df_adresses = darden[['name','address']].copy()\n",
    "df_adresses['latitude'] = None\n",
    "df_adresses['longitude'] = None\n",
    "df_adresses.drop_duplicates(inplace=True)\n",
    "df_adresses.reset_index(inplace=True,drop=True)"
   ]
  },
  {
   "cell_type": "markdown",
   "metadata": {},
   "source": [
    "Lat_Long are hardcoded because geopy API crashes often at this time"
   ]
  },
  {
   "cell_type": "code",
   "execution_count": 49,
   "metadata": {},
   "outputs": [],
   "source": [
    "lat_long = [(40.708671, -74.010968), (40.751022, -73.974982), (40.760967, -73.981091), (40.759381, -73.984524), (40.791590, -74.050435), (40.734242, -73.868819), (40.807965, -73.946011), (40.651177, -73.869029), (40.866282, -73.825012), (40.665103, -73.723019), (40.916843, -74.058293), (40.661094, -74.108653), (40.734504, -73.867923), (40.902393, -74.072074), (40.965826, -73.857277), (40.740273, -73.615435), (40.545929, -74.332831), (40.916893, -74.058549)]"
   ]
  },
  {
   "cell_type": "code",
   "execution_count": 50,
   "metadata": {},
   "outputs": [
    {
     "data": {
      "text/html": [
       "<div>\n",
       "<style scoped>\n",
       "    .dataframe tbody tr th:only-of-type {\n",
       "        vertical-align: middle;\n",
       "    }\n",
       "\n",
       "    .dataframe tbody tr th {\n",
       "        vertical-align: top;\n",
       "    }\n",
       "\n",
       "    .dataframe thead th {\n",
       "        text-align: right;\n",
       "    }\n",
       "</style>\n",
       "<table border=\"1\" class=\"dataframe\">\n",
       "  <thead>\n",
       "    <tr style=\"text-align: right;\">\n",
       "      <th></th>\n",
       "      <th>name</th>\n",
       "      <th>address</th>\n",
       "      <th>latitude</th>\n",
       "      <th>longitude</th>\n",
       "    </tr>\n",
       "  </thead>\n",
       "  <tbody>\n",
       "    <tr>\n",
       "      <th>0</th>\n",
       "      <td>The Capital Grille</td>\n",
       "      <td>120 Broadway, New York, NY 10271</td>\n",
       "      <td>40.7087</td>\n",
       "      <td>-74.011</td>\n",
       "    </tr>\n",
       "    <tr>\n",
       "      <th>1</th>\n",
       "      <td>The Capital Grille</td>\n",
       "      <td>155 E 42nd St, New York, NY 10017</td>\n",
       "      <td>40.751</td>\n",
       "      <td>-73.975</td>\n",
       "    </tr>\n",
       "    <tr>\n",
       "      <th>2</th>\n",
       "      <td>The Capital Grille</td>\n",
       "      <td>120 W 51st St, New York, NY 10020</td>\n",
       "      <td>40.761</td>\n",
       "      <td>-73.9811</td>\n",
       "    </tr>\n",
       "    <tr>\n",
       "      <th>3</th>\n",
       "      <td>Olive Garden Italian Restaurant</td>\n",
       "      <td>2 Times Sq, New York, NY 10036</td>\n",
       "      <td>40.7594</td>\n",
       "      <td>-73.9845</td>\n",
       "    </tr>\n",
       "    <tr>\n",
       "      <th>4</th>\n",
       "      <td>Olive Garden Italian Restaurant</td>\n",
       "      <td>500 State Rt 3, Secaucus, NJ 07094</td>\n",
       "      <td>40.7916</td>\n",
       "      <td>-74.0504</td>\n",
       "    </tr>\n",
       "    <tr>\n",
       "      <th>5</th>\n",
       "      <td>Olive Garden Italian Restaurant</td>\n",
       "      <td>92-10 59th Ave, Elmhurst, NY 11373</td>\n",
       "      <td>40.7342</td>\n",
       "      <td>-73.8688</td>\n",
       "    </tr>\n",
       "    <tr>\n",
       "      <th>6</th>\n",
       "      <td>Olive Garden Italian Restaurant</td>\n",
       "      <td>100 W 125th St, New York, NY 10027</td>\n",
       "      <td>40.808</td>\n",
       "      <td>-73.946</td>\n",
       "    </tr>\n",
       "    <tr>\n",
       "      <th>7</th>\n",
       "      <td>Olive Garden Italian Restaurant</td>\n",
       "      <td>Located in, Gateway Center</td>\n",
       "      <td>40.6512</td>\n",
       "      <td>-73.869</td>\n",
       "    </tr>\n",
       "    <tr>\n",
       "      <th>8</th>\n",
       "      <td>Olive Garden Italian Restaurant</td>\n",
       "      <td>200 Baychester Ave, Bronx, NY 10475</td>\n",
       "      <td>40.8663</td>\n",
       "      <td>-73.825</td>\n",
       "    </tr>\n",
       "    <tr>\n",
       "      <th>9</th>\n",
       "      <td>Olive Garden Italian Restaurant</td>\n",
       "      <td>610 W Sunrise Hwy, Valley Stream, NY 11581</td>\n",
       "      <td>40.6651</td>\n",
       "      <td>-73.723</td>\n",
       "    </tr>\n",
       "    <tr>\n",
       "      <th>10</th>\n",
       "      <td>Olive Garden Italian Restaurant</td>\n",
       "      <td>1620 Bergen Town Ctr, Paramus, NJ 07652</td>\n",
       "      <td>40.9168</td>\n",
       "      <td>-74.0583</td>\n",
       "    </tr>\n",
       "    <tr>\n",
       "      <th>11</th>\n",
       "      <td>LongHorn Steakhouse</td>\n",
       "      <td>907 Bayonne Crossing Way, Bayonne, NJ 07002</td>\n",
       "      <td>40.6611</td>\n",
       "      <td>-74.1087</td>\n",
       "    </tr>\n",
       "    <tr>\n",
       "      <th>12</th>\n",
       "      <td>LongHorn Steakhouse</td>\n",
       "      <td>92-30 59th Ave, Elmhurst, NY 11373</td>\n",
       "      <td>40.7345</td>\n",
       "      <td>-73.8679</td>\n",
       "    </tr>\n",
       "    <tr>\n",
       "      <th>13</th>\n",
       "      <td>LongHorn Steakhouse</td>\n",
       "      <td>160 State RT 17 N, Rochelle Park, NJ 07662</td>\n",
       "      <td>40.9024</td>\n",
       "      <td>-74.0721</td>\n",
       "    </tr>\n",
       "    <tr>\n",
       "      <th>14</th>\n",
       "      <td>Yard House</td>\n",
       "      <td>237 Market St, Yonkers, NY 10701</td>\n",
       "      <td>40.9658</td>\n",
       "      <td>-73.8573</td>\n",
       "    </tr>\n",
       "    <tr>\n",
       "      <th>15</th>\n",
       "      <td>Seasons 52</td>\n",
       "      <td>630 Old Country Rd, Ste Ll02, Garden City, NY ...</td>\n",
       "      <td>40.7403</td>\n",
       "      <td>-73.6154</td>\n",
       "    </tr>\n",
       "    <tr>\n",
       "      <th>16</th>\n",
       "      <td>Seasons 52</td>\n",
       "      <td>217 Lafayette Ave, Edison, NJ 08837</td>\n",
       "      <td>40.5459</td>\n",
       "      <td>-74.3328</td>\n",
       "    </tr>\n",
       "    <tr>\n",
       "      <th>17</th>\n",
       "      <td>Bahama Breeze</td>\n",
       "      <td>1600 Bergen Town Ctr, Paramus, NJ 07652</td>\n",
       "      <td>40.9169</td>\n",
       "      <td>-74.0585</td>\n",
       "    </tr>\n",
       "  </tbody>\n",
       "</table>\n",
       "</div>"
      ],
      "text/plain": [
       "                               name  \\\n",
       "0                The Capital Grille   \n",
       "1                The Capital Grille   \n",
       "2                The Capital Grille   \n",
       "3   Olive Garden Italian Restaurant   \n",
       "4   Olive Garden Italian Restaurant   \n",
       "5   Olive Garden Italian Restaurant   \n",
       "6   Olive Garden Italian Restaurant   \n",
       "7   Olive Garden Italian Restaurant   \n",
       "8   Olive Garden Italian Restaurant   \n",
       "9   Olive Garden Italian Restaurant   \n",
       "10  Olive Garden Italian Restaurant   \n",
       "11              LongHorn Steakhouse   \n",
       "12              LongHorn Steakhouse   \n",
       "13              LongHorn Steakhouse   \n",
       "14                       Yard House   \n",
       "15                       Seasons 52   \n",
       "16                       Seasons 52   \n",
       "17                    Bahama Breeze   \n",
       "\n",
       "                                              address latitude longitude  \n",
       "0                    120 Broadway, New York, NY 10271  40.7087   -74.011  \n",
       "1                   155 E 42nd St, New York, NY 10017   40.751   -73.975  \n",
       "2                   120 W 51st St, New York, NY 10020   40.761  -73.9811  \n",
       "3                      2 Times Sq, New York, NY 10036  40.7594  -73.9845  \n",
       "4                  500 State Rt 3, Secaucus, NJ 07094  40.7916  -74.0504  \n",
       "5                  92-10 59th Ave, Elmhurst, NY 11373  40.7342  -73.8688  \n",
       "6                  100 W 125th St, New York, NY 10027   40.808   -73.946  \n",
       "7                          Located in, Gateway Center  40.6512   -73.869  \n",
       "8                 200 Baychester Ave, Bronx, NY 10475  40.8663   -73.825  \n",
       "9          610 W Sunrise Hwy, Valley Stream, NY 11581  40.6651   -73.723  \n",
       "10            1620 Bergen Town Ctr, Paramus, NJ 07652  40.9168  -74.0583  \n",
       "11        907 Bayonne Crossing Way, Bayonne, NJ 07002  40.6611  -74.1087  \n",
       "12                 92-30 59th Ave, Elmhurst, NY 11373  40.7345  -73.8679  \n",
       "13         160 State RT 17 N, Rochelle Park, NJ 07662  40.9024  -74.0721  \n",
       "14                   237 Market St, Yonkers, NY 10701  40.9658  -73.8573  \n",
       "15  630 Old Country Rd, Ste Ll02, Garden City, NY ...  40.7403  -73.6154  \n",
       "16                217 Lafayette Ave, Edison, NJ 08837  40.5459  -74.3328  \n",
       "17            1600 Bergen Town Ctr, Paramus, NJ 07652  40.9169  -74.0585  "
      ]
     },
     "execution_count": 50,
     "metadata": {},
     "output_type": "execute_result"
    }
   ],
   "source": [
    "for i,el in enumerate(lat_long):\n",
    "    df_adresses.loc[i, 'latitude'] = el[0]\n",
    "    df_adresses.loc[i, 'longitude'] = el[1]\n",
    "df_adresses"
   ]
  },
  {
   "cell_type": "code",
   "execution_count": 51,
   "metadata": {},
   "outputs": [],
   "source": [
    "darden = darden.merge(df_adresses,on='address')"
   ]
  },
  {
   "cell_type": "markdown",
   "metadata": {},
   "source": [
    "### Topics and sentiments of Darden restaurants"
   ]
  },
  {
   "cell_type": "code",
   "execution_count": 52,
   "metadata": {},
   "outputs": [
    {
     "data": {
      "application/vnd.jupyter.widget-view+json": {
       "model_id": "c8cf0d46d4f6491083020d0358ebeabd",
       "version_major": 2,
       "version_minor": 0
      },
      "text/plain": [
       "HBox(children=(IntProgress(value=0, max=4163), HTML(value='')))"
      ]
     },
     "metadata": {},
     "output_type": "display_data"
    },
    {
     "name": "stdout",
     "output_type": "stream",
     "text": [
      "\n"
     ]
    },
    {
     "name": "stderr",
     "output_type": "stream",
     "text": [
      "100%|████████████████████████████████████████████████████████████████████████████| 4163/4163 [00:01<00:00, 3209.52it/s]\n"
     ]
    }
   ],
   "source": [
    "darden['review'] = darden['review'].progress_apply(lambda x: nltk.sent_tokenize(x))\n",
    "lemma = WordNetLemmatizer()\n",
    "darden_sentences = pd.DataFrame()\n",
    "numbers = []\n",
    "sentences = []\n",
    "stars = []\n",
    "for i in tqdm(range(darden.shape[0])):\n",
    "    for sent in darden.at[i,'review']:\n",
    "        numbers.append(darden.loc[i,'number'])\n",
    "        sent = sent.replace('.','').replace(',','').replace(':','').replace('!','').replace('?','')\n",
    "        sentences.append(sent)\n",
    "        stars.append(darden.stars[i])\n",
    "darden_sentences['numbers'] = numbers\n",
    "darden_sentences['sentence'] = [lemma.lemmatize(lemma.lemmatize(lemma.lemmatize(sentence.lower(),pos='a'),pos='v'),pos='n') for sentence in sentences]\n",
    "darden_sentences['stars'] = stars\n",
    "darden_sentences['longitude'] = darden.longitude\n",
    "darden_sentences['latitude'] = darden.latitude"
   ]
  },
  {
   "cell_type": "code",
   "execution_count": 53,
   "metadata": {},
   "outputs": [],
   "source": [
    "X=darden_sentences['sentence'].astype(str)\n",
    "X_1= vect.transform(X)\n",
    "\n",
    "y_pred_darden = clf.predict(X_1.toarray())\n",
    "darden_sentences['predictions'] = y_pred_darden"
   ]
  },
  {
   "cell_type": "code",
   "execution_count": 54,
   "metadata": {},
   "outputs": [
    {
     "data": {
      "application/vnd.jupyter.widget-view+json": {
       "model_id": "57c2ee5ae8004829ad7677e883cc0dda",
       "version_major": 2,
       "version_minor": 0
      },
      "text/plain": [
       "HBox(children=(IntProgress(value=0, max=37280), HTML(value='')))"
      ]
     },
     "metadata": {},
     "output_type": "display_data"
    },
    {
     "name": "stdout",
     "output_type": "stream",
     "text": [
      "\n"
     ]
    },
    {
     "data": {
      "text/html": [
       "<div>\n",
       "<style scoped>\n",
       "    .dataframe tbody tr th:only-of-type {\n",
       "        vertical-align: middle;\n",
       "    }\n",
       "\n",
       "    .dataframe tbody tr th {\n",
       "        vertical-align: top;\n",
       "    }\n",
       "\n",
       "    .dataframe thead th {\n",
       "        text-align: right;\n",
       "    }\n",
       "</style>\n",
       "<table border=\"1\" class=\"dataframe\">\n",
       "  <thead>\n",
       "    <tr style=\"text-align: right;\">\n",
       "      <th></th>\n",
       "      <th>numbers</th>\n",
       "      <th>sentence</th>\n",
       "      <th>stars</th>\n",
       "      <th>longitude</th>\n",
       "      <th>latitude</th>\n",
       "      <th>predictions</th>\n",
       "      <th>sentiment</th>\n",
       "    </tr>\n",
       "  </thead>\n",
       "  <tbody>\n",
       "    <tr>\n",
       "      <th>0</th>\n",
       "      <td>0</td>\n",
       "      <td>remains my favorite restaurant in nyc</td>\n",
       "      <td>5.0</td>\n",
       "      <td>-74.011</td>\n",
       "      <td>40.7087</td>\n",
       "      <td>F</td>\n",
       "      <td>0.500</td>\n",
       "    </tr>\n",
       "    <tr>\n",
       "      <th>1</th>\n",
       "      <td>0</td>\n",
       "      <td>i visit about once a month since it's by my work</td>\n",
       "      <td>5.0</td>\n",
       "      <td>-74.011</td>\n",
       "      <td>40.7087</td>\n",
       "      <td>S</td>\n",
       "      <td>0.000</td>\n",
       "    </tr>\n",
       "    <tr>\n",
       "      <th>2</th>\n",
       "      <td>0</td>\n",
       "      <td>i also tend to take out-of-town guests here</td>\n",
       "      <td>5.0</td>\n",
       "      <td>-74.011</td>\n",
       "      <td>40.7087</td>\n",
       "      <td>F</td>\n",
       "      <td>0.000</td>\n",
       "    </tr>\n",
       "    <tr>\n",
       "      <th>3</th>\n",
       "      <td>0</td>\n",
       "      <td>the steaks are always prepared very well and t...</td>\n",
       "      <td>5.0</td>\n",
       "      <td>-74.011</td>\n",
       "      <td>40.7087</td>\n",
       "      <td>F</td>\n",
       "      <td>0.200</td>\n",
       "    </tr>\n",
       "    <tr>\n",
       "      <th>4</th>\n",
       "      <td>0</td>\n",
       "      <td>the staff has the upmost professionalism and a...</td>\n",
       "      <td>5.0</td>\n",
       "      <td>-74.011</td>\n",
       "      <td>40.7087</td>\n",
       "      <td>S</td>\n",
       "      <td>-0.125</td>\n",
       "    </tr>\n",
       "  </tbody>\n",
       "</table>\n",
       "</div>"
      ],
      "text/plain": [
       "   numbers                                           sentence  stars  \\\n",
       "0        0              remains my favorite restaurant in nyc    5.0   \n",
       "1        0   i visit about once a month since it's by my work    5.0   \n",
       "2        0        i also tend to take out-of-town guests here    5.0   \n",
       "3        0  the steaks are always prepared very well and t...    5.0   \n",
       "4        0  the staff has the upmost professionalism and a...    5.0   \n",
       "\n",
       "  longitude latitude predictions  sentiment  \n",
       "0   -74.011  40.7087           F      0.500  \n",
       "1   -74.011  40.7087           S      0.000  \n",
       "2   -74.011  40.7087           F      0.000  \n",
       "3   -74.011  40.7087           F      0.200  \n",
       "4   -74.011  40.7087           S     -0.125  "
      ]
     },
     "execution_count": 54,
     "metadata": {},
     "output_type": "execute_result"
    }
   ],
   "source": [
    "darden_sentences['sentiment']=darden_sentences['sentence'].progress_apply(lambda x:TextBlob(x).sentiment[0])\n",
    "darden_sentences.head()"
   ]
  },
  {
   "cell_type": "code",
   "execution_count": 56,
   "metadata": {
    "scrolled": false
   },
   "outputs": [
    {
     "data": {
      "application/vnd.jupyter.widget-view+json": {
       "model_id": "c9fdd3c97d974751ae73d62fc0aca958",
       "version_major": 2,
       "version_minor": 0
      },
      "text/plain": [
       "HBox(children=(IntProgress(value=0, max=54), HTML(value='')))"
      ]
     },
     "metadata": {},
     "output_type": "display_data"
    },
    {
     "name": "stdout",
     "output_type": "stream",
     "text": [
      "\n"
     ]
    },
    {
     "data": {
      "text/html": [
       "<div>\n",
       "<style scoped>\n",
       "    .dataframe tbody tr th:only-of-type {\n",
       "        vertical-align: middle;\n",
       "    }\n",
       "\n",
       "    .dataframe tbody tr th {\n",
       "        vertical-align: top;\n",
       "    }\n",
       "\n",
       "    .dataframe thead th {\n",
       "        text-align: right;\n",
       "    }\n",
       "</style>\n",
       "<table border=\"1\" class=\"dataframe\">\n",
       "  <thead>\n",
       "    <tr style=\"text-align: right;\">\n",
       "      <th></th>\n",
       "      <th>latitude</th>\n",
       "      <th>longitude</th>\n",
       "      <th>predictions</th>\n",
       "      <th>sentiment</th>\n",
       "    </tr>\n",
       "  </thead>\n",
       "  <tbody>\n",
       "    <tr>\n",
       "      <th>0</th>\n",
       "      <td>40.545929</td>\n",
       "      <td>-74.332831</td>\n",
       "      <td>A</td>\n",
       "      <td>4.267285</td>\n",
       "    </tr>\n",
       "    <tr>\n",
       "      <th>1</th>\n",
       "      <td>40.545929</td>\n",
       "      <td>-74.332831</td>\n",
       "      <td>F</td>\n",
       "      <td>3.862620</td>\n",
       "    </tr>\n",
       "    <tr>\n",
       "      <th>2</th>\n",
       "      <td>40.545929</td>\n",
       "      <td>-74.332831</td>\n",
       "      <td>S</td>\n",
       "      <td>3.932960</td>\n",
       "    </tr>\n",
       "    <tr>\n",
       "      <th>3</th>\n",
       "      <td>40.651177</td>\n",
       "      <td>-73.869029</td>\n",
       "      <td>A</td>\n",
       "      <td>4.258090</td>\n",
       "    </tr>\n",
       "    <tr>\n",
       "      <th>4</th>\n",
       "      <td>40.651177</td>\n",
       "      <td>-73.869029</td>\n",
       "      <td>F</td>\n",
       "      <td>3.709174</td>\n",
       "    </tr>\n",
       "  </tbody>\n",
       "</table>\n",
       "</div>"
      ],
      "text/plain": [
       "    latitude  longitude predictions  sentiment\n",
       "0  40.545929 -74.332831           A   4.267285\n",
       "1  40.545929 -74.332831           F   3.862620\n",
       "2  40.545929 -74.332831           S   3.932960\n",
       "3  40.651177 -73.869029           A   4.258090\n",
       "4  40.651177 -73.869029           F   3.709174"
      ]
     },
     "execution_count": 56,
     "metadata": {},
     "output_type": "execute_result"
    }
   ],
   "source": [
    "def scale(x):\n",
    "    scale = 5\n",
    "    maximum = abs(df_grouped.sentiment.max())\n",
    "    return x/maximum * scale\n",
    "\n",
    "df_grouped = pd.DataFrame(darden_sentences.groupby(['latitude','longitude','predictions'])['sentiment'].mean())\n",
    "df_grouped.reset_index(inplace=True)\n",
    "df_grouped['sentiment'] = df_grouped.sentiment.progress_apply(scale)\n",
    "df_grouped.head()"
   ]
  },
  {
   "cell_type": "markdown",
   "metadata": {},
   "source": [
    "### Visualizaton "
   ]
  },
  {
   "cell_type": "code",
   "execution_count": 57,
   "metadata": {},
   "outputs": [
    {
     "data": {
      "text/html": [
       "\n",
       "    <div class=\"bk-root\">\n",
       "        <a href=\"https://bokeh.pydata.org\" target=\"_blank\" class=\"bk-logo bk-logo-small bk-logo-notebook\"></a>\n",
       "        <span id=\"ad31f063-c5fd-4df9-8bfc-5466776ce8d0\">Loading BokehJS ...</span>\n",
       "    </div>"
      ]
     },
     "metadata": {},
     "output_type": "display_data"
    },
    {
     "data": {
      "application/javascript": [
       "\n",
       "(function(root) {\n",
       "  function now() {\n",
       "    return new Date();\n",
       "  }\n",
       "\n",
       "  var force = true;\n",
       "\n",
       "  if (typeof (root._bokeh_onload_callbacks) === \"undefined\" || force === true) {\n",
       "    root._bokeh_onload_callbacks = [];\n",
       "    root._bokeh_is_loading = undefined;\n",
       "  }\n",
       "\n",
       "  var JS_MIME_TYPE = 'application/javascript';\n",
       "  var HTML_MIME_TYPE = 'text/html';\n",
       "  var EXEC_MIME_TYPE = 'application/vnd.bokehjs_exec.v0+json';\n",
       "  var CLASS_NAME = 'output_bokeh rendered_html';\n",
       "\n",
       "  /**\n",
       "   * Render data to the DOM node\n",
       "   */\n",
       "  function render(props, node) {\n",
       "    var script = document.createElement(\"script\");\n",
       "    node.appendChild(script);\n",
       "  }\n",
       "\n",
       "  /**\n",
       "   * Handle when an output is cleared or removed\n",
       "   */\n",
       "  function handleClearOutput(event, handle) {\n",
       "    var cell = handle.cell;\n",
       "\n",
       "    var id = cell.output_area._bokeh_element_id;\n",
       "    var server_id = cell.output_area._bokeh_server_id;\n",
       "    // Clean up Bokeh references\n",
       "    if (id !== undefined) {\n",
       "      Bokeh.index[id].model.document.clear();\n",
       "      delete Bokeh.index[id];\n",
       "    }\n",
       "\n",
       "    if (server_id !== undefined) {\n",
       "      // Clean up Bokeh references\n",
       "      var cmd = \"from bokeh.io.state import curstate; print(curstate().uuid_to_server['\" + server_id + \"'].get_sessions()[0].document.roots[0]._id)\";\n",
       "      cell.notebook.kernel.execute(cmd, {\n",
       "        iopub: {\n",
       "          output: function(msg) {\n",
       "            var element_id = msg.content.text.trim();\n",
       "            Bokeh.index[element_id].model.document.clear();\n",
       "            delete Bokeh.index[element_id];\n",
       "          }\n",
       "        }\n",
       "      });\n",
       "      // Destroy server and session\n",
       "      var cmd = \"import bokeh.io.notebook as ion; ion.destroy_server('\" + server_id + \"')\";\n",
       "      cell.notebook.kernel.execute(cmd);\n",
       "    }\n",
       "  }\n",
       "\n",
       "  /**\n",
       "   * Handle when a new output is added\n",
       "   */\n",
       "  function handleAddOutput(event, handle) {\n",
       "    var output_area = handle.output_area;\n",
       "    var output = handle.output;\n",
       "\n",
       "    // limit handleAddOutput to display_data with EXEC_MIME_TYPE content only\n",
       "    if ((output.output_type != \"display_data\") || (!output.data.hasOwnProperty(EXEC_MIME_TYPE))) {\n",
       "      return\n",
       "    }\n",
       "\n",
       "    var toinsert = output_area.element.find(\".\" + CLASS_NAME.split(' ')[0]);\n",
       "\n",
       "    if (output.metadata[EXEC_MIME_TYPE][\"id\"] !== undefined) {\n",
       "      toinsert[toinsert.length - 1].firstChild.textContent = output.data[JS_MIME_TYPE];\n",
       "      // store reference to embed id on output_area\n",
       "      output_area._bokeh_element_id = output.metadata[EXEC_MIME_TYPE][\"id\"];\n",
       "    }\n",
       "    if (output.metadata[EXEC_MIME_TYPE][\"server_id\"] !== undefined) {\n",
       "      var bk_div = document.createElement(\"div\");\n",
       "      bk_div.innerHTML = output.data[HTML_MIME_TYPE];\n",
       "      var script_attrs = bk_div.children[0].attributes;\n",
       "      for (var i = 0; i < script_attrs.length; i++) {\n",
       "        toinsert[toinsert.length - 1].firstChild.setAttribute(script_attrs[i].name, script_attrs[i].value);\n",
       "      }\n",
       "      // store reference to server id on output_area\n",
       "      output_area._bokeh_server_id = output.metadata[EXEC_MIME_TYPE][\"server_id\"];\n",
       "    }\n",
       "  }\n",
       "\n",
       "  function register_renderer(events, OutputArea) {\n",
       "\n",
       "    function append_mime(data, metadata, element) {\n",
       "      // create a DOM node to render to\n",
       "      var toinsert = this.create_output_subarea(\n",
       "        metadata,\n",
       "        CLASS_NAME,\n",
       "        EXEC_MIME_TYPE\n",
       "      );\n",
       "      this.keyboard_manager.register_events(toinsert);\n",
       "      // Render to node\n",
       "      var props = {data: data, metadata: metadata[EXEC_MIME_TYPE]};\n",
       "      render(props, toinsert[toinsert.length - 1]);\n",
       "      element.append(toinsert);\n",
       "      return toinsert\n",
       "    }\n",
       "\n",
       "    /* Handle when an output is cleared or removed */\n",
       "    events.on('clear_output.CodeCell', handleClearOutput);\n",
       "    events.on('delete.Cell', handleClearOutput);\n",
       "\n",
       "    /* Handle when a new output is added */\n",
       "    events.on('output_added.OutputArea', handleAddOutput);\n",
       "\n",
       "    /**\n",
       "     * Register the mime type and append_mime function with output_area\n",
       "     */\n",
       "    OutputArea.prototype.register_mime_type(EXEC_MIME_TYPE, append_mime, {\n",
       "      /* Is output safe? */\n",
       "      safe: true,\n",
       "      /* Index of renderer in `output_area.display_order` */\n",
       "      index: 0\n",
       "    });\n",
       "  }\n",
       "\n",
       "  // register the mime type if in Jupyter Notebook environment and previously unregistered\n",
       "  if (root.Jupyter !== undefined) {\n",
       "    var events = require('base/js/events');\n",
       "    var OutputArea = require('notebook/js/outputarea').OutputArea;\n",
       "\n",
       "    if (OutputArea.prototype.mime_types().indexOf(EXEC_MIME_TYPE) == -1) {\n",
       "      register_renderer(events, OutputArea);\n",
       "    }\n",
       "  }\n",
       "\n",
       "  \n",
       "  if (typeof (root._bokeh_timeout) === \"undefined\" || force === true) {\n",
       "    root._bokeh_timeout = Date.now() + 5000;\n",
       "    root._bokeh_failed_load = false;\n",
       "  }\n",
       "\n",
       "  var NB_LOAD_WARNING = {'data': {'text/html':\n",
       "     \"<div style='background-color: #fdd'>\\n\"+\n",
       "     \"<p>\\n\"+\n",
       "     \"BokehJS does not appear to have successfully loaded. If loading BokehJS from CDN, this \\n\"+\n",
       "     \"may be due to a slow or bad network connection. Possible fixes:\\n\"+\n",
       "     \"</p>\\n\"+\n",
       "     \"<ul>\\n\"+\n",
       "     \"<li>re-rerun `output_notebook()` to attempt to load from CDN again, or</li>\\n\"+\n",
       "     \"<li>use INLINE resources instead, as so:</li>\\n\"+\n",
       "     \"</ul>\\n\"+\n",
       "     \"<code>\\n\"+\n",
       "     \"from bokeh.resources import INLINE\\n\"+\n",
       "     \"output_notebook(resources=INLINE)\\n\"+\n",
       "     \"</code>\\n\"+\n",
       "     \"</div>\"}};\n",
       "\n",
       "  function display_loaded() {\n",
       "    var el = document.getElementById(\"ad31f063-c5fd-4df9-8bfc-5466776ce8d0\");\n",
       "    if (el != null) {\n",
       "      el.textContent = \"BokehJS is loading...\";\n",
       "    }\n",
       "    if (root.Bokeh !== undefined) {\n",
       "      if (el != null) {\n",
       "        el.textContent = \"BokehJS \" + root.Bokeh.version + \" successfully loaded.\";\n",
       "      }\n",
       "    } else if (Date.now() < root._bokeh_timeout) {\n",
       "      setTimeout(display_loaded, 100)\n",
       "    }\n",
       "  }\n",
       "\n",
       "\n",
       "  function run_callbacks() {\n",
       "    try {\n",
       "      root._bokeh_onload_callbacks.forEach(function(callback) { callback() });\n",
       "    }\n",
       "    finally {\n",
       "      delete root._bokeh_onload_callbacks\n",
       "    }\n",
       "    console.info(\"Bokeh: all callbacks have finished\");\n",
       "  }\n",
       "\n",
       "  function load_libs(js_urls, callback) {\n",
       "    root._bokeh_onload_callbacks.push(callback);\n",
       "    if (root._bokeh_is_loading > 0) {\n",
       "      console.log(\"Bokeh: BokehJS is being loaded, scheduling callback at\", now());\n",
       "      return null;\n",
       "    }\n",
       "    if (js_urls == null || js_urls.length === 0) {\n",
       "      run_callbacks();\n",
       "      return null;\n",
       "    }\n",
       "    console.log(\"Bokeh: BokehJS not loaded, scheduling load and callback at\", now());\n",
       "    root._bokeh_is_loading = js_urls.length;\n",
       "    for (var i = 0; i < js_urls.length; i++) {\n",
       "      var url = js_urls[i];\n",
       "      var s = document.createElement('script');\n",
       "      s.src = url;\n",
       "      s.async = false;\n",
       "      s.onreadystatechange = s.onload = function() {\n",
       "        root._bokeh_is_loading--;\n",
       "        if (root._bokeh_is_loading === 0) {\n",
       "          console.log(\"Bokeh: all BokehJS libraries loaded\");\n",
       "          run_callbacks()\n",
       "        }\n",
       "      };\n",
       "      s.onerror = function() {\n",
       "        console.warn(\"failed to load library \" + url);\n",
       "      };\n",
       "      console.log(\"Bokeh: injecting script tag for BokehJS library: \", url);\n",
       "      document.getElementsByTagName(\"head\")[0].appendChild(s);\n",
       "    }\n",
       "  };var element = document.getElementById(\"ad31f063-c5fd-4df9-8bfc-5466776ce8d0\");\n",
       "  if (element == null) {\n",
       "    console.log(\"Bokeh: ERROR: autoload.js configured with elementid 'ad31f063-c5fd-4df9-8bfc-5466776ce8d0' but no matching script tag was found. \")\n",
       "    return false;\n",
       "  }\n",
       "\n",
       "  var js_urls = [\"https://cdn.pydata.org/bokeh/release/bokeh-0.12.16.min.js\", \"https://cdn.pydata.org/bokeh/release/bokeh-widgets-0.12.16.min.js\", \"https://cdn.pydata.org/bokeh/release/bokeh-tables-0.12.16.min.js\", \"https://cdn.pydata.org/bokeh/release/bokeh-gl-0.12.16.min.js\"];\n",
       "\n",
       "  var inline_js = [\n",
       "    function(Bokeh) {\n",
       "      Bokeh.set_log_level(\"info\");\n",
       "    },\n",
       "    \n",
       "    function(Bokeh) {\n",
       "      \n",
       "    },\n",
       "    function(Bokeh) {\n",
       "      console.log(\"Bokeh: injecting CSS: https://cdn.pydata.org/bokeh/release/bokeh-0.12.16.min.css\");\n",
       "      Bokeh.embed.inject_css(\"https://cdn.pydata.org/bokeh/release/bokeh-0.12.16.min.css\");\n",
       "      console.log(\"Bokeh: injecting CSS: https://cdn.pydata.org/bokeh/release/bokeh-widgets-0.12.16.min.css\");\n",
       "      Bokeh.embed.inject_css(\"https://cdn.pydata.org/bokeh/release/bokeh-widgets-0.12.16.min.css\");\n",
       "      console.log(\"Bokeh: injecting CSS: https://cdn.pydata.org/bokeh/release/bokeh-tables-0.12.16.min.css\");\n",
       "      Bokeh.embed.inject_css(\"https://cdn.pydata.org/bokeh/release/bokeh-tables-0.12.16.min.css\");\n",
       "    }\n",
       "  ];\n",
       "\n",
       "  function run_inline_js() {\n",
       "    \n",
       "    if ((root.Bokeh !== undefined) || (force === true)) {\n",
       "      for (var i = 0; i < inline_js.length; i++) {\n",
       "        inline_js[i].call(root, root.Bokeh);\n",
       "      }if (force === true) {\n",
       "        display_loaded();\n",
       "      }} else if (Date.now() < root._bokeh_timeout) {\n",
       "      setTimeout(run_inline_js, 100);\n",
       "    } else if (!root._bokeh_failed_load) {\n",
       "      console.log(\"Bokeh: BokehJS failed to load within specified timeout.\");\n",
       "      root._bokeh_failed_load = true;\n",
       "    } else if (force !== true) {\n",
       "      var cell = $(document.getElementById(\"ad31f063-c5fd-4df9-8bfc-5466776ce8d0\")).parents('.cell').data().cell;\n",
       "      cell.output_area.append_execute_result(NB_LOAD_WARNING)\n",
       "    }\n",
       "\n",
       "  }\n",
       "\n",
       "  if (root._bokeh_is_loading === 0) {\n",
       "    console.log(\"Bokeh: BokehJS loaded, going straight to plotting\");\n",
       "    run_inline_js();\n",
       "  } else {\n",
       "    load_libs(js_urls, function() {\n",
       "      console.log(\"Bokeh: BokehJS plotting callback run at\", now());\n",
       "      run_inline_js();\n",
       "    });\n",
       "  }\n",
       "}(window));"
      ],
      "application/vnd.bokehjs_load.v0+json": "\n(function(root) {\n  function now() {\n    return new Date();\n  }\n\n  var force = true;\n\n  if (typeof (root._bokeh_onload_callbacks) === \"undefined\" || force === true) {\n    root._bokeh_onload_callbacks = [];\n    root._bokeh_is_loading = undefined;\n  }\n\n  \n\n  \n  if (typeof (root._bokeh_timeout) === \"undefined\" || force === true) {\n    root._bokeh_timeout = Date.now() + 5000;\n    root._bokeh_failed_load = false;\n  }\n\n  var NB_LOAD_WARNING = {'data': {'text/html':\n     \"<div style='background-color: #fdd'>\\n\"+\n     \"<p>\\n\"+\n     \"BokehJS does not appear to have successfully loaded. If loading BokehJS from CDN, this \\n\"+\n     \"may be due to a slow or bad network connection. Possible fixes:\\n\"+\n     \"</p>\\n\"+\n     \"<ul>\\n\"+\n     \"<li>re-rerun `output_notebook()` to attempt to load from CDN again, or</li>\\n\"+\n     \"<li>use INLINE resources instead, as so:</li>\\n\"+\n     \"</ul>\\n\"+\n     \"<code>\\n\"+\n     \"from bokeh.resources import INLINE\\n\"+\n     \"output_notebook(resources=INLINE)\\n\"+\n     \"</code>\\n\"+\n     \"</div>\"}};\n\n  function display_loaded() {\n    var el = document.getElementById(\"ad31f063-c5fd-4df9-8bfc-5466776ce8d0\");\n    if (el != null) {\n      el.textContent = \"BokehJS is loading...\";\n    }\n    if (root.Bokeh !== undefined) {\n      if (el != null) {\n        el.textContent = \"BokehJS \" + root.Bokeh.version + \" successfully loaded.\";\n      }\n    } else if (Date.now() < root._bokeh_timeout) {\n      setTimeout(display_loaded, 100)\n    }\n  }\n\n\n  function run_callbacks() {\n    try {\n      root._bokeh_onload_callbacks.forEach(function(callback) { callback() });\n    }\n    finally {\n      delete root._bokeh_onload_callbacks\n    }\n    console.info(\"Bokeh: all callbacks have finished\");\n  }\n\n  function load_libs(js_urls, callback) {\n    root._bokeh_onload_callbacks.push(callback);\n    if (root._bokeh_is_loading > 0) {\n      console.log(\"Bokeh: BokehJS is being loaded, scheduling callback at\", now());\n      return null;\n    }\n    if (js_urls == null || js_urls.length === 0) {\n      run_callbacks();\n      return null;\n    }\n    console.log(\"Bokeh: BokehJS not loaded, scheduling load and callback at\", now());\n    root._bokeh_is_loading = js_urls.length;\n    for (var i = 0; i < js_urls.length; i++) {\n      var url = js_urls[i];\n      var s = document.createElement('script');\n      s.src = url;\n      s.async = false;\n      s.onreadystatechange = s.onload = function() {\n        root._bokeh_is_loading--;\n        if (root._bokeh_is_loading === 0) {\n          console.log(\"Bokeh: all BokehJS libraries loaded\");\n          run_callbacks()\n        }\n      };\n      s.onerror = function() {\n        console.warn(\"failed to load library \" + url);\n      };\n      console.log(\"Bokeh: injecting script tag for BokehJS library: \", url);\n      document.getElementsByTagName(\"head\")[0].appendChild(s);\n    }\n  };var element = document.getElementById(\"ad31f063-c5fd-4df9-8bfc-5466776ce8d0\");\n  if (element == null) {\n    console.log(\"Bokeh: ERROR: autoload.js configured with elementid 'ad31f063-c5fd-4df9-8bfc-5466776ce8d0' but no matching script tag was found. \")\n    return false;\n  }\n\n  var js_urls = [\"https://cdn.pydata.org/bokeh/release/bokeh-0.12.16.min.js\", \"https://cdn.pydata.org/bokeh/release/bokeh-widgets-0.12.16.min.js\", \"https://cdn.pydata.org/bokeh/release/bokeh-tables-0.12.16.min.js\", \"https://cdn.pydata.org/bokeh/release/bokeh-gl-0.12.16.min.js\"];\n\n  var inline_js = [\n    function(Bokeh) {\n      Bokeh.set_log_level(\"info\");\n    },\n    \n    function(Bokeh) {\n      \n    },\n    function(Bokeh) {\n      console.log(\"Bokeh: injecting CSS: https://cdn.pydata.org/bokeh/release/bokeh-0.12.16.min.css\");\n      Bokeh.embed.inject_css(\"https://cdn.pydata.org/bokeh/release/bokeh-0.12.16.min.css\");\n      console.log(\"Bokeh: injecting CSS: https://cdn.pydata.org/bokeh/release/bokeh-widgets-0.12.16.min.css\");\n      Bokeh.embed.inject_css(\"https://cdn.pydata.org/bokeh/release/bokeh-widgets-0.12.16.min.css\");\n      console.log(\"Bokeh: injecting CSS: https://cdn.pydata.org/bokeh/release/bokeh-tables-0.12.16.min.css\");\n      Bokeh.embed.inject_css(\"https://cdn.pydata.org/bokeh/release/bokeh-tables-0.12.16.min.css\");\n    }\n  ];\n\n  function run_inline_js() {\n    \n    if ((root.Bokeh !== undefined) || (force === true)) {\n      for (var i = 0; i < inline_js.length; i++) {\n        inline_js[i].call(root, root.Bokeh);\n      }if (force === true) {\n        display_loaded();\n      }} else if (Date.now() < root._bokeh_timeout) {\n      setTimeout(run_inline_js, 100);\n    } else if (!root._bokeh_failed_load) {\n      console.log(\"Bokeh: BokehJS failed to load within specified timeout.\");\n      root._bokeh_failed_load = true;\n    } else if (force !== true) {\n      var cell = $(document.getElementById(\"ad31f063-c5fd-4df9-8bfc-5466776ce8d0\")).parents('.cell').data().cell;\n      cell.output_area.append_execute_result(NB_LOAD_WARNING)\n    }\n\n  }\n\n  if (root._bokeh_is_loading === 0) {\n    console.log(\"Bokeh: BokehJS loaded, going straight to plotting\");\n    run_inline_js();\n  } else {\n    load_libs(js_urls, function() {\n      console.log(\"Bokeh: BokehJS plotting callback run at\", now());\n      run_inline_js();\n    });\n  }\n}(window));"
     },
     "metadata": {},
     "output_type": "display_data"
    }
   ],
   "source": [
    "from bokeh.io import output_notebook, show, push_notebook\n",
    "output_notebook()\n",
    "from bokeh.plotting import figure\n",
    "from bokeh.tile_providers import CARTODBPOSITRON_RETINA\n",
    "from bokeh.models import HoverTool, ColorBar, LogTicker, ColumnDataSource\n",
    "from bokeh.layouts import gridplot\n",
    "from ipywidgets import ToggleButtons\n",
    "from ipywidgets import interact"
   ]
  },
  {
   "cell_type": "code",
   "execution_count": 58,
   "metadata": {},
   "outputs": [],
   "source": [
    "sent_A = []\n",
    "sent_F = []\n",
    "sent_S = []\n",
    "for el in df_grouped.values:\n",
    "    if el[2]=='A':\n",
    "        sent_A.append(el[3])\n",
    "    elif el[2]=='F':\n",
    "        sent_F.append(el[3])\n",
    "    else:\n",
    "        sent_S.append(el[3])"
   ]
  },
  {
   "cell_type": "markdown",
   "metadata": {},
   "source": [
    "for bokeh plots, we need to convert longitude and latitue to web mercator coordinates (in meters)"
   ]
  },
  {
   "cell_type": "code",
   "execution_count": 59,
   "metadata": {},
   "outputs": [],
   "source": [
    "def wgs84_to_web_mercator(lon, lat):\n",
    "    \"\"\"Converts decimal longitude/latitude to Web Mercator format\"\"\"\n",
    "    k = 6378137\n",
    "    x = lon * (k * np.pi/180.0)\n",
    "    y = np.log(np.tan((90 + lat) * np.pi/360.0)) * k\n",
    "    return (x,y)"
   ]
  },
  {
   "cell_type": "code",
   "execution_count": 60,
   "metadata": {},
   "outputs": [],
   "source": [
    "webmercator_coordinates = []\n",
    "for el in df_adresses[['latitude','longitude']].values:\n",
    "    webmercator_coordinates.append(wgs84_to_web_mercator(el[1], el[0]))"
   ]
  },
  {
   "cell_type": "code",
   "execution_count": 61,
   "metadata": {},
   "outputs": [],
   "source": [
    "lat = []\n",
    "lon = []\n",
    "for el in webmercator_coordinates:\n",
    "    lat.append(el[0])\n",
    "    lon.append(el[1])"
   ]
  },
  {
   "cell_type": "markdown",
   "metadata": {},
   "source": [
    "Let's define data we will want when hoovering over points in the plot"
   ]
  },
  {
   "cell_type": "code",
   "execution_count": 62,
   "metadata": {},
   "outputs": [],
   "source": [
    "def select_topic(topic):\n",
    "    if(topic=='A'):\n",
    "        return sent_A\n",
    "    elif topic=='F':\n",
    "        return sent_F\n",
    "    else:\n",
    "        return sent_S\n",
    "\n",
    "def select_source(topic='F'):\n",
    "    source = ColumnDataSource(\n",
    "            data=dict(\n",
    "                x = lat,\n",
    "                y = lon,\n",
    "                name = df_adresses.name,\n",
    "                address = df_adresses.address,\n",
    "                imgs=[\n",
    "                    'https://media.thecapitalgrille.com/images/site/ext/locations/TCG-8039-WallStreet-NewYork-NY-Ext-574x250.jpg',\n",
    "                    'https://media.thecapitalgrille.com/images/site/ext/locations/TCG-8021-NewYork-NY-Ext-574x250.jpg',\n",
    "                    'https://cdn3.gbot.me/photos/l4/vJ/1362686576/-The_Capital_Grille___Midt-20000000005720086-500x375.jpg',\n",
    "                    'data:image/jpeg;base64,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',\n",
    "                    'https://media.olivegarden.com/en_us/images/marketing/olive-garden-tuscan-italian-restaurant-g5-rdv.jpg',\n",
    "                    'https://media.olivegarden.com/en_us/images/marketing/italian-family-restaurant-olive-garden-g6-r1x1.jpg',\n",
    "                    'https://cdn20.patchcdn.com/users/22866740/20161213/045556/styles/T800x600/public/article_images/harlem_olive_garden2-1481666140-3458.jpg',\n",
    "                    'https://media.olivegarden.com/en_us/images/product/exterior-olive-garden_599x430.jpg',\n",
    "                    'https://media.olivegarden.com/en_us/images/marketing/italian-restaurant-olive-garden-location-g4-rdv.jpg',\n",
    "                    'https://s3-media2.fl.yelpcdn.com/bphoto/hNEB_tmLB2NstFOqikNnmA/ls.jpg',\n",
    "                    'https://igx.4sqi.net/img/general/200x200/57505988_DlbvbXrBsjQ8UJN-GlGExbRXjG8ycqgUbV_FH64S5-s.jpg',\n",
    "                    'https://media.longhornsteakhouse.com/en_us/images/marketing/LH_BuildingFront_599x430.jpg',\n",
    "                    'http://1.bp.blogspot.com/-uo6F9C4LyW4/VE9-N1NqbPI/AAAAAAAA39M/c7bBuGbwD2Q/s1600/longhorn.jpg',\n",
    "                    'https://s3-media4.fl.yelpcdn.com/bphoto/A_r9lDoueqPV_d1blHds_A/ls.jpg',\n",
    "                    'https://media.yardhouse.com/en_us/images/marketing/yonkers-ny-yard-house-599x430.jpg.jpg',\n",
    "                    'https://media.seasons52.com/en_us/images/marketing/seasons52-4521-garden-city-ny-d-599x430.jpg',\n",
    "                    'data:image/jpeg;base64,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',\n",
    "                    'https://media.bahamabreeze.com/en_us/images/marketing/paramus-nj-bahama-breeze-599x430.jpg'],\n",
    "                sentiment = select_topic(topic)\n",
    "            )\n",
    "        )\n",
    "    return source\n",
    "\n",
    "hover = HoverTool(\n",
    "        tooltips=\"\"\"\n",
    "            <div>\n",
    "                <div>\n",
    "                    <img\n",
    "                        src=\"@imgs\" height=\"60\" alt=\"@imgs\" width=\"60\"\n",
    "                        style=\"float: left; margin: 0px 15px 15px 0px;\"\n",
    "                        border=\"2\"\n",
    "                    ></img>\n",
    "                </div>\n",
    "                <div>\n",
    "                    <span style=\"font-size: 15px; font-weight: bold;\">@name</span>\n",
    "                    <span style=\"font-size: 15px; font-weight: bold;\">@sentiment</span>\n",
    "                </div>\n",
    "                <div>\n",
    "                    <span style=\"font-size: 12px; font-style:italic;\">@address</span>\n",
    "                </div>\n",
    "            </div>\n",
    "        \"\"\"\n",
    "    )"
   ]
  },
  {
   "cell_type": "code",
   "execution_count": 63,
   "metadata": {},
   "outputs": [
    {
     "data": {
      "text/html": [
       "<div style=\"display: table;\"><div style=\"display: table-row;\"><div style=\"display: table-cell;\"><b title=\"bokeh.models.renderers.TileRenderer\">TileRenderer</b>(</div><div style=\"display: table-cell;\">id&nbsp;=&nbsp;'360c214f-dbba-49c4-b9f2-d9961f1d2d68', <span id=\"babed685-7123-4303-a41b-79f188301a55\" style=\"cursor: pointer;\">&hellip;)</span></div></div><div class=\"2bcd8111-b253-40a6-be1e-7e3a929a7f83\" style=\"display: none;\"><div style=\"display: table-cell;\"></div><div style=\"display: table-cell;\">alpha&nbsp;=&nbsp;1.0,</div></div><div class=\"2bcd8111-b253-40a6-be1e-7e3a929a7f83\" style=\"display: none;\"><div style=\"display: table-cell;\"></div><div style=\"display: table-cell;\">js_event_callbacks&nbsp;=&nbsp;{},</div></div><div class=\"2bcd8111-b253-40a6-be1e-7e3a929a7f83\" style=\"display: none;\"><div style=\"display: table-cell;\"></div><div style=\"display: table-cell;\">js_property_callbacks&nbsp;=&nbsp;{},</div></div><div class=\"2bcd8111-b253-40a6-be1e-7e3a929a7f83\" style=\"display: none;\"><div style=\"display: table-cell;\"></div><div style=\"display: table-cell;\">level&nbsp;=&nbsp;'underlay',</div></div><div class=\"2bcd8111-b253-40a6-be1e-7e3a929a7f83\" style=\"display: none;\"><div style=\"display: table-cell;\"></div><div style=\"display: table-cell;\">name&nbsp;=&nbsp;None,</div></div><div class=\"2bcd8111-b253-40a6-be1e-7e3a929a7f83\" style=\"display: none;\"><div style=\"display: table-cell;\"></div><div style=\"display: table-cell;\">render_parents&nbsp;=&nbsp;True,</div></div><div class=\"2bcd8111-b253-40a6-be1e-7e3a929a7f83\" style=\"display: none;\"><div style=\"display: table-cell;\"></div><div style=\"display: table-cell;\">subscribed_events&nbsp;=&nbsp;[],</div></div><div class=\"2bcd8111-b253-40a6-be1e-7e3a929a7f83\" style=\"display: none;\"><div style=\"display: table-cell;\"></div><div style=\"display: table-cell;\">tags&nbsp;=&nbsp;[],</div></div><div class=\"2bcd8111-b253-40a6-be1e-7e3a929a7f83\" style=\"display: none;\"><div style=\"display: table-cell;\"></div><div style=\"display: table-cell;\">tile_source&nbsp;=&nbsp;WMTSTileSource(id='7a39784e-374c-4650-b453-ea532d850c5f', ...),</div></div><div class=\"2bcd8111-b253-40a6-be1e-7e3a929a7f83\" style=\"display: none;\"><div style=\"display: table-cell;\"></div><div style=\"display: table-cell;\">visible&nbsp;=&nbsp;True,</div></div><div class=\"2bcd8111-b253-40a6-be1e-7e3a929a7f83\" style=\"display: none;\"><div style=\"display: table-cell;\"></div><div style=\"display: table-cell;\">x_range_name&nbsp;=&nbsp;'default',</div></div><div class=\"2bcd8111-b253-40a6-be1e-7e3a929a7f83\" style=\"display: none;\"><div style=\"display: table-cell;\"></div><div style=\"display: table-cell;\">y_range_name&nbsp;=&nbsp;'default')</div></div></div>\n",
       "<script>\n",
       "(function() {\n",
       "  var expanded = false;\n",
       "  var ellipsis = document.getElementById(\"babed685-7123-4303-a41b-79f188301a55\");\n",
       "  ellipsis.addEventListener(\"click\", function() {\n",
       "    var rows = document.getElementsByClassName(\"2bcd8111-b253-40a6-be1e-7e3a929a7f83\");\n",
       "    for (var i = 0; i < rows.length; i++) {\n",
       "      var el = rows[i];\n",
       "      el.style.display = expanded ? \"none\" : \"table-row\";\n",
       "    }\n",
       "    ellipsis.innerHTML = expanded ? \"&hellip;)\" : \"&lsaquo;&lsaquo;&lsaquo;\";\n",
       "    expanded = !expanded;\n",
       "  });\n",
       "})();\n",
       "</script>\n"
      ],
      "text/plain": [
       "bokeh.models.renderers.TileRenderer(\n",
       "    id='360c214f-dbba-49c4-b9f2-d9961f1d2d68',\n",
       "    alpha=1.0,\n",
       "    js_event_callbacks={},\n",
       "    js_property_callbacks={},\n",
       "    level='underlay',\n",
       "    name=None,\n",
       "    render_parents=True,\n",
       "    subscribed_events=[],\n",
       "    tags=[],\n",
       "    tile_source=bokeh.models.tiles.WMTSTileSource(\n",
       "        id='7a39784e-374c-4650-b453-ea532d850c5f',\n",
       "        attribution='&copy; <a href=\"https://www.openstreetmap.org/copyright\">OpenStreetMap</a> contributors,&copy; <a href=\"https://cartodb.com/attributions\">CartoDB</a>',\n",
       "        extra_url_vars={},\n",
       "        initial_resolution=156543.03392804097,\n",
       "        js_event_callbacks={},\n",
       "        js_property_callbacks={},\n",
       "        max_zoom=30,\n",
       "        min_zoom=0,\n",
       "        name=None,\n",
       "        snap_to_zoom=False,\n",
       "        subscribed_events=[],\n",
       "        tags=[],\n",
       "        tile_size=256,\n",
       "        url='https://tiles.basemaps.cartocdn.com/light_all/{z}/{x}/{y}@2x.png',\n",
       "        wrap_around=True,\n",
       "        x_origin_offset=20037508.34,\n",
       "        y_origin_offset=20037508.34),\n",
       "    visible=True,\n",
       "    x_range_name='default',\n",
       "    y_range_name='default')"
      ]
     },
     "execution_count": 63,
     "metadata": {},
     "output_type": "execute_result"
    }
   ],
   "source": [
    "# web mercator coordinates\n",
    "p = figure(x_range=(-8293302.064098882, -8148586.726067627), y_range=(4938869.175786295, 5012341.663847518),\n",
    "           x_axis_type=\"mercator\", y_axis_type=\"mercator\", tools=['pan',hover,'wheel_zoom'], title='Darden Restaurants in New York')\n",
    "p.add_tile(CARTODBPOSITRON_RETINA)"
   ]
  },
  {
   "cell_type": "code",
   "execution_count": 64,
   "metadata": {},
   "outputs": [],
   "source": [
    "from bokeh.palettes import Paired5 as palette\n",
    "from bokeh.models.mappers import LogColorMapper\n",
    "color_mapper = LogColorMapper(palette = palette)"
   ]
  },
  {
   "cell_type": "code",
   "execution_count": 65,
   "metadata": {},
   "outputs": [
    {
     "data": {
      "text/html": [
       "<div style=\"display: table;\"><div style=\"display: table-row;\"><div style=\"display: table-cell;\"><b title=\"bokeh.models.renderers.GlyphRenderer\">GlyphRenderer</b>(</div><div style=\"display: table-cell;\">id&nbsp;=&nbsp;'812a3153-45a0-4836-bac6-2afa931f28ed', <span id=\"75171aba-4bff-4048-9fc2-13ce2738c618\" style=\"cursor: pointer;\">&hellip;)</span></div></div><div class=\"c4c9475a-617d-44c8-81d1-9787d503f910\" style=\"display: none;\"><div style=\"display: table-cell;\"></div><div style=\"display: table-cell;\">data_source&nbsp;=&nbsp;ColumnDataSource(id='dbe571e8-176d-4fdb-86d7-61f05555856f', ...),</div></div><div class=\"c4c9475a-617d-44c8-81d1-9787d503f910\" style=\"display: none;\"><div style=\"display: table-cell;\"></div><div style=\"display: table-cell;\">glyph&nbsp;=&nbsp;Circle(id='3430c11c-f371-4501-a738-a5769986b3ca', ...),</div></div><div class=\"c4c9475a-617d-44c8-81d1-9787d503f910\" style=\"display: none;\"><div style=\"display: table-cell;\"></div><div style=\"display: table-cell;\">hover_glyph&nbsp;=&nbsp;None,</div></div><div class=\"c4c9475a-617d-44c8-81d1-9787d503f910\" style=\"display: none;\"><div style=\"display: table-cell;\"></div><div style=\"display: table-cell;\">js_event_callbacks&nbsp;=&nbsp;{},</div></div><div class=\"c4c9475a-617d-44c8-81d1-9787d503f910\" style=\"display: none;\"><div style=\"display: table-cell;\"></div><div style=\"display: table-cell;\">js_property_callbacks&nbsp;=&nbsp;{},</div></div><div class=\"c4c9475a-617d-44c8-81d1-9787d503f910\" style=\"display: none;\"><div style=\"display: table-cell;\"></div><div style=\"display: table-cell;\">level&nbsp;=&nbsp;'glyph',</div></div><div class=\"c4c9475a-617d-44c8-81d1-9787d503f910\" style=\"display: none;\"><div style=\"display: table-cell;\"></div><div style=\"display: table-cell;\">muted&nbsp;=&nbsp;False,</div></div><div class=\"c4c9475a-617d-44c8-81d1-9787d503f910\" style=\"display: none;\"><div style=\"display: table-cell;\"></div><div style=\"display: table-cell;\">muted_glyph&nbsp;=&nbsp;None,</div></div><div class=\"c4c9475a-617d-44c8-81d1-9787d503f910\" style=\"display: none;\"><div style=\"display: table-cell;\"></div><div style=\"display: table-cell;\">name&nbsp;=&nbsp;None,</div></div><div class=\"c4c9475a-617d-44c8-81d1-9787d503f910\" style=\"display: none;\"><div style=\"display: table-cell;\"></div><div style=\"display: table-cell;\">nonselection_glyph&nbsp;=&nbsp;Circle(id='e1ce2c31-e1cd-4235-9424-dc1bba4dc4be', ...),</div></div><div class=\"c4c9475a-617d-44c8-81d1-9787d503f910\" style=\"display: none;\"><div style=\"display: table-cell;\"></div><div style=\"display: table-cell;\">selection_glyph&nbsp;=&nbsp;None,</div></div><div class=\"c4c9475a-617d-44c8-81d1-9787d503f910\" style=\"display: none;\"><div style=\"display: table-cell;\"></div><div style=\"display: table-cell;\">subscribed_events&nbsp;=&nbsp;[],</div></div><div class=\"c4c9475a-617d-44c8-81d1-9787d503f910\" style=\"display: none;\"><div style=\"display: table-cell;\"></div><div style=\"display: table-cell;\">tags&nbsp;=&nbsp;[],</div></div><div class=\"c4c9475a-617d-44c8-81d1-9787d503f910\" style=\"display: none;\"><div style=\"display: table-cell;\"></div><div style=\"display: table-cell;\">view&nbsp;=&nbsp;CDSView(id='0f868cb9-201b-43c9-9419-9b2fedaa725f', ...),</div></div><div class=\"c4c9475a-617d-44c8-81d1-9787d503f910\" style=\"display: none;\"><div style=\"display: table-cell;\"></div><div style=\"display: table-cell;\">visible&nbsp;=&nbsp;True,</div></div><div class=\"c4c9475a-617d-44c8-81d1-9787d503f910\" style=\"display: none;\"><div style=\"display: table-cell;\"></div><div style=\"display: table-cell;\">x_range_name&nbsp;=&nbsp;'default',</div></div><div class=\"c4c9475a-617d-44c8-81d1-9787d503f910\" style=\"display: none;\"><div style=\"display: table-cell;\"></div><div style=\"display: table-cell;\">y_range_name&nbsp;=&nbsp;'default')</div></div></div>\n",
       "<script>\n",
       "(function() {\n",
       "  var expanded = false;\n",
       "  var ellipsis = document.getElementById(\"75171aba-4bff-4048-9fc2-13ce2738c618\");\n",
       "  ellipsis.addEventListener(\"click\", function() {\n",
       "    var rows = document.getElementsByClassName(\"c4c9475a-617d-44c8-81d1-9787d503f910\");\n",
       "    for (var i = 0; i < rows.length; i++) {\n",
       "      var el = rows[i];\n",
       "      el.style.display = expanded ? \"none\" : \"table-row\";\n",
       "    }\n",
       "    ellipsis.innerHTML = expanded ? \"&hellip;)\" : \"&lsaquo;&lsaquo;&lsaquo;\";\n",
       "    expanded = !expanded;\n",
       "  });\n",
       "})();\n",
       "</script>\n"
      ],
      "text/plain": [
       "bokeh.models.renderers.GlyphRenderer(\n",
       "    id='812a3153-45a0-4836-bac6-2afa931f28ed',\n",
       "    data_source=bokeh.models.sources.ColumnDataSource(\n",
       "        id='dbe571e8-176d-4fdb-86d7-61f05555856f',\n",
       "        callback=None,\n",
       "        data={'sentiment': [3.8626202602795057,\n",
       "          3.7091743282311755,\n",
       "          3.119053331844791,\n",
       "          3.3610808200809155,\n",
       "          3.162519979269114,\n",
       "          3.809844959535309,\n",
       "          3.440965565623802,\n",
       "          2.7984777220199124,\n",
       "          3.797325450673898,\n",
       "          3.9489724206028143,\n",
       "          3.496125974859684,\n",
       "          4.3031879859443265,\n",
       "          3.4468971209630297,\n",
       "          4.271512630303137,\n",
       "          4.219704692332905,\n",
       "          2.5073746165993334,\n",
       "          3.84193067898325,\n",
       "          3.126493026958114],\n",
       "         'imgs': ['https://media.thecapitalgrille.com/images/site/ext/locations/TCG-8039-WallStreet-NewYork-NY-Ext-574x250.jpg',\n",
       "          'https://media.thecapitalgrille.com/images/site/ext/locations/TCG-8021-NewYork-NY-Ext-574x250.jpg',\n",
       "          'https://cdn3.gbot.me/photos/l4/vJ/1362686576/-The_Capital_Grille___Midt-20000000005720086-500x375.jpg',\n",
       "          'data:image/jpeg;base64,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',\n",
       "          'https://media.olivegarden.com/en_us/images/marketing/olive-garden-tuscan-italian-restaurant-g5-rdv.jpg',\n",
       "          'https://media.olivegarden.com/en_us/images/marketing/italian-family-restaurant-olive-garden-g6-r1x1.jpg',\n",
       "          'https://cdn20.patchcdn.com/users/22866740/20161213/045556/styles/T800x600/public/article_images/harlem_olive_garden2-1481666140-3458.jpg',\n",
       "          'https://media.olivegarden.com/en_us/images/product/exterior-olive-garden_599x430.jpg',\n",
       "          'https://media.olivegarden.com/en_us/images/marketing/italian-restaurant-olive-garden-location-g4-rdv.jpg',\n",
       "          'https://s3-media2.fl.yelpcdn.com/bphoto/hNEB_tmLB2NstFOqikNnmA/ls.jpg',\n",
       "          'https://igx.4sqi.net/img/general/200x200/57505988_DlbvbXrBsjQ8UJN-GlGExbRXjG8ycqgUbV_FH64S5-s.jpg',\n",
       "          'https://media.longhornsteakhouse.com/en_us/images/marketing/LH_BuildingFront_599x430.jpg',\n",
       "          'http://1.bp.blogspot.com/-uo6F9C4LyW4/VE9-N1NqbPI/AAAAAAAA39M/c7bBuGbwD2Q/s1600/longhorn.jpg',\n",
       "          'https://s3-media4.fl.yelpcdn.com/bphoto/A_r9lDoueqPV_d1blHds_A/ls.jpg',\n",
       "          'https://media.yardhouse.com/en_us/images/marketing/yonkers-ny-yard-house-599x430.jpg.jpg',\n",
       "          'https://media.seasons52.com/en_us/images/marketing/seasons52-4521-garden-city-ny-d-599x430.jpg',\n",
       "          'data:image/jpeg;base64,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',\n",
       "          'https://media.bahamabreeze.com/en_us/images/marketing/paramus-nj-bahama-breeze-599x430.jpg'],\n",
       "         'name': ['The Capital Grille',\n",
       "          'The Capital Grille',\n",
       "          'The Capital Grille',\n",
       "          'Olive Garden Italian Restaurant',\n",
       "          'Olive Garden Italian Restaurant',\n",
       "          'Olive Garden Italian Restaurant',\n",
       "          'Olive Garden Italian Restaurant',\n",
       "          'Olive Garden Italian Restaurant',\n",
       "          'Olive Garden Italian Restaurant',\n",
       "          'Olive Garden Italian Restaurant',\n",
       "          'Olive Garden Italian Restaurant',\n",
       "          'LongHorn Steakhouse',\n",
       "          'LongHorn Steakhouse',\n",
       "          'LongHorn Steakhouse',\n",
       "          'Yard House',\n",
       "          'Seasons 52',\n",
       "          'Seasons 52',\n",
       "          'Bahama Breeze'],\n",
       "         'x': [-8238863.270877266,\n",
       "          -8234857.327681579,\n",
       "          -8235537.378450836,\n",
       "          -8235919.538262728,\n",
       "          -8243256.717220403,\n",
       "          -8223039.316580493,\n",
       "          -8231632.290713807,\n",
       "          -8223062.6936735585,\n",
       "          -8218162.743647312,\n",
       "          -8206808.934822832,\n",
       "          -8244131.465779058,\n",
       "          -8249737.515335407,\n",
       "          -8222939.574316742,\n",
       "          -8245665.559681679,\n",
       "          -8221754.467017756,\n",
       "          -8194832.738725331,\n",
       "          -8274692.89614246,\n",
       "          -8244159.9635687005],\n",
       "         'address': ['120 Broadway, New York, NY 10271',\n",
       "          '155 E 42nd St, New York, NY 10017',\n",
       "          '120 W 51st St, New York, NY 10020',\n",
       "          '2 Times Sq, New York, NY 10036',\n",
       "          '500 State Rt 3, Secaucus, NJ 07094',\n",
       "          '92-10 59th Ave, Elmhurst, NY 11373',\n",
       "          '100 W 125th St, New York, NY 10027',\n",
       "          'Located in, Gateway Center',\n",
       "          '200 Baychester Ave, Bronx, NY 10475',\n",
       "          '610 W Sunrise Hwy, Valley Stream, NY 11581',\n",
       "          '1620 Bergen Town Ctr, Paramus, NJ 07652',\n",
       "          '907 Bayonne Crossing Way, Bayonne, NJ 07002',\n",
       "          '92-30 59th Ave, Elmhurst, NY 11373',\n",
       "          '160 State RT 17 N, Rochelle Park, NJ 07662',\n",
       "          '237 Market St, Yonkers, NY 10701',\n",
       "          '630 Old Country Rd, Ste Ll02, Garden City, NY 11530',\n",
       "          '217 Lafayette Ave, Edison, NJ 08837',\n",
       "          '1600 Bergen Town Ctr, Paramus, NJ 07652'],\n",
       "         'y': [4969465.206033232,\n",
       "          4975686.538804804,\n",
       "          4977148.026834744,\n",
       "          4976914.938273067,\n",
       "          4981649.666989606,\n",
       "          4973221.094689469,\n",
       "          4984057.675540461,\n",
       "          4961025.704994309,\n",
       "          4992638.251474804,\n",
       "          4963069.2242032075,\n",
       "          5000083.7520073755,\n",
       "          4962480.894642034,\n",
       "          4973259.5849254895,\n",
       "          4997955.2963259,\n",
       "          5007302.312651462,\n",
       "          4974107.143081382,\n",
       "          4945595.246709672,\n",
       "          5000091.117713563]},\n",
       "        js_event_callbacks={},\n",
       "        js_property_callbacks={},\n",
       "        name=None,\n",
       "        selected=bokeh.models.selections.Selection(\n",
       "            id='221a9352-3e92-4f54-b90e-0b212755add9',\n",
       "            indices=[],\n",
       "            js_event_callbacks={},\n",
       "            js_property_callbacks={},\n",
       "            line_indices=[],\n",
       "            multiline_indices={},\n",
       "            name=None,\n",
       "            subscribed_events=[],\n",
       "            tags=[]),\n",
       "        selection_policy=bokeh.models.selections.UnionRenderers(\n",
       "            id='442a4e57-570d-46ec-955b-edcf06ace1bd',\n",
       "            js_event_callbacks={},\n",
       "            js_property_callbacks={},\n",
       "            name=None,\n",
       "            subscribed_events=[],\n",
       "            tags=[]),\n",
       "        subscribed_events=[],\n",
       "        tags=[]),\n",
       "    glyph=bokeh.models.markers.Circle(\n",
       "        id='3430c11c-f371-4501-a738-a5769986b3ca',\n",
       "        angle={'value': 0.0, 'units': 'rad'},\n",
       "        fill_alpha={'value': 1.0},\n",
       "        fill_color={'field': 'sentiment',\n",
       "         'transform': bokeh.models.mappers.LogColorMapper(\n",
       "             id='e8245372-2a5b-434f-be76-46624ae54220',\n",
       "             high=None,\n",
       "             high_color=None,\n",
       "             js_event_callbacks={},\n",
       "             js_property_callbacks={},\n",
       "             low=None,\n",
       "             low_color=None,\n",
       "             name=None,\n",
       "             nan_color='gray',\n",
       "             palette=['#a6cee3', '#1f78b4', '#b2df8a', '#33a02c', '#fb9a99'],\n",
       "             subscribed_events=[],\n",
       "             tags=[])},\n",
       "        js_event_callbacks={},\n",
       "        js_property_callbacks={},\n",
       "        line_alpha={'value': 1.0},\n",
       "        line_cap='butt',\n",
       "        line_color={'value': '#1f77b4'},\n",
       "        line_dash=[],\n",
       "        line_dash_offset=0,\n",
       "        line_join='miter',\n",
       "        line_width={'value': 1},\n",
       "        name=None,\n",
       "        radius=None,\n",
       "        radius_dimension='x',\n",
       "        size={'value': 10, 'units': 'screen'},\n",
       "        subscribed_events=[],\n",
       "        tags=[],\n",
       "        x={'field': 'x'},\n",
       "        y={'field': 'y'}),\n",
       "    hover_glyph=None,\n",
       "    js_event_callbacks={},\n",
       "    js_property_callbacks={},\n",
       "    level='glyph',\n",
       "    muted=False,\n",
       "    muted_glyph=None,\n",
       "    name=None,\n",
       "    nonselection_glyph=bokeh.models.markers.Circle(\n",
       "        id='e1ce2c31-e1cd-4235-9424-dc1bba4dc4be',\n",
       "        angle={'value': 0.0, 'units': 'rad'},\n",
       "        fill_alpha={'value': 0.1},\n",
       "        fill_color={'value': '#1f77b4'},\n",
       "        js_event_callbacks={},\n",
       "        js_property_callbacks={},\n",
       "        line_alpha={'value': 0.1},\n",
       "        line_cap='butt',\n",
       "        line_color={'value': '#1f77b4'},\n",
       "        line_dash=[],\n",
       "        line_dash_offset=0,\n",
       "        line_join='miter',\n",
       "        line_width={'value': 1},\n",
       "        name=None,\n",
       "        radius=None,\n",
       "        radius_dimension='x',\n",
       "        size={'value': 10, 'units': 'screen'},\n",
       "        subscribed_events=[],\n",
       "        tags=[],\n",
       "        x={'field': 'x'},\n",
       "        y={'field': 'y'}),\n",
       "    selection_glyph=None,\n",
       "    subscribed_events=[],\n",
       "    tags=[],\n",
       "    view=bokeh.models.sources.CDSView(\n",
       "        id='0f868cb9-201b-43c9-9419-9b2fedaa725f',\n",
       "        filters=[],\n",
       "        js_event_callbacks={},\n",
       "        js_property_callbacks={},\n",
       "        name=None,\n",
       "        source=bokeh.models.sources.ColumnDataSource(\n",
       "            id='dbe571e8-176d-4fdb-86d7-61f05555856f',\n",
       "            callback=None,\n",
       "            data={'sentiment': [3.8626202602795057,\n",
       "              3.7091743282311755,\n",
       "              3.119053331844791,\n",
       "              3.3610808200809155,\n",
       "              3.162519979269114,\n",
       "              3.809844959535309,\n",
       "              3.440965565623802,\n",
       "              2.7984777220199124,\n",
       "              3.797325450673898,\n",
       "              3.9489724206028143,\n",
       "              3.496125974859684,\n",
       "              4.3031879859443265,\n",
       "              3.4468971209630297,\n",
       "              4.271512630303137,\n",
       "              4.219704692332905,\n",
       "              2.5073746165993334,\n",
       "              3.84193067898325,\n",
       "              3.126493026958114],\n",
       "             'imgs': ['https://media.thecapitalgrille.com/images/site/ext/locations/TCG-8039-WallStreet-NewYork-NY-Ext-574x250.jpg',\n",
       "              'https://media.thecapitalgrille.com/images/site/ext/locations/TCG-8021-NewYork-NY-Ext-574x250.jpg',\n",
       "              'https://cdn3.gbot.me/photos/l4/vJ/1362686576/-The_Capital_Grille___Midt-20000000005720086-500x375.jpg',\n",
       "              'data:image/jpeg;base64,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',\n",
       "              'https://media.olivegarden.com/en_us/images/marketing/olive-garden-tuscan-italian-restaurant-g5-rdv.jpg',\n",
       "              'https://media.olivegarden.com/en_us/images/marketing/italian-family-restaurant-olive-garden-g6-r1x1.jpg',\n",
       "              'https://cdn20.patchcdn.com/users/22866740/20161213/045556/styles/T800x600/public/article_images/harlem_olive_garden2-1481666140-3458.jpg',\n",
       "              'https://media.olivegarden.com/en_us/images/product/exterior-olive-garden_599x430.jpg',\n",
       "              'https://media.olivegarden.com/en_us/images/marketing/italian-restaurant-olive-garden-location-g4-rdv.jpg',\n",
       "              'https://s3-media2.fl.yelpcdn.com/bphoto/hNEB_tmLB2NstFOqikNnmA/ls.jpg',\n",
       "              'https://igx.4sqi.net/img/general/200x200/57505988_DlbvbXrBsjQ8UJN-GlGExbRXjG8ycqgUbV_FH64S5-s.jpg',\n",
       "              'https://media.longhornsteakhouse.com/en_us/images/marketing/LH_BuildingFront_599x430.jpg',\n",
       "              'http://1.bp.blogspot.com/-uo6F9C4LyW4/VE9-N1NqbPI/AAAAAAAA39M/c7bBuGbwD2Q/s1600/longhorn.jpg',\n",
       "              'https://s3-media4.fl.yelpcdn.com/bphoto/A_r9lDoueqPV_d1blHds_A/ls.jpg',\n",
       "              'https://media.yardhouse.com/en_us/images/marketing/yonkers-ny-yard-house-599x430.jpg.jpg',\n",
       "              'https://media.seasons52.com/en_us/images/marketing/seasons52-4521-garden-city-ny-d-599x430.jpg',\n",
       "              'data:image/jpeg;base64,/9j/4AAQSkZJRgABAQAAAQABAAD/2wCEAAkGBxISEhUSExMVFRUXFhUVFxcYFxcXFRcXFxUXFxUXGBkYHSggGBolHRUXITEiJSkrLi4uFx8zODMtNygtLisBCgoKDg0OGhAQGi0lHyUvLS0tLS0tLS0tLS0tLy0tLS0tLS0tLS0tLS0tLS0tLS0tLS0tLS0tLS0tLS0tLS0tLf/AABEIAL4BCQMBIgACEQEDEQH/xAAbAAABBQEBAAAAAAAAAAAAAAABAAIDBQYEB//EAEYQAAEDAgMDCQUFBwMCBwEAAAEAAhEDIQQSMQVBUQYTImFxgZGh0TJCUrHBFBUj4fBDU2JykqKyB4LSwvEzc5Ojs8PTFv/EABkBAAMBAQEAAAAAAAAAAAAAAAABAwIEBf/EAC8RAAICAQIFAQcDBQAAAAAAAAABAhEDEiEEEzFBUSIFMmFxgcHwFEJSIzORsdH/2gAMAwEAAhEDEQA/APNYQRlBe7R5tiQRSTM2BJFBAhJJJJiYkkkkGRSgikgAJIpIACSKSAAikkgAJJJIASSUJjngakDvCVjQ9JNaQbgyEUWOgpJJINUEIoBFFjoSSMJQnYUIIpQkkOhJJJIHQEkUErCgIpJIsVASRSQZaAgnIIMsCSK7KWyg4AmpUEwYgAX4G8hTzZo4lbN48TyOkccIFXLNh0YBl7u1zoPg0fNPbgsMOiKYnqJd/lPzXN+vXaLL/pGuskUJqN+IeKZz7eM9gK1dHB0x7NNjRvdkafNw+UBdjKcCQCOxsA9QtCjL2g+0SkeCXdmMbmOjHnsaVMcHW/cvHbDfmtiKANyAP5Q0H8vBPewAyPUz/t7lN+0Mj6IouCh3ZkG7KxB9xoHEun/GSpPuStMF9OdwAcfN0ALSxHvQb2zX7o0nRS0gALA9kjf3hSlxuZ9yi4XF4Mz/APz7/erX4NZP9wkT1KQcnGnV9Y9ctaO+QtASODYA0lodx3QPKVCardXRPCL+OsqT4jK+rZtYca6JFGeT1K5LXEdbwfMOaPNS/ddAAfgtb/M1xn+qT81b1I3tDTuJa2w4gkGR4IFhFp7YEf2tupOcn1ZVRS6Ipq+wQRmpFrHb26MMdRuw9fiqh7S1xa5pa8atOo6+sdYW3oN0EaWiC0jgNbfI20Tcds5lYAPHGHCGlvWHXjjwtB3K/D8fLE6luieXhI5Fa2ZikVPj8E+iendh0foOxw90+RUK9vHljkjqizzJ45QdSQkkUVQQEkUkDEiikgKGwjCKMIGMSRQWRASRhCECEklCSYqEkgigw0ILTYOmTTYAQeiJBB+G2pAIWZW12VPNU4HuN1P8O6TA8Fw8e/TH5nTwadyrwWuzeRVbEjnHkUaAuX1DAPZxHl1qy+6ti0RlNSrVd8TBDZ6v0VZ1OV3PtZSqYWnWggAXudLASrbFcmcABTr16f2fNDTTzdHMbiSNLA8O5c8ZKjU4u7/2eY4XBVKjjzVJzwAS50EkNjyAQHScGsYXu0AFxPZe/YF7XXwDH4cswxyMe0hnNw0EkHpOdEx876yq/YWzMLg2MNOpSJLsr6ziMxIMZWbgJ8uOow4wfY2nNbWea4fYuIqvbh+bLKx3OBGVuud3AQuzZfIzF1zUpWp82S11Q+84aNaQPP1W7xe1cNRruzVC99UxUqMj8OmJyUwW6dcX1NrKCpyva7EESfs5blBbZ8mOmN/VrpdL0odTl1bMjR/06x5aZqNZawzjMYFh0Rr3qNnIXEsxNKm54dNIue73aTbtOYkQ427/ADV5X5Q5cTXrsbd7clMu1ZAaM0XF8sx1qHA8o8SeZosLXFrtCJNQkmA8ze56uKXMi9vsPlSW+/8Akzu0eRuLp4uo2hTdWbaH5YaQWgi4gCO1dA5BY9w/FfRojg57fpJW927ga2JDKAxTadUAveGZpLiLNsegwCwnXt1zGB5GOc4tdjKZrQTzYOc2G92oVGlV0S9V1br5mcx2wzhS2nz9Or0S7NTktBkiCc0THVouLUe0I7LSPHxB3WU9AiXi8tMGTExwvdSupmJJk8SCItxGp8V5+Z1I9LCk4qmc7GAiZiREu077jcVNzMQO8xpfhB6PbdS81YXB3bp/Pw9VK1mm6d8we6NFzNnSkVtekCCIEEFsRx7iI7IWQ2jhW06jmNENEECSQJE2ncttVpCTI7+O7rt+u3J8oWxXd2N4/COK9L2Y/wCq18P+HFxy9H1KwIopQvePLSIa9drBLpvay5jtVnwu8vVHa46Lf5voVVwuLPnnCVI6IY01bLE7XG5h8fyTDtd25g8SuGEoUHxOTyU5UTrO1anBo7j6pv3nV/h8AuWEoWefk8j0R8F+7EMHvt8Qo3Y2mPfHdJ+SpwwcE4NVnxcvBPko0GEouqsNSmC5oJaY1kAHQ33hMc2DBseBsU/k7am7+c/4tV/RxZjK8MqN+F7Q7wOq1Hi/5IxLC+xnYQWhq4bCv9x9E8WnOzwdfwVZjsGymC4Yig8DdnDX/wBB9V0RzQl0ZJwkuxwwlChOMp/F5H0TTjmdfgtc2HlC5cn2OhbvZ1E8zRIB/wDDZw+AHtXngxjeDvAeq2WzeVeFbSpsdzoLWMaTlkS1oB3rz/aEtcY6N9zr4OOiT1Gz5NbTZhKjqhpl5LYbeC07zpv4hN2xtavjKrGwAJDadMRl6Vhrv6yss3lNhTIzkcJY/wA4Ckbt+g0hwqgEEEEB2YEQQeMrhhKeyaZ0zhB72bipU2l9nfQhjadAZXkOGcgMD8tiZEEcOC4hyWxZqClzlJr8nOT0i3KXBoHs6ysieVdETNSpBkkAOuSIMgmDayc7lhh9/POtwbPm76q7k3+1kFBL9xsdl7KdnoufVpuY+pTBpavhxcCD1dDvzdSY3YlMijV+0ZZcxrqYDYa0lwJImbAA3EXCyeG5b0WOa9rKuZpBBOQCQZG8rnfy4b7tAxumpf8AxWKlW0Ddw7yNcdk4ZtQ5a9R7DUw5Jkk5Zc6rFpEQy0b9FxO2W1lI5K34zKxexwY7psMEXIBaQ5z9eAWWfy6qH9izxd9IXJU5Z1z7lID+Vx/6lpLL/FGW8XlnrtblJRo0DSwzXZ3N6b3AA5j7TydXOueoeSdsbaOBw+GyhzxUe38RzG9Od4a51gNY8dV407lViD7zR2MH1lQu5SYg/tT4N9FpRyd6MOWPtZ6jiPu8McKWFfmIID3vMgnflBIKq20rQG92WPpcarzfEberu/avHY4j5QuGttOu6xrVSOuo/wBVLLw857tlcOaENoo9UfTyu4brk/XTXgp2NBE6jiCD9V4tUeXe0Se0k/NW3I7E1GYui2m5wD3tDmg2cNSCNDYLnlwtJuzpXEW6o9HqtvEx8uHqshykb+O7sb/iFtsSwh/fw7+4LH8rnNGIPSb7DN44K/s3+79H9jHGe59SlhJMdiKY99viEw4yn8Y8z9F7uuPk8xRZBtYdFv8AN9CquF37QxLHABpmDOhG7rXDIXncQ052jpxqkNSRlKVAoNKSSSBEkjinAhQhoUrjGqBpFhgdp80wtDZJcTJMDQDv0Tau2KztHBvU0R5mSq0VupPdXdpAH5FKxpIlqF7vaLj/ADE9vvJlVmXUt4QCCfLco3vcdTKTWRwT3E2gGoOtODwgGhObT6vJMVjw48D+STay6KWAqm4pP7cpHmQg6mW2MDvHqhSXkdMaysOtStq9vgU2R8Tf6h9CpqTJBnRPUZoIfZEvRo2me1Novlt41I3eK0pmWkEJpJUTcZ1Jc+D1LWpmXGD6DsxQzJpTCVvUTcCRzkHOUbimlyLM6R5KaSm5klOTLxQio3OIMgkHiLFSKKopmwueTqSe0z802EgikMEJQikgY2EoRSSAASRSQMCSSSAEiDGiCSBHRhS0vbzhcGTctALgOIBIk94UdWmQdCBIiRAhNWu5O4acO09G5fvGY9MgWmw3TB9cTlpVmkrKDCYBzjoZvEjXs4puMphjGfiONQgl7ZgNvDRa+aLnuWveBThrmuZvEBkGPeDmtltuIUfLMNdVYSHk820ZnnNIExBcATYx3KPO3Kcow7q7zbMSO0pknq8J+a6az6btGZew/mB5IUNm1XMNQN6A1cTA81fUkt9iWlvoClXcPhHXzdM+cIVHmbuI7gPIJgYe3sup3YapmhzSDvzcE7SDcjqvE2eXdd/qr3CbLdVoyz3hGhMTxgKq2nUdnLcr2AR0X3doLy5odB3A6DitTsB5dSpAtZUDWxBMESTuGvfwCxknUbQ4Rt0QN2G5zSCS06aZiW73ZbOHh3qDa3I6tRAeHseCM3wkDUzNvNaHawFNpDC1tpIAsdI1B0J4jVaTlPSzYWk8AQGQDMWjXj3KCzyVFXiieMPBFyE0OUr2lsaaai3yVngcGarGhlNpfmPSuSRwIERHbvXZzElbObl2VJIjfMpvOlXm0tmVQOmIi50jTd6XK4to7HfSZTqkjLUnLuNuMprLF9xcpo4HPTSUMpUopngfApuQKIGop7aLjo1x7GlBzCLEEdohZ1GtI1RvUzWE2AkqN4RYNMYEUQ08E4MPA+CVhRGipRh3/C7wKP2Sp8Dv6SlqXk1pZCkpDQeNWu8Cm5DwKLQUxiSk5h+uUgdYhMjs8Qi0OmBFNLkM4TEdTMBVOlN3y+anbsXEnSi7y9VVPqE6klFizUvK/PqFotvuXEDWkR3t9VtuSVF1OgwOa6czpDZJs8kRlvvK83abr1//AEtptd9nENLvxYDtCMxmR2x4Lk4ucseNy6l8KjKRS7eqjnmNp84HGHkVGkcYdfXTyXLt8yGglpLScxAaJLgNQIjSIIBt1ytFy6YG44SGgikD0dB0nmRHZqsvtHI4ZiRmMEgTDhpMntHhqubBk5kFKi846WZjEYEN98G+4H0UDKmU2cR3wrHGUwNOJG70XBzNz2r0I21uc86T2R6PsPY9F1MVTTaXQYIa3N3k79biFmuUGHDKpDRqJ0y3jgvRtg7JccI4trBmTox0ZJgOJAc07ybLF7SBL6VSRJaXWjfBsAZJv5Lz8eaM5NJ9C8oNKyo5SMa+vLi+7GEZvaiDGm7turvkXgaj6jGUSJc10AtJBjS2YXnes7ygr5qwIIMsbcAtEy4GziSDZbD/AE5xTG1aPOPygZ5Oka7zbeq8VKUOH1R60Zw1KdNEnLelWpPZSfFw4uEEaOLbSTxKtNoPnDZTF2exO4jcZMDdEdhvC5f9QMZSOJYabs4y1Lkz+0JE3XM7FudRHsuAaWmxBk6gkuN5mAd4Chw8pSxJv83ZTKkpbHn5ySIaOsfRavkXhm1HucGsECA2JaAToJPUeKymJrZ3SYG6widbmSbre/6bYFry0PDixxIOUToTHbvXZxUljxuTObh3KezRJyu2aObd8QBMgAAQOoFcnKhgbhcNpZ0TETLL2tG7crHlNQYypWZTa7KGAweiLh4M2JB6O7yVNyqeX4Wi03OdoFySTldNiey8DsUMM1kjFroy01okygpSHuYRDhu37uErpbWy6ubeRcW8xdVuzGtbUDgAYFxc2tOi2uPotZSBAqAmIkFovcCeydVvLUJJMcG5q0UuCo5g8mPbcLWFo4Kg2jiiyrUblBgj/Edq2exsP0HW/aOHy4LH7dw/49Y2EPaP7AtYWnN2Yy3pVHA2vLhMtF7tifkmGg7r8FNsyiXVAIzWcYH8pvdLDOMgOmN/SAXXfg5W3VsgouIdcmLSBqunC42pzjAHuyl7RE7i4WTMLmfUDGgS7I0Xjfbd1o0C4Vgw2/GZI6w+PVDSdjTZ6BRDuJUeKa6NSrPC0bKPH0rLyU31PSsx+0ZhVVFkuVxtLeuHZ9GSSuqDqLIPqNx9P8N3Yfkq7Zey6ld2Wmxz4EmATA3TGiu9pU/w3/yn5KLk7yqqYWm+kAC195gZgYjU7upbhKfLehWyWTS5LV0K5+C5sua5rZu0zeL3I67fNQ8w3q81FUeXEuJkkkk8SbklM7/kutRfchZZ4nBUgYDY7z6q7w2zMM2mXOotNrSXevFUdYyZWg2lhng4ahYF1Nrjrvc52/qI81xycqW50rSn0O/YuwaHN84+iwl12gjQcbqy2PSy1SGRTYwBsgEZQZcQIB1JJPcuxzgGgCwAAHcs46u3nHnLq72jYA5d2aAdOK516209yvu00WnKTDsaTUbUe9waGkugwINgNdXeaoDTgRJzEnQzn1Og01+a7cVtFz5DS24EiJJiYEDNOs6fRVlSqTYwDpoATuGkSVWMdKSMuVuzk2lQygaXPGVWNcJnW/etLyzwnNNp6SXO4k6DW5krJ4cS4mfeHCPkujE/QRy+8e3bE2q5tCrSbRa/MS6ZZPsxaD1cVhdpio3mQ8ZXNEe6y4AEZs1+GgVthdohgylwswiS5zGDdGnSM9Q7AqjbdQS2fhvD3EXiIzQBv0touCGGMJOSXX8+50SnaSKLazi7FMD5BLWAza4LgD1jS60HJsNpkPqljdYDpIjOQSJibysltUEVWmbwImxAFweEXO/ctDsyq4gEZuotnWd5Fjpv6l2SVwRCLqTNLt+nQrD8Kmwm0ObMyNbibX6lT4J+dkWdDXHKCWuADdPZBI1gzqocTjc1ntgnoic5BGWHEE3DribHdwXRyUbm5xriSTTcxovl6QgXHXun5qaWmBqUrkYkvuV6DyBxFSmKdSkAHCekQ68kgCwv4rzSo45j2u+ZW15OYsMw7MoBMkXne4ybafqytxMVPHTJ4XUjRcqG1TUqvfD3Op5bMsIDtXO9n2t3BZnabwGUgC4AVBIOb4XEXIvftMEKw2jihUa/o5jl9vmzlESY6cdRzDSOwKi2riHZGkw2Xg+1OjXWJIa4XJjyUcUNMUkVySt2c+yKvTcDEQ6JnWQvXNuV6dTD4doqtc4ZZaABls7WNfzXkewWB1UgiRlJMXJgi1zBXpezq7ajWNyNFyAQ0A9W4KHF4deSMr6FcM6g0M2bhQGP/wDMf2btFgeUBAq4kT+0Z/8AGF6TSqBjarTuqv3zOi8u27XmviOBe3/ABVwdX+d0Yy+6jh2VWDagJj2XamNRCiqPEm414qKkROnH5J9Q3PauytzlJ9kYhrK7HOIDQ5szEWnfuTedDsSHDQ1gf/cCiwb4qAi2iYypNYO41Af75T7v5CPYsA2QufaxgFQ7Kxoyrj27jREb15iXY9CzL7SqXTtkGQe36LhxT5Kfgg9vSYeMjqhdLj6CF7nfixNJ5/hd8isiFssT0cO5u8tI8Qsk5hywdAqcO6TJZV0I86WdSYYa2B7ezsXR/tb+u5dDkSosthYTn8QymSACZdJjoi7o64VltbaramNBbGVjObZf3QLfVUNEOaSQSDBEwN/emUaJDswJJ7PzUJY23fwN690bB+0ejqqSpUJcTMTvPsnqP6KjYSdSe4D1UzWU2j2nzvlvoTHBRglFl5SbQ5rL5i8jU2kSY3R6qajVlzWFxygiRrab9UlcNKu0usOqb6966S4yNNQb6i+oWproZiaX/VtjWtoBpmS49em+CvNaLyHA29qZ8Fo+Vm324nmoB6BdqRvAA7LhZgNJN7AkXta+qrhhpjTJ5ZWzXYquSZNRxsYIAAudLOB8QEOby5TlAtdvSc0iIm4HVp/3bjKcgHdoCWETBjo627+qyeXCOi0NgC0zJtJgi3mpS6FE9yg21POiBENHzNyrHBNmmw5Jtwka9a5a4zVMwBFogwdJ6+tT0a7miLRwiNSTYh3WrU9KRK1qs6HVjIEyOpv1gJuy9sGhV3xvExxvPC/kEx2IEyGn+rguCrhZJdJvxj1SUU1TFJ+CvxDpe46dJx3cdy0+zMTT+ztY4OAHCDm6UkwRa547lUHZs7+3SVOzGubTFITABF7jWZAmy3NalQQdFjRZPOGXeySJMmbnUKs2nemCc05xJJDr5TwHCNT8k+ltCzg5pMiBEQO0E3XNjqrSwWg5t51se8f91mMWuo3JMn2F7Vi4Q10EQDct61r9j47IWgzbrPdofosbsVwDi6QBlIm9jLSPkrb7wa2IcDceE38lLJG5FYOkXOO2uXVK+U2NV54cFice+alTtHyXXjMaS5xaNXOdM6yZVdUa4kujWN4W8WPS7Mznaoiab70+ev8AXgmGm7gPEIljlciJpvqo2Ohw/mHzTsjkabHAzZMRq8HjrSD2qPGYqVUsxjjqALR23JKT8UDvXLynZ0rIqHVHp+HdfguU1JUuEdeYkDXhe31W5R2Epbnq3JnkbSxWE59z3gh4pwA2ILmCTJ/j8lRf6jcjaeCDche7M0n3REHqmQq7D7Yr0qfNsqODJmGlwaTa+uth4KDHbUqvHTqOeIIIJcYG8e1ouPHgy8xSvY3PLFKjKsokatcAdLETFrcVN9ld8D/ByY+o8mcx6uk45eAE7lL9tr/v6v8A6j/Veh9TnHc7+pukx4J3zwKYXiYN+uxT2Nm4A7gtGTtaCezvReLQBPyQoZpswnx790Su6pgqjhYeL2N+bguRxdnRaKfCMGf/AHD569isnttF95/NHCbGqAkv5sXkfi0p/wAlY/YLQalIf7wf8ZTmm2JNHn4cVNRdJHaPmtQOS9KL4hnYM31YVNT5O4Ye+Xdjw3/6l0a14I6GOdhRuJnjlN+5PNMxc7j7sR28VaCiDYMmNPxGf/mnfYz+6Gh1rN/4LlaZcx5BF+2YtKc09sfrioZvqEDVMxOul11UQJgOJTh3HvUYv+vRIPG/6yigJQ7SPIKvjVd0xxnhp3qv8upaRlhjclWoOe0ZGucc1wBMa3geiYJV3sbabaDZDyHkFpEEgDMSNCP0UpWlsOKTe5X4Og6m052uZJEZgRNilVqdYXfj9sitZ73OAmJa208JJ/QVXW5vdm7Zjy0WEn3KN+BrikHLnkHefFIu4T5eipROyR9RQ86UieKblKdCDzxRc/8AU2UeT9SiGlOhDTWKPPTqj9n603mSlQBNSLLYcidisxNOs95gU2Z9byCNB4DsJWQGHO9T0HvbYOIE34dfkpZsbnGk6NRe+5fy/jv8FE54jox2eKLzN+3jpxHBMFQg3nq8D12Wo9BZOpR0asqaVztokb1JzR4rVBZbjaDOrwPqk/ao3CfEKsY6nvD+4tPzAUoFD4qo7Q36LoJWdf3t/B/d+SZ95v4N8D6qHmaH7139J9EAyh8dT+keqVDsnG1HcG+B9U771PwjxK5jTpbqh72n6JpoN/eN8Hj/AKUUFnYNrH4B/V+Se3aw+A+P5Kv5n+Nni76tTCI3g9iKHqLYbVb8J/tSO0qZsQ7uA+hVQiig1FjzuH4OH9X0KYGYbcXj+tcSQSpCs78lA/tHfrtamjCUiZFU+XyhcaUJ0gssW4Obir/a0pjtkE/tB4fmuIJweR7zh3lGlCtnQNjH943w/NEbGfrnHmuY1HfG7xKcKz/iPff5o0oNTJ/uR/xDxPoj9yv4t8T6KBtd44frsThjKg/KfVGhBqZL9zu+Jg7z6JfdfF9PxIRp7RIEEHtB+hlSN2o2Ltce0NPojSg1EB2e397T8QuTEhrdHBx6gQPGbqz+30z7oHaxvzS56idzR2gR5AI0hqKumWEwSW7vZntm9l1/ZKO+sO4fkp8lM/B3F3/NFuDYY+jj8i0o0vwGpHOaFAftHHsH5KB1SiN1TvLQrM7OZvcR3j0ULtksmzj4A/VZr4D1I4mVqO9r/wCpQvrt3MAE6lxJjjqrH7qA3n+n0con4Hrj/Y5FfAdo6aeKB99u/U6IDFUxvbN7z6blwOwB+P8AtcPooxhT8TT/AFD/AKVlQoJO2dYxlH90PL0S+20f3PkPRcwo9Y/u/wCKPMfrpei3bFsP+xnTM09kn6Jw2c/+Hx9Vx0jferHCU5PhqbaTwVFTJNtETtn1B7s9hBUYwzvhPgrF2JIJt/cR2aBdNHEvLSbQN10UGplK6g4ag+CYG9vgtDSxYPtN38Z3p32YO6UAb7EooNRnAE4NVjjKAGov4+i5iN1t266VBqOfKiGpF5RbUQO2LKjlTgJQb+v13JisaQll61Ixsok/qPzToVkSUKSEoRQWRowpHsCaKXX5IoVjYRRFPrRNOE6FqAEgE/KgAigsblCIYiUpToWpgyoZOxOhCEUGoQaUQ5w0JQypBFD1BNZ/E+KXPP8AiKCUJUa1BGJqfEfL0TvttQcPAfVMyoFqVD1IJxr+DPA/QofbnfA3wPqllRzHj5BFC1H/2Q==',\n",
       "              'https://media.bahamabreeze.com/en_us/images/marketing/paramus-nj-bahama-breeze-599x430.jpg'],\n",
       "             'name': ['The Capital Grille',\n",
       "              'The Capital Grille',\n",
       "              'The Capital Grille',\n",
       "              'Olive Garden Italian Restaurant',\n",
       "              'Olive Garden Italian Restaurant',\n",
       "              'Olive Garden Italian Restaurant',\n",
       "              'Olive Garden Italian Restaurant',\n",
       "              'Olive Garden Italian Restaurant',\n",
       "              'Olive Garden Italian Restaurant',\n",
       "              'Olive Garden Italian Restaurant',\n",
       "              'Olive Garden Italian Restaurant',\n",
       "              'LongHorn Steakhouse',\n",
       "              'LongHorn Steakhouse',\n",
       "              'LongHorn Steakhouse',\n",
       "              'Yard House',\n",
       "              'Seasons 52',\n",
       "              'Seasons 52',\n",
       "              'Bahama Breeze'],\n",
       "             'x': [-8238863.270877266,\n",
       "              -8234857.327681579,\n",
       "              -8235537.378450836,\n",
       "              -8235919.538262728,\n",
       "              -8243256.717220403,\n",
       "              -8223039.316580493,\n",
       "              -8231632.290713807,\n",
       "              -8223062.6936735585,\n",
       "              -8218162.743647312,\n",
       "              -8206808.934822832,\n",
       "              -8244131.465779058,\n",
       "              -8249737.515335407,\n",
       "              -8222939.574316742,\n",
       "              -8245665.559681679,\n",
       "              -8221754.467017756,\n",
       "              -8194832.738725331,\n",
       "              -8274692.89614246,\n",
       "              -8244159.9635687005],\n",
       "             'address': ['120 Broadway, New York, NY 10271',\n",
       "              '155 E 42nd St, New York, NY 10017',\n",
       "              '120 W 51st St, New York, NY 10020',\n",
       "              '2 Times Sq, New York, NY 10036',\n",
       "              '500 State Rt 3, Secaucus, NJ 07094',\n",
       "              '92-10 59th Ave, Elmhurst, NY 11373',\n",
       "              '100 W 125th St, New York, NY 10027',\n",
       "              'Located in, Gateway Center',\n",
       "              '200 Baychester Ave, Bronx, NY 10475',\n",
       "              '610 W Sunrise Hwy, Valley Stream, NY 11581',\n",
       "              '1620 Bergen Town Ctr, Paramus, NJ 07652',\n",
       "              '907 Bayonne Crossing Way, Bayonne, NJ 07002',\n",
       "              '92-30 59th Ave, Elmhurst, NY 11373',\n",
       "              '160 State RT 17 N, Rochelle Park, NJ 07662',\n",
       "              '237 Market St, Yonkers, NY 10701',\n",
       "              '630 Old Country Rd, Ste Ll02, Garden City, NY 11530',\n",
       "              '217 Lafayette Ave, Edison, NJ 08837',\n",
       "              '1600 Bergen Town Ctr, Paramus, NJ 07652'],\n",
       "             'y': [4969465.206033232,\n",
       "              4975686.538804804,\n",
       "              4977148.026834744,\n",
       "              4976914.938273067,\n",
       "              4981649.666989606,\n",
       "              4973221.094689469,\n",
       "              4984057.675540461,\n",
       "              4961025.704994309,\n",
       "              4992638.251474804,\n",
       "              4963069.2242032075,\n",
       "              5000083.7520073755,\n",
       "              4962480.894642034,\n",
       "              4973259.5849254895,\n",
       "              4997955.2963259,\n",
       "              5007302.312651462,\n",
       "              4974107.143081382,\n",
       "              4945595.246709672,\n",
       "              5000091.117713563]},\n",
       "            js_event_callbacks={},\n",
       "            js_property_callbacks={},\n",
       "            name=None,\n",
       "            selected=bokeh.models.selections.Selection(\n",
       "                id='221a9352-3e92-4f54-b90e-0b212755add9',\n",
       "                indices=[],\n",
       "                js_event_callbacks={},\n",
       "                js_property_callbacks={},\n",
       "                line_indices=[],\n",
       "                multiline_indices={},\n",
       "                name=None,\n",
       "                subscribed_events=[],\n",
       "                tags=[]),\n",
       "            selection_policy=bokeh.models.selections.UnionRenderers(\n",
       "                id='442a4e57-570d-46ec-955b-edcf06ace1bd',\n",
       "                js_event_callbacks={},\n",
       "                js_property_callbacks={},\n",
       "                name=None,\n",
       "                subscribed_events=[],\n",
       "                tags=[]),\n",
       "            subscribed_events=[],\n",
       "            tags=[]),\n",
       "        subscribed_events=[],\n",
       "        tags=[]),\n",
       "    visible=True,\n",
       "    x_range_name='default',\n",
       "    y_range_name='default')"
      ]
     },
     "execution_count": 65,
     "metadata": {},
     "output_type": "execute_result"
    }
   ],
   "source": [
    "p.circle(x='x', y='y', fill_color={'field': 'sentiment', 'transform': color_mapper}, size=10, source=select_source())"
   ]
  },
  {
   "cell_type": "code",
   "execution_count": 66,
   "metadata": {},
   "outputs": [],
   "source": [
    "def update(category):\n",
    "    if   category == \"Food\": p.circle(x='x', y='y', fill_color={'field': 'sentiment', 'transform': color_mapper}, size=10, source=select_source())\n",
    "    elif category == \"Service\": p.circle(x='x', y='y', fill_color={'field': 'sentiment', 'transform': color_mapper}, size=10, source=select_source('S'))\n",
    "    elif category == \"Ambiance\": p.circle(x='x', y='y', fill_color={'field': 'sentiment', 'transform': color_mapper}, size=10, source=select_source('A'))\n",
    "    show(p)\n",
    "    push_notebook()"
   ]
  },
  {
   "cell_type": "code",
   "execution_count": 67,
   "metadata": {},
   "outputs": [],
   "source": [
    "color_bar = ColorBar(color_mapper=color_mapper, ticker=LogTicker(),\n",
    "                 label_standoff=12, border_line_color=None, location=(0,0))\n",
    "p.add_layout(color_bar, 'right')"
   ]
  },
  {
   "cell_type": "markdown",
   "metadata": {},
   "source": [
    "Plotting with 3 levels of sentiment"
   ]
  },
  {
   "cell_type": "code",
   "execution_count": 68,
   "metadata": {},
   "outputs": [
    {
     "data": {
      "application/vnd.jupyter.widget-view+json": {
       "model_id": "38a2f8b215c841e69590b00b864652a1",
       "version_major": 2,
       "version_minor": 0
      },
      "text/plain": [
       "interactive(children=(Dropdown(description='category', options=('Food', 'Service', 'Ambiance'), value='Food'),…"
      ]
     },
     "metadata": {},
     "output_type": "display_data"
    },
    {
     "data": {
      "text/plain": [
       "<function __main__.update(category)>"
      ]
     },
     "execution_count": 68,
     "metadata": {},
     "output_type": "execute_result"
    }
   ],
   "source": [
    "interact(update, category=['Food', 'Service', 'Ambiance'])"
   ]
  },
  {
   "cell_type": "code",
   "execution_count": null,
   "metadata": {},
   "outputs": [],
   "source": []
  }
 ],
 "metadata": {
  "kernelspec": {
   "display_name": "Python 3",
   "language": "python",
   "name": "python3"
  },
  "language_info": {
   "codemirror_mode": {
    "name": "ipython",
    "version": 3
   },
   "file_extension": ".py",
   "mimetype": "text/x-python",
   "name": "python",
   "nbconvert_exporter": "python",
   "pygments_lexer": "ipython3",
   "version": "3.6.5"
  },
  "toc": {
   "base_numbering": 1,
   "nav_menu": {},
   "number_sections": true,
   "sideBar": false,
   "skip_h1_title": true,
   "title_cell": "Table of Contents",
   "title_sidebar": "Contents",
   "toc_cell": true,
   "toc_position": {
    "height": "357px",
    "left": "1060px",
    "top": "110.167px",
    "width": "220px"
   },
   "toc_section_display": true,
   "toc_window_display": true
  }
 },
 "nbformat": 4,
 "nbformat_minor": 2
}
