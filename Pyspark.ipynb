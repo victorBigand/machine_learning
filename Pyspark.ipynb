{
 "cells": [
  {
   "cell_type": "markdown",
   "metadata": {
    "toc": true
   },
   "source": [
    "<h1>Table of Contents<span class=\"tocSkip\"></span></h1>\n",
    "<div class=\"toc\"><ul class=\"toc-item\"><li><span><a href=\"#Imports-and-loading-the-data\" data-toc-modified-id=\"Imports-and-loading-the-data-1\"><span class=\"toc-item-num\">1&nbsp;&nbsp;</span>Imports and loading the data</a></span></li><li><span><a href=\"#PySpark-transformations-and-actions\" data-toc-modified-id=\"PySpark-transformations-and-actions-2\"><span class=\"toc-item-num\">2&nbsp;&nbsp;</span>PySpark transformations and actions</a></span></li></ul></div>"
   ]
  },
  {
   "cell_type": "markdown",
   "metadata": {},
   "source": [
    "# LAB 1 - PySPARK"
   ]
  },
  {
   "cell_type": "markdown",
   "metadata": {},
   "source": [
    "## Imports and loading the data"
   ]
  },
  {
   "cell_type": "code",
   "execution_count": 1,
   "metadata": {},
   "outputs": [],
   "source": [
    "import pyspark\n",
    "import os"
   ]
  },
  {
   "cell_type": "code",
   "execution_count": 2,
   "metadata": {},
   "outputs": [],
   "source": [
    "sc = pyspark.SparkContext()"
   ]
  },
  {
   "cell_type": "code",
   "execution_count": 3,
   "metadata": {},
   "outputs": [],
   "source": [
    "#files = sc.wholeTextFiles(r'D:/Users/Victor/Documents/ING 5/Spark/input1')\n",
    "path = r'D:\\Users\\Victor\\Documents\\ING 5\\Spark\\input1'\n",
    "files = os.listdir(path)\n",
    "dir_rdd = {}\n",
    "for file in files:\n",
    "    name = str(file).split('.')[0]\n",
    "    rdd = sc.textFile(path+'\\\\'+str(file))\n",
    "    dir_rdd[name] = rdd"
   ]
  },
  {
   "cell_type": "code",
   "execution_count": 5,
   "metadata": {},
   "outputs": [
    {
     "data": {
      "text/plain": [
       "['JAN 13',\n",
       " 'FEB 12',\n",
       " 'MAR 14',\n",
       " 'APR 15',\n",
       " 'MAY 12',\n",
       " 'JUN 15',\n",
       " 'JUL 19',\n",
       " 'AUG 15',\n",
       " 'SEP 13',\n",
       " 'OCT 8',\n",
       " 'NOV 14',\n",
       " 'DEC 16']"
      ]
     },
     "execution_count": 5,
     "metadata": {},
     "output_type": "execute_result"
    }
   ],
   "source": [
    "dir_rdd['anger'].collect()"
   ]
  },
  {
   "cell_type": "markdown",
   "metadata": {},
   "source": [
    "## PySpark transformations and actions"
   ]
  },
  {
   "cell_type": "markdown",
   "metadata": {},
   "source": [
    "Let's try to see what is the total revenue per store per year"
   ]
  },
  {
   "cell_type": "code",
   "execution_count": 6,
   "metadata": {},
   "outputs": [],
   "source": [
    "rdd = t.map(lambda w: int(w.split(' ')[1]))"
   ]
  },
  {
   "cell_type": "code",
   "execution_count": 7,
   "metadata": {},
   "outputs": [],
   "source": [
    "rdd2 = rdd.reduce(lambda x, y : x + y)"
   ]
  },
  {
   "cell_type": "code",
   "execution_count": 8,
   "metadata": {},
   "outputs": [
    {
     "name": "stdout",
     "output_type": "stream",
     "text": [
      "The total revenue for Anger is 166\n"
     ]
    }
   ],
   "source": [
    "print('The total revenue for Anger is {}'.format(rdd2))"
   ]
  },
  {
   "cell_type": "code",
   "execution_count": null,
   "metadata": {},
   "outputs": [],
   "source": []
  },
  {
   "cell_type": "code",
   "execution_count": null,
   "metadata": {},
   "outputs": [],
   "source": []
  }
 ],
 "metadata": {
  "kernelspec": {
   "display_name": "Python 3",
   "language": "python",
   "name": "python3"
  },
  "language_info": {
   "codemirror_mode": {
    "name": "ipython",
    "version": 3
   },
   "file_extension": ".py",
   "mimetype": "text/x-python",
   "name": "python",
   "nbconvert_exporter": "python",
   "pygments_lexer": "ipython3",
   "version": "3.6.6"
  },
  "toc": {
   "base_numbering": 1,
   "nav_menu": {},
   "number_sections": true,
   "sideBar": true,
   "skip_h1_title": true,
   "title_cell": "Table of Contents",
   "title_sidebar": "Contents",
   "toc_cell": true,
   "toc_position": {},
   "toc_section_display": true,
   "toc_window_display": false
  }
 },
 "nbformat": 4,
 "nbformat_minor": 2
}
