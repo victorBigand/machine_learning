{
 "cells": [
  {
   "cell_type": "markdown",
   "metadata": {
    "toc": true
   },
   "source": [
    "<h1>Table of Contents<span class=\"tocSkip\"></span></h1>\n",
    "<div class=\"toc\"><ul class=\"toc-item\"></ul></div>"
   ]
  },
  {
   "cell_type": "markdown",
   "metadata": {},
   "source": [
    "# Hidden Markov Model from scratch"
   ]
  },
  {
   "cell_type": "code",
   "execution_count": 63,
   "metadata": {},
   "outputs": [],
   "source": [
    "import numpy as np"
   ]
  },
  {
   "cell_type": "markdown",
   "metadata": {},
   "source": [
    "We initialize the emission and transition probabilities for the encoding and decoding problems"
   ]
  },
  {
   "cell_type": "code",
   "execution_count": 196,
   "metadata": {},
   "outputs": [],
   "source": [
    "Aij = np.array([[1,0,0,0], [0.2,0.3,0.1,0.4], [0.2,0.5,0.2,0.1], [0.7,0.1,0.1,0.1]])\n",
    "Bjk = np.array([[1,0,0,0,0], [0,0.3,0.4,0.1,0.2], [0,0.1,0.1,0.7,0.1], [0,0.5,0.2,0.1,0.2]])"
   ]
  },
  {
   "cell_type": "markdown",
   "metadata": {},
   "source": [
    "Initialization"
   ]
  },
  {
   "cell_type": "code",
   "execution_count": 197,
   "metadata": {},
   "outputs": [],
   "source": [
    "T = 5 #number of time sequencies\n",
    "N = 4 #number of hidden states\n",
    "alpha = np.zeros((N,T)) \n",
    "X = [1,3,2,0] #sequence of X"
   ]
  },
  {
   "cell_type": "markdown",
   "metadata": {},
   "source": [
    "We know that _Z(0)=1_ <br>\n",
    "We initialize the path to one, which contains all the indexes of the highest values associated with a time <i>t</i>"
   ]
  },
  {
   "cell_type": "code",
   "execution_count": 198,
   "metadata": {},
   "outputs": [],
   "source": [
    "alpha[1,0]=1 \n",
    "path = [1]"
   ]
  },
  {
   "cell_type": "code",
   "execution_count": 199,
   "metadata": {},
   "outputs": [],
   "source": [
    "for t in range(1,T):\n",
    "    for j in range(N):\n",
    "        alpha[j,t] = Bjk[j,X[t-1]] * np.sum(alpha[:,t-1]*Aij[:,j])\n",
    "    path.append(np.argmax(alpha, axis=0)[t])"
   ]
  },
  {
   "cell_type": "code",
   "execution_count": 200,
   "metadata": {},
   "outputs": [
    {
     "data": {
      "text/plain": [
       "array([[0.0000e+00, 0.0000e+00, 0.0000e+00, 0.0000e+00, 1.8218e-03],\n",
       "       [1.0000e+00, 9.0000e-02, 5.2000e-03, 5.1920e-03, 0.0000e+00],\n",
       "       [0.0000e+00, 1.0000e-02, 2.1700e-02, 5.4300e-04, 0.0000e+00],\n",
       "       [0.0000e+00, 2.0000e-01, 5.7000e-03, 9.6400e-04, 0.0000e+00]])"
      ]
     },
     "execution_count": 200,
     "metadata": {},
     "output_type": "execute_result"
    }
   ],
   "source": [
    "alpha"
   ]
  },
  {
   "cell_type": "code",
   "execution_count": 205,
   "metadata": {},
   "outputs": [
    {
     "name": "stdout",
     "output_type": "stream",
     "text": [
      "P(x|M) = 0.0018218000000000002\n"
     ]
    }
   ],
   "source": [
    "final_probability = np.max(alpha, axis=0)[T-1]\n",
    "print('P(x|M) = {}'.format(final_probability))"
   ]
  },
  {
   "cell_type": "code",
   "execution_count": 210,
   "metadata": {},
   "outputs": [
    {
     "name": "stdout",
     "output_type": "stream",
     "text": [
      "\t\t___________DECODING PROBLEM___________\n",
      "\n",
      "The most probable sequence of hidden states through which the machine makes the transitions\n",
      "while generating the sequence of the visible states x is: Z1 -> Z3 -> Z2 -> Z1 -> Z0\n"
     ]
    }
   ],
   "source": [
    "print('\\t\\t___________DECODING PROBLEM___________\\n\\nThe most probable sequence of hidden states through which the machine makes the transitions\\nwhile generating the sequence of the visible states x is: Z{} -> Z{} -> Z{} -> Z{} -> Z{}'.format(path[0],path[1],path[2],path[3],path[4]))"
   ]
  },
  {
   "cell_type": "code",
   "execution_count": null,
   "metadata": {},
   "outputs": [],
   "source": []
  }
 ],
 "metadata": {
  "kernelspec": {
   "display_name": "Python 3",
   "language": "python",
   "name": "python3"
  },
  "language_info": {
   "codemirror_mode": {
    "name": "ipython",
    "version": 3
   },
   "file_extension": ".py",
   "mimetype": "text/x-python",
   "name": "python",
   "nbconvert_exporter": "python",
   "pygments_lexer": "ipython3",
   "version": "3.6.5"
  },
  "toc": {
   "base_numbering": 1,
   "nav_menu": {},
   "number_sections": true,
   "sideBar": true,
   "skip_h1_title": true,
   "title_cell": "Table of Contents",
   "title_sidebar": "Contents",
   "toc_cell": true,
   "toc_position": {},
   "toc_section_display": true,
   "toc_window_display": false
  }
 },
 "nbformat": 4,
 "nbformat_minor": 2
}
